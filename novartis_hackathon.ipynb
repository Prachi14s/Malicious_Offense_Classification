{
  "nbformat": 4,
  "nbformat_minor": 0,
  "metadata": {
    "colab": {
      "name": "novartis_hack.ipynb",
      "provenance": [],
      "collapsed_sections": []
    },
    "kernelspec": {
      "name": "python3",
      "display_name": "Python 3"
    }
  },
  "cells": [
    {
      "cell_type": "code",
      "metadata": {
        "id": "f4X2BTUbRKL5",
        "colab_type": "code",
        "colab": {}
      },
      "source": [
        "# NOVARTIS DATA SCIENCE CHALLENGE"
      ],
      "execution_count": 0,
      "outputs": []
    },
    {
      "cell_type": "code",
      "metadata": {
        "id": "D0dbjizlDbvI",
        "colab_type": "code",
        "colab": {}
      },
      "source": [
        "#For this we will follow following steps:\n",
        "# 1. importing dependencies(modules/libraries/packages) & reading/loading train & test data\n",
        "# 2. Data Preprocessing(Statistically, missing values treatment, data cleaning, data transfromation)\n",
        "# 3. EDA of data \n",
        "# 4. Sampling data for applying machine learning.\n",
        "# 5. Standardization& Normalization of data.\n",
        "# 6. Machine learning implementation with multiple classification models.\n",
        "# 7. Performance measures and check which model is giving highest score.\n",
        "# 8. Making predictions on given test data and converted into required submission file (csv format)"
      ],
      "execution_count": 0,
      "outputs": []
    },
    {
      "cell_type": "code",
      "metadata": {
        "id": "udZpNZe6DbmL",
        "colab_type": "code",
        "colab": {}
      },
      "source": [
        "# 1.  importing dependencies"
      ],
      "execution_count": 0,
      "outputs": []
    },
    {
      "cell_type": "code",
      "metadata": {
        "id": "WHQ7q73EDbZ4",
        "colab_type": "code",
        "colab": {}
      },
      "source": [
        "import pandas as pd\n",
        "import numpy as np\n",
        "import warnings\n",
        "warnings.filterwarnings('ignore')\n",
        "import matplotlib.pyplot as plt\n",
        "% matplotlib inline\n",
        "import seaborn as sns\n",
        "from datetime import datetime\n",
        "import datetime"
      ],
      "execution_count": 0,
      "outputs": []
    },
    {
      "cell_type": "code",
      "metadata": {
        "id": "HRdUMGljROZs",
        "colab_type": "code",
        "colab": {}
      },
      "source": [
        "df=pd.read_csv(\"/content/Train.csv\")  # loading train data"
      ],
      "execution_count": 0,
      "outputs": []
    },
    {
      "cell_type": "code",
      "metadata": {
        "id": "IqTber9oROel",
        "colab_type": "code",
        "colab": {}
      },
      "source": [
        "df2=pd.read_csv(\"/content/Test.csv\")    # loading test data"
      ],
      "execution_count": 0,
      "outputs": []
    },
    {
      "cell_type": "code",
      "metadata": {
        "id": "x859_WP-ROjw",
        "colab_type": "code",
        "outputId": "79dd675b-3717-4424-f6d4-0469c4f55286",
        "colab": {
          "base_uri": "https://localhost:8080/",
          "height": 391
        }
      },
      "source": [
        "df.head()   # observing first 5 records of data"
      ],
      "execution_count": 0,
      "outputs": [
        {
          "output_type": "execute_result",
          "data": {
            "text/html": [
              "<div>\n",
              "<style scoped>\n",
              "    .dataframe tbody tr th:only-of-type {\n",
              "        vertical-align: middle;\n",
              "    }\n",
              "\n",
              "    .dataframe tbody tr th {\n",
              "        vertical-align: top;\n",
              "    }\n",
              "\n",
              "    .dataframe thead th {\n",
              "        text-align: right;\n",
              "    }\n",
              "</style>\n",
              "<table border=\"1\" class=\"dataframe\">\n",
              "  <thead>\n",
              "    <tr style=\"text-align: right;\">\n",
              "      <th></th>\n",
              "      <th>INCIDENT_ID</th>\n",
              "      <th>DATE</th>\n",
              "      <th>X_1</th>\n",
              "      <th>X_2</th>\n",
              "      <th>X_3</th>\n",
              "      <th>X_4</th>\n",
              "      <th>X_5</th>\n",
              "      <th>X_6</th>\n",
              "      <th>X_7</th>\n",
              "      <th>X_8</th>\n",
              "      <th>X_9</th>\n",
              "      <th>X_10</th>\n",
              "      <th>X_11</th>\n",
              "      <th>X_12</th>\n",
              "      <th>X_13</th>\n",
              "      <th>X_14</th>\n",
              "      <th>X_15</th>\n",
              "      <th>MULTIPLE_OFFENSE</th>\n",
              "    </tr>\n",
              "  </thead>\n",
              "  <tbody>\n",
              "    <tr>\n",
              "      <th>0</th>\n",
              "      <td>CR_102659</td>\n",
              "      <td>04-JUL-04</td>\n",
              "      <td>0</td>\n",
              "      <td>36</td>\n",
              "      <td>34</td>\n",
              "      <td>2</td>\n",
              "      <td>1</td>\n",
              "      <td>5</td>\n",
              "      <td>6</td>\n",
              "      <td>1</td>\n",
              "      <td>6</td>\n",
              "      <td>1</td>\n",
              "      <td>174</td>\n",
              "      <td>1.0</td>\n",
              "      <td>92</td>\n",
              "      <td>29</td>\n",
              "      <td>36</td>\n",
              "      <td>0</td>\n",
              "    </tr>\n",
              "    <tr>\n",
              "      <th>1</th>\n",
              "      <td>CR_189752</td>\n",
              "      <td>18-JUL-17</td>\n",
              "      <td>1</td>\n",
              "      <td>37</td>\n",
              "      <td>37</td>\n",
              "      <td>0</td>\n",
              "      <td>0</td>\n",
              "      <td>11</td>\n",
              "      <td>17</td>\n",
              "      <td>1</td>\n",
              "      <td>6</td>\n",
              "      <td>1</td>\n",
              "      <td>236</td>\n",
              "      <td>1.0</td>\n",
              "      <td>103</td>\n",
              "      <td>142</td>\n",
              "      <td>34</td>\n",
              "      <td>1</td>\n",
              "    </tr>\n",
              "    <tr>\n",
              "      <th>2</th>\n",
              "      <td>CR_184637</td>\n",
              "      <td>15-MAR-17</td>\n",
              "      <td>0</td>\n",
              "      <td>3</td>\n",
              "      <td>2</td>\n",
              "      <td>3</td>\n",
              "      <td>5</td>\n",
              "      <td>1</td>\n",
              "      <td>0</td>\n",
              "      <td>2</td>\n",
              "      <td>3</td>\n",
              "      <td>1</td>\n",
              "      <td>174</td>\n",
              "      <td>1.0</td>\n",
              "      <td>110</td>\n",
              "      <td>93</td>\n",
              "      <td>34</td>\n",
              "      <td>1</td>\n",
              "    </tr>\n",
              "    <tr>\n",
              "      <th>3</th>\n",
              "      <td>CR_139071</td>\n",
              "      <td>13-FEB-09</td>\n",
              "      <td>0</td>\n",
              "      <td>33</td>\n",
              "      <td>32</td>\n",
              "      <td>2</td>\n",
              "      <td>1</td>\n",
              "      <td>7</td>\n",
              "      <td>1</td>\n",
              "      <td>1</td>\n",
              "      <td>6</td>\n",
              "      <td>1</td>\n",
              "      <td>249</td>\n",
              "      <td>1.0</td>\n",
              "      <td>72</td>\n",
              "      <td>29</td>\n",
              "      <td>34</td>\n",
              "      <td>1</td>\n",
              "    </tr>\n",
              "    <tr>\n",
              "      <th>4</th>\n",
              "      <td>CR_109335</td>\n",
              "      <td>13-APR-05</td>\n",
              "      <td>0</td>\n",
              "      <td>33</td>\n",
              "      <td>32</td>\n",
              "      <td>2</td>\n",
              "      <td>1</td>\n",
              "      <td>8</td>\n",
              "      <td>3</td>\n",
              "      <td>0</td>\n",
              "      <td>5</td>\n",
              "      <td>1</td>\n",
              "      <td>174</td>\n",
              "      <td>0.0</td>\n",
              "      <td>112</td>\n",
              "      <td>29</td>\n",
              "      <td>43</td>\n",
              "      <td>1</td>\n",
              "    </tr>\n",
              "  </tbody>\n",
              "</table>\n",
              "</div>"
            ],
            "text/plain": [
              "  INCIDENT_ID       DATE  X_1  X_2  ...  X_13  X_14  X_15  MULTIPLE_OFFENSE\n",
              "0   CR_102659  04-JUL-04    0   36  ...    92    29    36                 0\n",
              "1   CR_189752  18-JUL-17    1   37  ...   103   142    34                 1\n",
              "2   CR_184637  15-MAR-17    0    3  ...   110    93    34                 1\n",
              "3   CR_139071  13-FEB-09    0   33  ...    72    29    34                 1\n",
              "4   CR_109335  13-APR-05    0   33  ...   112    29    43                 1\n",
              "\n",
              "[5 rows x 18 columns]"
            ]
          },
          "metadata": {
            "tags": []
          },
          "execution_count": 5
        }
      ]
    },
    {
      "cell_type": "code",
      "metadata": {
        "id": "v1n7zMC2ROpj",
        "colab_type": "code",
        "outputId": "9264f6e9-28d9-4e3c-ff70-f3d6f5ee8adb",
        "colab": {
          "base_uri": "https://localhost:8080/",
          "height": 90
        }
      },
      "source": [
        "df.columns   # checking the columns present in data"
      ],
      "execution_count": 0,
      "outputs": [
        {
          "output_type": "execute_result",
          "data": {
            "text/plain": [
              "Index(['INCIDENT_ID', 'DATE', 'X_1', 'X_2', 'X_3', 'X_4', 'X_5', 'X_6', 'X_7',\n",
              "       'X_8', 'X_9', 'X_10', 'X_11', 'X_12', 'X_13', 'X_14', 'X_15',\n",
              "       'MULTIPLE_OFFENSE'],\n",
              "      dtype='object')"
            ]
          },
          "metadata": {
            "tags": []
          },
          "execution_count": 6
        }
      ]
    },
    {
      "cell_type": "code",
      "metadata": {
        "id": "YzFYm9j8ROzH",
        "colab_type": "code",
        "outputId": "f1b72367-83af-4e92-c817-8df5a646c4c5",
        "colab": {
          "base_uri": "https://localhost:8080/",
          "height": 35
        }
      },
      "source": [
        "print(\"The shape of train data is\", df.shape)     # checking the shape and size fo data on which i am going to work"
      ],
      "execution_count": 0,
      "outputs": [
        {
          "output_type": "stream",
          "text": [
            "The shape of train data is (23856, 18)\n"
          ],
          "name": "stdout"
        }
      ]
    },
    {
      "cell_type": "code",
      "metadata": {
        "id": "1KNw17jWRO9d",
        "colab_type": "code",
        "outputId": "67743cb1-4d4d-451c-f150-d7d4a481a336",
        "colab": {
          "base_uri": "https://localhost:8080/",
          "height": 198
        }
      },
      "source": [
        "df2.head()  #first five records of test data|"
      ],
      "execution_count": 0,
      "outputs": [
        {
          "output_type": "execute_result",
          "data": {
            "text/html": [
              "<div>\n",
              "<style scoped>\n",
              "    .dataframe tbody tr th:only-of-type {\n",
              "        vertical-align: middle;\n",
              "    }\n",
              "\n",
              "    .dataframe tbody tr th {\n",
              "        vertical-align: top;\n",
              "    }\n",
              "\n",
              "    .dataframe thead th {\n",
              "        text-align: right;\n",
              "    }\n",
              "</style>\n",
              "<table border=\"1\" class=\"dataframe\">\n",
              "  <thead>\n",
              "    <tr style=\"text-align: right;\">\n",
              "      <th></th>\n",
              "      <th>INCIDENT_ID</th>\n",
              "      <th>DATE</th>\n",
              "      <th>X_1</th>\n",
              "      <th>X_2</th>\n",
              "      <th>X_3</th>\n",
              "      <th>X_4</th>\n",
              "      <th>X_5</th>\n",
              "      <th>X_6</th>\n",
              "      <th>X_7</th>\n",
              "      <th>X_8</th>\n",
              "      <th>X_9</th>\n",
              "      <th>X_10</th>\n",
              "      <th>X_11</th>\n",
              "      <th>X_12</th>\n",
              "      <th>X_13</th>\n",
              "      <th>X_14</th>\n",
              "      <th>X_15</th>\n",
              "    </tr>\n",
              "  </thead>\n",
              "  <tbody>\n",
              "    <tr>\n",
              "      <th>0</th>\n",
              "      <td>CR_195453</td>\n",
              "      <td>01-FEB-18</td>\n",
              "      <td>0</td>\n",
              "      <td>30</td>\n",
              "      <td>35</td>\n",
              "      <td>7</td>\n",
              "      <td>3</td>\n",
              "      <td>6</td>\n",
              "      <td>4</td>\n",
              "      <td>0</td>\n",
              "      <td>5</td>\n",
              "      <td>1</td>\n",
              "      <td>174</td>\n",
              "      <td>NaN</td>\n",
              "      <td>72</td>\n",
              "      <td>119</td>\n",
              "      <td>23</td>\n",
              "    </tr>\n",
              "    <tr>\n",
              "      <th>1</th>\n",
              "      <td>CR_103520</td>\n",
              "      <td>05-MAR-04</td>\n",
              "      <td>0</td>\n",
              "      <td>44</td>\n",
              "      <td>44</td>\n",
              "      <td>1</td>\n",
              "      <td>3</td>\n",
              "      <td>7</td>\n",
              "      <td>1</td>\n",
              "      <td>4</td>\n",
              "      <td>6</td>\n",
              "      <td>1</td>\n",
              "      <td>316</td>\n",
              "      <td>0.0</td>\n",
              "      <td>12</td>\n",
              "      <td>29</td>\n",
              "      <td>34</td>\n",
              "    </tr>\n",
              "    <tr>\n",
              "      <th>2</th>\n",
              "      <td>CR_196089</td>\n",
              "      <td>27-JAN-18</td>\n",
              "      <td>0</td>\n",
              "      <td>34</td>\n",
              "      <td>33</td>\n",
              "      <td>3</td>\n",
              "      <td>5</td>\n",
              "      <td>2</td>\n",
              "      <td>7</td>\n",
              "      <td>3</td>\n",
              "      <td>0</td>\n",
              "      <td>1</td>\n",
              "      <td>316</td>\n",
              "      <td>1.0</td>\n",
              "      <td>72</td>\n",
              "      <td>0</td>\n",
              "      <td>34</td>\n",
              "    </tr>\n",
              "    <tr>\n",
              "      <th>3</th>\n",
              "      <td>CR_112195</td>\n",
              "      <td>18-AUG-06</td>\n",
              "      <td>7</td>\n",
              "      <td>3</td>\n",
              "      <td>2</td>\n",
              "      <td>3</td>\n",
              "      <td>5</td>\n",
              "      <td>9</td>\n",
              "      <td>8</td>\n",
              "      <td>0</td>\n",
              "      <td>5</td>\n",
              "      <td>1</td>\n",
              "      <td>174</td>\n",
              "      <td>1.0</td>\n",
              "      <td>112</td>\n",
              "      <td>87</td>\n",
              "      <td>34</td>\n",
              "    </tr>\n",
              "    <tr>\n",
              "      <th>4</th>\n",
              "      <td>CR_149832</td>\n",
              "      <td>31-OCT-11</td>\n",
              "      <td>0</td>\n",
              "      <td>7</td>\n",
              "      <td>8</td>\n",
              "      <td>7</td>\n",
              "      <td>3</td>\n",
              "      <td>2</td>\n",
              "      <td>7</td>\n",
              "      <td>1</td>\n",
              "      <td>5</td>\n",
              "      <td>1</td>\n",
              "      <td>174</td>\n",
              "      <td>0.0</td>\n",
              "      <td>112</td>\n",
              "      <td>93</td>\n",
              "      <td>43</td>\n",
              "    </tr>\n",
              "  </tbody>\n",
              "</table>\n",
              "</div>"
            ],
            "text/plain": [
              "  INCIDENT_ID       DATE  X_1  X_2  X_3  ...  X_11  X_12  X_13  X_14  X_15\n",
              "0   CR_195453  01-FEB-18    0   30   35  ...   174   NaN    72   119    23\n",
              "1   CR_103520  05-MAR-04    0   44   44  ...   316   0.0    12    29    34\n",
              "2   CR_196089  27-JAN-18    0   34   33  ...   316   1.0    72     0    34\n",
              "3   CR_112195  18-AUG-06    7    3    2  ...   174   1.0   112    87    34\n",
              "4   CR_149832  31-OCT-11    0    7    8  ...   174   0.0   112    93    43\n",
              "\n",
              "[5 rows x 17 columns]"
            ]
          },
          "metadata": {
            "tags": []
          },
          "execution_count": 8
        }
      ]
    },
    {
      "cell_type": "code",
      "metadata": {
        "id": "cZ2z7S8ERPDR",
        "colab_type": "code",
        "outputId": "8873ed74-4320-416b-bcad-4c83fb524c17",
        "colab": {
          "base_uri": "https://localhost:8080/",
          "height": 72
        }
      },
      "source": [
        "df2.columns   # checking the columns of test data"
      ],
      "execution_count": 0,
      "outputs": [
        {
          "output_type": "execute_result",
          "data": {
            "text/plain": [
              "Index(['INCIDENT_ID', 'DATE', 'X_1', 'X_2', 'X_3', 'X_4', 'X_5', 'X_6', 'X_7',\n",
              "       'X_8', 'X_9', 'X_10', 'X_11', 'X_12', 'X_13', 'X_14', 'X_15'],\n",
              "      dtype='object')"
            ]
          },
          "metadata": {
            "tags": []
          },
          "execution_count": 9
        }
      ]
    },
    {
      "cell_type": "code",
      "metadata": {
        "id": "kqzPEKHXRPJz",
        "colab_type": "code",
        "outputId": "0ce99c80-71ef-4106-fac1-8076b2e6fe3c",
        "colab": {
          "base_uri": "https://localhost:8080/",
          "height": 35
        }
      },
      "source": [
        "print(\"The shape of test data is\", df2.shape)   # size of test data "
      ],
      "execution_count": 0,
      "outputs": [
        {
          "output_type": "stream",
          "text": [
            "The shape of test data is (15903, 17)\n"
          ],
          "name": "stdout"
        }
      ]
    },
    {
      "cell_type": "code",
      "metadata": {
        "id": "UpySEK89RPTI",
        "colab_type": "code",
        "colab": {}
      },
      "source": [
        "# we have target variable MULTIPLE_OFFENSE which we have to classifiy either 0 or 1 for test data. This is binary classification problem"
      ],
      "execution_count": 0,
      "outputs": []
    },
    {
      "cell_type": "code",
      "metadata": {
        "id": "smJf2R-HKG1-",
        "colab_type": "code",
        "colab": {}
      },
      "source": [
        "# 2. Data Preprocessing(Statistically, missing values treatment, data cleaning, data transfromation)"
      ],
      "execution_count": 0,
      "outputs": []
    },
    {
      "cell_type": "code",
      "metadata": {
        "id": "BJBbQgDVRPY8",
        "colab_type": "code",
        "outputId": "7e9e6d18-3ede-4851-b82f-e35080574141",
        "colab": {
          "base_uri": "https://localhost:8080/",
          "height": 308
        }
      },
      "source": [
        "df.describe()  # train data description statistically"
      ],
      "execution_count": 0,
      "outputs": [
        {
          "output_type": "execute_result",
          "data": {
            "text/html": [
              "<div>\n",
              "<style scoped>\n",
              "    .dataframe tbody tr th:only-of-type {\n",
              "        vertical-align: middle;\n",
              "    }\n",
              "\n",
              "    .dataframe tbody tr th {\n",
              "        vertical-align: top;\n",
              "    }\n",
              "\n",
              "    .dataframe thead th {\n",
              "        text-align: right;\n",
              "    }\n",
              "</style>\n",
              "<table border=\"1\" class=\"dataframe\">\n",
              "  <thead>\n",
              "    <tr style=\"text-align: right;\">\n",
              "      <th></th>\n",
              "      <th>X_1</th>\n",
              "      <th>X_2</th>\n",
              "      <th>X_3</th>\n",
              "      <th>X_4</th>\n",
              "      <th>X_5</th>\n",
              "      <th>X_6</th>\n",
              "      <th>X_7</th>\n",
              "      <th>X_8</th>\n",
              "      <th>X_9</th>\n",
              "      <th>X_10</th>\n",
              "      <th>X_11</th>\n",
              "      <th>X_12</th>\n",
              "      <th>X_13</th>\n",
              "      <th>X_14</th>\n",
              "      <th>X_15</th>\n",
              "      <th>MULTIPLE_OFFENSE</th>\n",
              "    </tr>\n",
              "  </thead>\n",
              "  <tbody>\n",
              "    <tr>\n",
              "      <th>count</th>\n",
              "      <td>23856.000000</td>\n",
              "      <td>23856.000000</td>\n",
              "      <td>23856.000000</td>\n",
              "      <td>23856.000000</td>\n",
              "      <td>23856.000000</td>\n",
              "      <td>23856.000000</td>\n",
              "      <td>23856.000000</td>\n",
              "      <td>23856.000000</td>\n",
              "      <td>23856.000000</td>\n",
              "      <td>23856.000000</td>\n",
              "      <td>23856.000000</td>\n",
              "      <td>23674.000000</td>\n",
              "      <td>23856.000000</td>\n",
              "      <td>23856.000000</td>\n",
              "      <td>23856.000000</td>\n",
              "      <td>23856.000000</td>\n",
              "    </tr>\n",
              "    <tr>\n",
              "      <th>mean</th>\n",
              "      <td>0.483778</td>\n",
              "      <td>24.791206</td>\n",
              "      <td>24.637450</td>\n",
              "      <td>4.276744</td>\n",
              "      <td>2.455609</td>\n",
              "      <td>6.154175</td>\n",
              "      <td>4.876509</td>\n",
              "      <td>0.972460</td>\n",
              "      <td>4.924128</td>\n",
              "      <td>1.244802</td>\n",
              "      <td>206.954519</td>\n",
              "      <td>0.974064</td>\n",
              "      <td>85.237383</td>\n",
              "      <td>72.674296</td>\n",
              "      <td>33.464747</td>\n",
              "      <td>0.955231</td>\n",
              "    </tr>\n",
              "    <tr>\n",
              "      <th>std</th>\n",
              "      <td>1.439738</td>\n",
              "      <td>15.240231</td>\n",
              "      <td>15.135093</td>\n",
              "      <td>2.944672</td>\n",
              "      <td>1.963095</td>\n",
              "      <td>4.471756</td>\n",
              "      <td>3.881931</td>\n",
              "      <td>1.453144</td>\n",
              "      <td>1.362625</td>\n",
              "      <td>1.119301</td>\n",
              "      <td>93.033348</td>\n",
              "      <td>1.167725</td>\n",
              "      <td>27.597226</td>\n",
              "      <td>43.297320</td>\n",
              "      <td>8.386834</td>\n",
              "      <td>0.206800</td>\n",
              "    </tr>\n",
              "    <tr>\n",
              "      <th>min</th>\n",
              "      <td>0.000000</td>\n",
              "      <td>0.000000</td>\n",
              "      <td>0.000000</td>\n",
              "      <td>0.000000</td>\n",
              "      <td>0.000000</td>\n",
              "      <td>1.000000</td>\n",
              "      <td>0.000000</td>\n",
              "      <td>0.000000</td>\n",
              "      <td>0.000000</td>\n",
              "      <td>1.000000</td>\n",
              "      <td>0.000000</td>\n",
              "      <td>0.000000</td>\n",
              "      <td>0.000000</td>\n",
              "      <td>0.000000</td>\n",
              "      <td>0.000000</td>\n",
              "      <td>0.000000</td>\n",
              "    </tr>\n",
              "    <tr>\n",
              "      <th>25%</th>\n",
              "      <td>0.000000</td>\n",
              "      <td>7.000000</td>\n",
              "      <td>8.000000</td>\n",
              "      <td>2.000000</td>\n",
              "      <td>1.000000</td>\n",
              "      <td>3.000000</td>\n",
              "      <td>2.000000</td>\n",
              "      <td>0.000000</td>\n",
              "      <td>5.000000</td>\n",
              "      <td>1.000000</td>\n",
              "      <td>174.000000</td>\n",
              "      <td>1.000000</td>\n",
              "      <td>72.000000</td>\n",
              "      <td>29.000000</td>\n",
              "      <td>34.000000</td>\n",
              "      <td>1.000000</td>\n",
              "    </tr>\n",
              "    <tr>\n",
              "      <th>50%</th>\n",
              "      <td>0.000000</td>\n",
              "      <td>24.000000</td>\n",
              "      <td>24.000000</td>\n",
              "      <td>4.000000</td>\n",
              "      <td>3.000000</td>\n",
              "      <td>5.000000</td>\n",
              "      <td>4.000000</td>\n",
              "      <td>1.000000</td>\n",
              "      <td>5.000000</td>\n",
              "      <td>1.000000</td>\n",
              "      <td>249.000000</td>\n",
              "      <td>1.000000</td>\n",
              "      <td>98.000000</td>\n",
              "      <td>62.000000</td>\n",
              "      <td>34.000000</td>\n",
              "      <td>1.000000</td>\n",
              "    </tr>\n",
              "    <tr>\n",
              "      <th>75%</th>\n",
              "      <td>0.000000</td>\n",
              "      <td>36.000000</td>\n",
              "      <td>35.000000</td>\n",
              "      <td>6.000000</td>\n",
              "      <td>5.000000</td>\n",
              "      <td>8.000000</td>\n",
              "      <td>7.000000</td>\n",
              "      <td>1.000000</td>\n",
              "      <td>6.000000</td>\n",
              "      <td>1.000000</td>\n",
              "      <td>249.000000</td>\n",
              "      <td>1.000000</td>\n",
              "      <td>103.000000</td>\n",
              "      <td>107.000000</td>\n",
              "      <td>34.000000</td>\n",
              "      <td>1.000000</td>\n",
              "    </tr>\n",
              "    <tr>\n",
              "      <th>max</th>\n",
              "      <td>7.000000</td>\n",
              "      <td>52.000000</td>\n",
              "      <td>52.000000</td>\n",
              "      <td>10.000000</td>\n",
              "      <td>5.000000</td>\n",
              "      <td>19.000000</td>\n",
              "      <td>18.000000</td>\n",
              "      <td>99.000000</td>\n",
              "      <td>6.000000</td>\n",
              "      <td>90.000000</td>\n",
              "      <td>332.000000</td>\n",
              "      <td>90.000000</td>\n",
              "      <td>116.000000</td>\n",
              "      <td>142.000000</td>\n",
              "      <td>50.000000</td>\n",
              "      <td>1.000000</td>\n",
              "    </tr>\n",
              "  </tbody>\n",
              "</table>\n",
              "</div>"
            ],
            "text/plain": [
              "                X_1           X_2  ...          X_15  MULTIPLE_OFFENSE\n",
              "count  23856.000000  23856.000000  ...  23856.000000      23856.000000\n",
              "mean       0.483778     24.791206  ...     33.464747          0.955231\n",
              "std        1.439738     15.240231  ...      8.386834          0.206800\n",
              "min        0.000000      0.000000  ...      0.000000          0.000000\n",
              "25%        0.000000      7.000000  ...     34.000000          1.000000\n",
              "50%        0.000000     24.000000  ...     34.000000          1.000000\n",
              "75%        0.000000     36.000000  ...     34.000000          1.000000\n",
              "max        7.000000     52.000000  ...     50.000000          1.000000\n",
              "\n",
              "[8 rows x 16 columns]"
            ]
          },
          "metadata": {
            "tags": []
          },
          "execution_count": 13
        }
      ]
    },
    {
      "cell_type": "code",
      "metadata": {
        "id": "4fNA2P46HSJ_",
        "colab_type": "code",
        "colab": {}
      },
      "source": [
        "# Tthe above description shows all about data w.r.t. each column "
      ],
      "execution_count": 0,
      "outputs": []
    },
    {
      "cell_type": "code",
      "metadata": {
        "id": "zaX9diSsRPfG",
        "colab_type": "code",
        "outputId": "8af6f945-c218-44e8-e9fb-083c39e84ed9",
        "colab": {
          "base_uri": "https://localhost:8080/",
          "height": 363
        }
      },
      "source": [
        "df.isnull().sum()  # checking is missing/NAN values present in train data"
      ],
      "execution_count": 0,
      "outputs": [
        {
          "output_type": "execute_result",
          "data": {
            "text/plain": [
              "INCIDENT_ID           0\n",
              "DATE                  0\n",
              "X_1                   0\n",
              "X_2                   0\n",
              "X_3                   0\n",
              "X_4                   0\n",
              "X_5                   0\n",
              "X_6                   0\n",
              "X_7                   0\n",
              "X_8                   0\n",
              "X_9                   0\n",
              "X_10                  0\n",
              "X_11                  0\n",
              "X_12                182\n",
              "X_13                  0\n",
              "X_14                  0\n",
              "X_15                  0\n",
              "MULTIPLE_OFFENSE      0\n",
              "dtype: int64"
            ]
          },
          "metadata": {
            "tags": []
          },
          "execution_count": 15
        }
      ]
    },
    {
      "cell_type": "code",
      "metadata": {
        "id": "GtqR4AuxRPpa",
        "colab_type": "code",
        "colab": {}
      },
      "source": [
        "# Thare missing value in only one column(X_12) so we can replace that with median of values of X_12 column, Because dropping these will lead to dropping data which is not good for further analysis"
      ],
      "execution_count": 0,
      "outputs": []
    },
    {
      "cell_type": "code",
      "metadata": {
        "id": "-IlZK3jnRPva",
        "colab_type": "code",
        "colab": {}
      },
      "source": [
        "df['X_12']=df['X_12'].fillna(df['X_12'].median())  # missing value treatment"
      ],
      "execution_count": 0,
      "outputs": []
    },
    {
      "cell_type": "code",
      "metadata": {
        "id": "Hfu5mABwRP18",
        "colab_type": "code",
        "outputId": "3372d547-cd88-45c1-cf27-eee5fc4c7988",
        "colab": {
          "base_uri": "https://localhost:8080/",
          "height": 363
        }
      },
      "source": [
        "df.isnull().sum()  # After missing value treatment, check again is missing values present or not?"
      ],
      "execution_count": 0,
      "outputs": [
        {
          "output_type": "execute_result",
          "data": {
            "text/plain": [
              "INCIDENT_ID         0\n",
              "DATE                0\n",
              "X_1                 0\n",
              "X_2                 0\n",
              "X_3                 0\n",
              "X_4                 0\n",
              "X_5                 0\n",
              "X_6                 0\n",
              "X_7                 0\n",
              "X_8                 0\n",
              "X_9                 0\n",
              "X_10                0\n",
              "X_11                0\n",
              "X_12                0\n",
              "X_13                0\n",
              "X_14                0\n",
              "X_15                0\n",
              "MULTIPLE_OFFENSE    0\n",
              "dtype: int64"
            ]
          },
          "metadata": {
            "tags": []
          },
          "execution_count": 18
        }
      ]
    },
    {
      "cell_type": "code",
      "metadata": {
        "id": "S92Y_I3iJ78P",
        "colab_type": "code",
        "colab": {}
      },
      "source": [
        "# As shown above, now data is cleaned"
      ],
      "execution_count": 0,
      "outputs": []
    },
    {
      "cell_type": "code",
      "metadata": {
        "id": "LeMb_5SARP_4",
        "colab_type": "code",
        "outputId": "96a6b069-25ad-4e4c-c7e9-47a60daeb4ee",
        "colab": {
          "base_uri": "https://localhost:8080/",
          "height": 363
        }
      },
      "source": [
        "df.dtypes   # checking types of data columns"
      ],
      "execution_count": 0,
      "outputs": [
        {
          "output_type": "execute_result",
          "data": {
            "text/plain": [
              "INCIDENT_ID          object\n",
              "DATE                 object\n",
              "X_1                   int64\n",
              "X_2                   int64\n",
              "X_3                   int64\n",
              "X_4                   int64\n",
              "X_5                   int64\n",
              "X_6                   int64\n",
              "X_7                   int64\n",
              "X_8                   int64\n",
              "X_9                   int64\n",
              "X_10                  int64\n",
              "X_11                  int64\n",
              "X_12                float64\n",
              "X_13                  int64\n",
              "X_14                  int64\n",
              "X_15                  int64\n",
              "MULTIPLE_OFFENSE      int64\n",
              "dtype: object"
            ]
          },
          "metadata": {
            "tags": []
          },
          "execution_count": 20
        }
      ]
    },
    {
      "cell_type": "code",
      "metadata": {
        "id": "RD-TBMO5df76",
        "colab_type": "code",
        "colab": {}
      },
      "source": [
        "# lets see date column"
      ],
      "execution_count": 0,
      "outputs": []
    },
    {
      "cell_type": "code",
      "metadata": {
        "id": "JRtVCmp4eu9z",
        "colab_type": "code",
        "colab": {}
      },
      "source": [
        "df['DATE']= pd.to_datetime(df['DATE']) "
      ],
      "execution_count": 0,
      "outputs": []
    },
    {
      "cell_type": "code",
      "metadata": {
        "id": "GhPF7Iige5RC",
        "colab_type": "code",
        "outputId": "d58ee107-f76e-487d-b2c4-3fd7764e6dc7",
        "colab": {
          "base_uri": "https://localhost:8080/",
          "height": 126
        }
      },
      "source": [
        "df['DATE'].head()"
      ],
      "execution_count": 0,
      "outputs": [
        {
          "output_type": "execute_result",
          "data": {
            "text/plain": [
              "0   2004-07-04\n",
              "1   2017-07-18\n",
              "2   2017-03-15\n",
              "3   2009-02-13\n",
              "4   2005-04-13\n",
              "Name: DATE, dtype: datetime64[ns]"
            ]
          },
          "metadata": {
            "tags": []
          },
          "execution_count": 23
        }
      ]
    },
    {
      "cell_type": "code",
      "metadata": {
        "id": "uNgL_Fx_dg7z",
        "colab_type": "code",
        "colab": {}
      },
      "source": [
        "df['DAY'] = df['DATE'].dt.day"
      ],
      "execution_count": 0,
      "outputs": []
    },
    {
      "cell_type": "code",
      "metadata": {
        "id": "qbi0gEkndg0b",
        "colab_type": "code",
        "colab": {}
      },
      "source": [
        "df['MONTH'] = df['DATE'].dt.month"
      ],
      "execution_count": 0,
      "outputs": []
    },
    {
      "cell_type": "code",
      "metadata": {
        "id": "N4ZsgaCqdgXs",
        "colab_type": "code",
        "colab": {}
      },
      "source": [
        "df['YEAR'] = df['DATE'].dt.year"
      ],
      "execution_count": 0,
      "outputs": []
    },
    {
      "cell_type": "code",
      "metadata": {
        "id": "_hiJ-mKHdgQV",
        "colab_type": "code",
        "colab": {}
      },
      "source": [
        "df['WEEK'] = df['DATE'].dt.week"
      ],
      "execution_count": 0,
      "outputs": []
    },
    {
      "cell_type": "code",
      "metadata": {
        "id": "LXfGet1Ydfy0",
        "colab_type": "code",
        "outputId": "abe14e83-0534-40a1-9c6e-19a10e0a7d03",
        "colab": {
          "base_uri": "https://localhost:8080/",
          "height": 305
        }
      },
      "source": [
        "df.head()"
      ],
      "execution_count": 0,
      "outputs": [
        {
          "output_type": "execute_result",
          "data": {
            "text/html": [
              "<div>\n",
              "<style scoped>\n",
              "    .dataframe tbody tr th:only-of-type {\n",
              "        vertical-align: middle;\n",
              "    }\n",
              "\n",
              "    .dataframe tbody tr th {\n",
              "        vertical-align: top;\n",
              "    }\n",
              "\n",
              "    .dataframe thead th {\n",
              "        text-align: right;\n",
              "    }\n",
              "</style>\n",
              "<table border=\"1\" class=\"dataframe\">\n",
              "  <thead>\n",
              "    <tr style=\"text-align: right;\">\n",
              "      <th></th>\n",
              "      <th>INCIDENT_ID</th>\n",
              "      <th>DATE</th>\n",
              "      <th>X_1</th>\n",
              "      <th>X_2</th>\n",
              "      <th>X_3</th>\n",
              "      <th>X_4</th>\n",
              "      <th>X_5</th>\n",
              "      <th>X_6</th>\n",
              "      <th>X_7</th>\n",
              "      <th>X_8</th>\n",
              "      <th>X_9</th>\n",
              "      <th>X_10</th>\n",
              "      <th>X_11</th>\n",
              "      <th>X_12</th>\n",
              "      <th>X_13</th>\n",
              "      <th>X_14</th>\n",
              "      <th>X_15</th>\n",
              "      <th>MULTIPLE_OFFENSE</th>\n",
              "      <th>DAY</th>\n",
              "      <th>MONTH</th>\n",
              "      <th>YEAR</th>\n",
              "      <th>WEEK</th>\n",
              "    </tr>\n",
              "  </thead>\n",
              "  <tbody>\n",
              "    <tr>\n",
              "      <th>0</th>\n",
              "      <td>CR_102659</td>\n",
              "      <td>2004-07-04</td>\n",
              "      <td>0</td>\n",
              "      <td>36</td>\n",
              "      <td>34</td>\n",
              "      <td>2</td>\n",
              "      <td>1</td>\n",
              "      <td>5</td>\n",
              "      <td>6</td>\n",
              "      <td>1</td>\n",
              "      <td>6</td>\n",
              "      <td>1</td>\n",
              "      <td>174</td>\n",
              "      <td>1.0</td>\n",
              "      <td>92</td>\n",
              "      <td>29</td>\n",
              "      <td>36</td>\n",
              "      <td>0</td>\n",
              "      <td>4</td>\n",
              "      <td>7</td>\n",
              "      <td>2004</td>\n",
              "      <td>27</td>\n",
              "    </tr>\n",
              "    <tr>\n",
              "      <th>1</th>\n",
              "      <td>CR_189752</td>\n",
              "      <td>2017-07-18</td>\n",
              "      <td>1</td>\n",
              "      <td>37</td>\n",
              "      <td>37</td>\n",
              "      <td>0</td>\n",
              "      <td>0</td>\n",
              "      <td>11</td>\n",
              "      <td>17</td>\n",
              "      <td>1</td>\n",
              "      <td>6</td>\n",
              "      <td>1</td>\n",
              "      <td>236</td>\n",
              "      <td>1.0</td>\n",
              "      <td>103</td>\n",
              "      <td>142</td>\n",
              "      <td>34</td>\n",
              "      <td>1</td>\n",
              "      <td>18</td>\n",
              "      <td>7</td>\n",
              "      <td>2017</td>\n",
              "      <td>29</td>\n",
              "    </tr>\n",
              "    <tr>\n",
              "      <th>2</th>\n",
              "      <td>CR_184637</td>\n",
              "      <td>2017-03-15</td>\n",
              "      <td>0</td>\n",
              "      <td>3</td>\n",
              "      <td>2</td>\n",
              "      <td>3</td>\n",
              "      <td>5</td>\n",
              "      <td>1</td>\n",
              "      <td>0</td>\n",
              "      <td>2</td>\n",
              "      <td>3</td>\n",
              "      <td>1</td>\n",
              "      <td>174</td>\n",
              "      <td>1.0</td>\n",
              "      <td>110</td>\n",
              "      <td>93</td>\n",
              "      <td>34</td>\n",
              "      <td>1</td>\n",
              "      <td>15</td>\n",
              "      <td>3</td>\n",
              "      <td>2017</td>\n",
              "      <td>11</td>\n",
              "    </tr>\n",
              "    <tr>\n",
              "      <th>3</th>\n",
              "      <td>CR_139071</td>\n",
              "      <td>2009-02-13</td>\n",
              "      <td>0</td>\n",
              "      <td>33</td>\n",
              "      <td>32</td>\n",
              "      <td>2</td>\n",
              "      <td>1</td>\n",
              "      <td>7</td>\n",
              "      <td>1</td>\n",
              "      <td>1</td>\n",
              "      <td>6</td>\n",
              "      <td>1</td>\n",
              "      <td>249</td>\n",
              "      <td>1.0</td>\n",
              "      <td>72</td>\n",
              "      <td>29</td>\n",
              "      <td>34</td>\n",
              "      <td>1</td>\n",
              "      <td>13</td>\n",
              "      <td>2</td>\n",
              "      <td>2009</td>\n",
              "      <td>7</td>\n",
              "    </tr>\n",
              "    <tr>\n",
              "      <th>4</th>\n",
              "      <td>CR_109335</td>\n",
              "      <td>2005-04-13</td>\n",
              "      <td>0</td>\n",
              "      <td>33</td>\n",
              "      <td>32</td>\n",
              "      <td>2</td>\n",
              "      <td>1</td>\n",
              "      <td>8</td>\n",
              "      <td>3</td>\n",
              "      <td>0</td>\n",
              "      <td>5</td>\n",
              "      <td>1</td>\n",
              "      <td>174</td>\n",
              "      <td>0.0</td>\n",
              "      <td>112</td>\n",
              "      <td>29</td>\n",
              "      <td>43</td>\n",
              "      <td>1</td>\n",
              "      <td>13</td>\n",
              "      <td>4</td>\n",
              "      <td>2005</td>\n",
              "      <td>15</td>\n",
              "    </tr>\n",
              "  </tbody>\n",
              "</table>\n",
              "</div>"
            ],
            "text/plain": [
              "  INCIDENT_ID       DATE  X_1  X_2  ...  DAY  MONTH  YEAR  WEEK\n",
              "0   CR_102659 2004-07-04    0   36  ...    4      7  2004    27\n",
              "1   CR_189752 2017-07-18    1   37  ...   18      7  2017    29\n",
              "2   CR_184637 2017-03-15    0    3  ...   15      3  2017    11\n",
              "3   CR_139071 2009-02-13    0   33  ...   13      2  2009     7\n",
              "4   CR_109335 2005-04-13    0   33  ...   13      4  2005    15\n",
              "\n",
              "[5 rows x 22 columns]"
            ]
          },
          "metadata": {
            "tags": []
          },
          "execution_count": 28
        }
      ]
    },
    {
      "cell_type": "code",
      "metadata": {
        "id": "SH75OOnBflMH",
        "colab_type": "code",
        "outputId": "06c10145-25c8-4c56-db04-f353ffc87669",
        "colab": {
          "base_uri": "https://localhost:8080/",
          "height": 254
        }
      },
      "source": [
        "df['MONTH'].value_counts()"
      ],
      "execution_count": 0,
      "outputs": [
        {
          "output_type": "execute_result",
          "data": {
            "text/plain": [
              "9     2290\n",
              "7     2157\n",
              "5     2142\n",
              "10    2138\n",
              "4     2114\n",
              "6     2113\n",
              "8     2110\n",
              "3     1990\n",
              "11    1853\n",
              "1     1739\n",
              "2     1715\n",
              "12    1495\n",
              "Name: MONTH, dtype: int64"
            ]
          },
          "metadata": {
            "tags": []
          },
          "execution_count": 29
        }
      ]
    },
    {
      "cell_type": "code",
      "metadata": {
        "id": "pBdC6CHDpQoR",
        "colab_type": "code",
        "outputId": "31f70b10-69de-44ad-90ca-84ecd87c3293",
        "colab": {
          "base_uri": "https://localhost:8080/",
          "height": 599
        }
      },
      "source": [
        "df['DAY'].value_counts()"
      ],
      "execution_count": 0,
      "outputs": [
        {
          "output_type": "execute_result",
          "data": {
            "text/plain": [
              "1     946\n",
              "7     847\n",
              "15    840\n",
              "13    836\n",
              "12    823\n",
              "21    822\n",
              "18    817\n",
              "23    799\n",
              "10    797\n",
              "24    796\n",
              "19    795\n",
              "20    794\n",
              "2     792\n",
              "9     787\n",
              "14    781\n",
              "11    772\n",
              "17    769\n",
              "27    766\n",
              "3     762\n",
              "6     760\n",
              "22    756\n",
              "26    751\n",
              "25    745\n",
              "8     745\n",
              "5     742\n",
              "30    733\n",
              "4     732\n",
              "28    731\n",
              "16    724\n",
              "29    703\n",
              "31    393\n",
              "Name: DAY, dtype: int64"
            ]
          },
          "metadata": {
            "tags": []
          },
          "execution_count": 30
        }
      ]
    },
    {
      "cell_type": "code",
      "metadata": {
        "id": "iCjFjBP2pQgf",
        "colab_type": "code",
        "outputId": "857b9786-47a4-473c-ecc7-9d7b994e7c19",
        "colab": {
          "base_uri": "https://localhost:8080/",
          "height": 545
        }
      },
      "source": [
        "df['YEAR'].value_counts()"
      ],
      "execution_count": 0,
      "outputs": [
        {
          "output_type": "execute_result",
          "data": {
            "text/plain": [
              "2001    1186\n",
              "1996    1040\n",
              "2000    1016\n",
              "2006     989\n",
              "1993     962\n",
              "1997     952\n",
              "1998     947\n",
              "2008     941\n",
              "2007     903\n",
              "2004     897\n",
              "2003     890\n",
              "2017     884\n",
              "2005     873\n",
              "1999     865\n",
              "2002     844\n",
              "1995     838\n",
              "2012     823\n",
              "2018     816\n",
              "1992     792\n",
              "2010     783\n",
              "2009     776\n",
              "2011     759\n",
              "2016     743\n",
              "1994     724\n",
              "2015     720\n",
              "2013     703\n",
              "2014     678\n",
              "1991     512\n",
              "Name: YEAR, dtype: int64"
            ]
          },
          "metadata": {
            "tags": []
          },
          "execution_count": 31
        }
      ]
    },
    {
      "cell_type": "code",
      "metadata": {
        "id": "KPrF8CiIpQUE",
        "colab_type": "code",
        "outputId": "ad9a018f-3926-41a2-8de3-ee8d145d2d1c",
        "colab": {
          "base_uri": "https://localhost:8080/",
          "height": 999
        }
      },
      "source": [
        "df['WEEK'].value_counts()"
      ],
      "execution_count": 0,
      "outputs": [
        {
          "output_type": "execute_result",
          "data": {
            "text/plain": [
              "38    574\n",
              "37    569\n",
              "15    529\n",
              "39    528\n",
              "44    520\n",
              "18    514\n",
              "25    506\n",
              "32    503\n",
              "41    499\n",
              "27    497\n",
              "24    497\n",
              "21    495\n",
              "36    495\n",
              "29    493\n",
              "30    491\n",
              "23    487\n",
              "26    485\n",
              "17    484\n",
              "33    482\n",
              "20    482\n",
              "16    479\n",
              "43    477\n",
              "12    476\n",
              "45    475\n",
              "31    473\n",
              "19    472\n",
              "34    471\n",
              "40    470\n",
              "28    470\n",
              "11    469\n",
              "42    462\n",
              "14    460\n",
              "35    452\n",
              "22    449\n",
              "7     442\n",
              "46    441\n",
              "10    438\n",
              "9     435\n",
              "13    431\n",
              "5     427\n",
              "8     425\n",
              "6     419\n",
              "4     400\n",
              "2     396\n",
              "47    395\n",
              "49    382\n",
              "50    376\n",
              "3     372\n",
              "1     357\n",
              "48    352\n",
              "51    317\n",
              "52    304\n",
              "53     62\n",
              "Name: WEEK, dtype: int64"
            ]
          },
          "metadata": {
            "tags": []
          },
          "execution_count": 32
        }
      ]
    },
    {
      "cell_type": "code",
      "metadata": {
        "id": "pSy7ZwEEpQJQ",
        "colab_type": "code",
        "colab": {}
      },
      "source": [
        ""
      ],
      "execution_count": 0,
      "outputs": []
    },
    {
      "cell_type": "code",
      "metadata": {
        "id": "H7zv2jC8flA9",
        "colab_type": "code",
        "colab": {}
      },
      "source": [
        ""
      ],
      "execution_count": 0,
      "outputs": []
    },
    {
      "cell_type": "code",
      "metadata": {
        "id": "ysIZI34pKSiC",
        "colab_type": "code",
        "colab": {}
      },
      "source": [
        "# 3. EDA(Exploratory Data Analysis) of data "
      ],
      "execution_count": 0,
      "outputs": []
    },
    {
      "cell_type": "code",
      "metadata": {
        "id": "fnj_2f-ARQGA",
        "colab_type": "code",
        "colab": {}
      },
      "source": [
        "# We will first look at the target variable, i.e., MULTIPLE_OFFENSE. As it is a categorical variable, let us look at its frequency table, percentage distribution and bar plot"
      ],
      "execution_count": 0,
      "outputs": []
    },
    {
      "cell_type": "code",
      "metadata": {
        "id": "F2RxViw4RQPt",
        "colab_type": "code",
        "outputId": "61f511fc-5c25-4bc3-f21e-7f3dc71bd54e",
        "colab": {
          "base_uri": "https://localhost:8080/",
          "height": 72
        }
      },
      "source": [
        "df['MULTIPLE_OFFENSE'].value_counts()"
      ],
      "execution_count": 0,
      "outputs": [
        {
          "output_type": "execute_result",
          "data": {
            "text/plain": [
              "1    22788\n",
              "0     1068\n",
              "Name: MULTIPLE_OFFENSE, dtype: int64"
            ]
          },
          "metadata": {
            "tags": []
          },
          "execution_count": 35
        }
      ]
    },
    {
      "cell_type": "code",
      "metadata": {
        "id": "v63JgxXLRQZW",
        "colab_type": "code",
        "outputId": "3455bae4-a792-421b-d278-b5cb330b8aa1",
        "colab": {
          "base_uri": "https://localhost:8080/",
          "height": 72
        }
      },
      "source": [
        "df['MULTIPLE_OFFENSE'].value_counts(normalize=True)"
      ],
      "execution_count": 0,
      "outputs": [
        {
          "output_type": "execute_result",
          "data": {
            "text/plain": [
              "1    0.955231\n",
              "0    0.044769\n",
              "Name: MULTIPLE_OFFENSE, dtype: float64"
            ]
          },
          "metadata": {
            "tags": []
          },
          "execution_count": 36
        }
      ]
    },
    {
      "cell_type": "code",
      "metadata": {
        "id": "uyXJG6AhRQwv",
        "colab_type": "code",
        "outputId": "68578f06-b5d9-4b41-b3f9-e99cbfca3a4f",
        "colab": {
          "base_uri": "https://localhost:8080/",
          "height": 310
        }
      },
      "source": [
        "hack_plot=df['MULTIPLE_OFFENSE'].value_counts().plot.bar()\n",
        "plt.title(\"Distribution of Yes or No for Multiple Offense\")\n",
        "plt.xlabel(\"Categories(yes/no)\")\n",
        "plt.ylabel(\"Count\")"
      ],
      "execution_count": 0,
      "outputs": [
        {
          "output_type": "execute_result",
          "data": {
            "text/plain": [
              "Text(0, 0.5, 'Count')"
            ]
          },
          "metadata": {
            "tags": []
          },
          "execution_count": 37
        },
        {
          "output_type": "display_data",
          "data": {
            "image/png": "[encoded data removed]",
            "text/plain": [
              "<Figure size 432x288 with 1 Axes>"
            ]
          },
          "metadata": {
            "tags": [],
            "needs_background": "light"
          }
        }
      ]
    },
    {
      "cell_type": "code",
      "metadata": {
        "id": "sTQ-ojcERQiP",
        "colab_type": "code",
        "colab": {}
      },
      "source": [
        "# It shows that in 95% cases hack happens and only in 4% cases it did not happen "
      ],
      "execution_count": 0,
      "outputs": []
    },
    {
      "cell_type": "code",
      "metadata": {
        "id": "s6wvbUHUSgMp",
        "colab_type": "code",
        "outputId": "aed551ac-3265-487e-8dd5-b824e5b8fdf3",
        "colab": {
          "base_uri": "https://localhost:8080/",
          "height": 621
        }
      },
      "source": [
        "# Let's plot a histogram to get the feel of type of data we are dealing with\n",
        "# We can plot histogram only for numerical attributres\n",
        "%matplotlib inline\n",
        "import matplotlib.pyplot as plt\n",
        "df.hist(bins=50, figsize=(20,15))\n",
        "plt.show()"
      ],
      "execution_count": 0,
      "outputs": [
        {
          "output_type": "display_data",
          "data": {
            "image/png": "[encoded data removed]",
            "text/plain": [
              "<Figure size 1440x1080 with 20 Axes>"
            ]
          },
          "metadata": {
            "tags": [],
            "needs_background": "light"
          }
        }
      ]
    },
    {
      "cell_type": "code",
      "metadata": {
        "id": "3mv2Egr_KxVu",
        "colab_type": "code",
        "colab": {}
      },
      "source": [
        "# lets do data analysis of each variable w.r.t. target variable\n",
        "# Since there are 95% cases of hacking and 4% of not hacked.\n",
        "# So we will see the range of variables for which hacking is most.So that we can set our varaible range accordingly to stop hacking"
      ],
      "execution_count": 0,
      "outputs": []
    },
    {
      "cell_type": "code",
      "metadata": {
        "id": "6OCyNV0tpseK",
        "colab_type": "code",
        "outputId": "95222815-7fa0-4628-d055-9fec97729aee",
        "colab": {
          "base_uri": "https://localhost:8080/",
          "height": 438
        }
      },
      "source": [
        "month_hack=pd.crosstab( df['MONTH'],df['MULTIPLE_OFFENSE'])\n",
        "month_hack"
      ],
      "execution_count": 0,
      "outputs": [
        {
          "output_type": "execute_result",
          "data": {
            "text/html": [
              "<div>\n",
              "<style scoped>\n",
              "    .dataframe tbody tr th:only-of-type {\n",
              "        vertical-align: middle;\n",
              "    }\n",
              "\n",
              "    .dataframe tbody tr th {\n",
              "        vertical-align: top;\n",
              "    }\n",
              "\n",
              "    .dataframe thead th {\n",
              "        text-align: right;\n",
              "    }\n",
              "</style>\n",
              "<table border=\"1\" class=\"dataframe\">\n",
              "  <thead>\n",
              "    <tr style=\"text-align: right;\">\n",
              "      <th>MULTIPLE_OFFENSE</th>\n",
              "      <th>0</th>\n",
              "      <th>1</th>\n",
              "    </tr>\n",
              "    <tr>\n",
              "      <th>MONTH</th>\n",
              "      <th></th>\n",
              "      <th></th>\n",
              "    </tr>\n",
              "  </thead>\n",
              "  <tbody>\n",
              "    <tr>\n",
              "      <th>1</th>\n",
              "      <td>91</td>\n",
              "      <td>1648</td>\n",
              "    </tr>\n",
              "    <tr>\n",
              "      <th>2</th>\n",
              "      <td>69</td>\n",
              "      <td>1646</td>\n",
              "    </tr>\n",
              "    <tr>\n",
              "      <th>3</th>\n",
              "      <td>85</td>\n",
              "      <td>1905</td>\n",
              "    </tr>\n",
              "    <tr>\n",
              "      <th>4</th>\n",
              "      <td>100</td>\n",
              "      <td>2014</td>\n",
              "    </tr>\n",
              "    <tr>\n",
              "      <th>5</th>\n",
              "      <td>115</td>\n",
              "      <td>2027</td>\n",
              "    </tr>\n",
              "    <tr>\n",
              "      <th>6</th>\n",
              "      <td>97</td>\n",
              "      <td>2016</td>\n",
              "    </tr>\n",
              "    <tr>\n",
              "      <th>7</th>\n",
              "      <td>92</td>\n",
              "      <td>2065</td>\n",
              "    </tr>\n",
              "    <tr>\n",
              "      <th>8</th>\n",
              "      <td>92</td>\n",
              "      <td>2018</td>\n",
              "    </tr>\n",
              "    <tr>\n",
              "      <th>9</th>\n",
              "      <td>78</td>\n",
              "      <td>2212</td>\n",
              "    </tr>\n",
              "    <tr>\n",
              "      <th>10</th>\n",
              "      <td>96</td>\n",
              "      <td>2042</td>\n",
              "    </tr>\n",
              "    <tr>\n",
              "      <th>11</th>\n",
              "      <td>77</td>\n",
              "      <td>1776</td>\n",
              "    </tr>\n",
              "    <tr>\n",
              "      <th>12</th>\n",
              "      <td>76</td>\n",
              "      <td>1419</td>\n",
              "    </tr>\n",
              "  </tbody>\n",
              "</table>\n",
              "</div>"
            ],
            "text/plain": [
              "MULTIPLE_OFFENSE    0     1\n",
              "MONTH                      \n",
              "1                  91  1648\n",
              "2                  69  1646\n",
              "3                  85  1905\n",
              "4                 100  2014\n",
              "5                 115  2027\n",
              "6                  97  2016\n",
              "7                  92  2065\n",
              "8                  92  2018\n",
              "9                  78  2212\n",
              "10                 96  2042\n",
              "11                 77  1776\n",
              "12                 76  1419"
            ]
          },
          "metadata": {
            "tags": []
          },
          "execution_count": 41
        }
      ]
    },
    {
      "cell_type": "code",
      "metadata": {
        "id": "Wh8beCsGps6R",
        "colab_type": "code",
        "outputId": "8d74dd7f-6bf5-4a70-9983-8419c6b84b7b",
        "colab": {
          "base_uri": "https://localhost:8080/",
          "height": 516
        }
      },
      "source": [
        "month_hack.div(month_hack.sum().astype(float)).plot(kind=\"bar\", figsize=(8,8))\n",
        "plt.title(\"Distribution of Months w.r.t. multiple offense\")\n",
        "plt.xlabel(\"Months\")\n",
        "plt.show()"
      ],
      "execution_count": 0,
      "outputs": [
        {
          "output_type": "display_data",
          "data": {
            "image/png": "[encoded data removed]",
            "text/plain": [
              "<Figure size 576x576 with 1 Axes>"
            ]
          },
          "metadata": {
            "tags": [],
            "needs_background": "light"
          }
        }
      ]
    },
    {
      "cell_type": "code",
      "metadata": {
        "id": "kfMKW1aOpxlI",
        "colab_type": "code",
        "colab": {}
      },
      "source": [
        "# It cant be said for any month particularly that hacking is happened or not happened for particular month.Also there is no increasing or decreasing trend w.r.t. months so we cant conclude anything from this"
      ],
      "execution_count": 0,
      "outputs": []
    },
    {
      "cell_type": "code",
      "metadata": {
        "id": "4yNDqqenpx49",
        "colab_type": "code",
        "outputId": "d6a16740-e8e5-4dfb-f72b-be747288afba",
        "colab": {
          "base_uri": "https://localhost:8080/",
          "height": 918
        }
      },
      "source": [
        "year_hack=pd.crosstab( df['YEAR'],df['MULTIPLE_OFFENSE'])\n",
        "year_hack"
      ],
      "execution_count": 0,
      "outputs": [
        {
          "output_type": "execute_result",
          "data": {
            "text/html": [
              "<div>\n",
              "<style scoped>\n",
              "    .dataframe tbody tr th:only-of-type {\n",
              "        vertical-align: middle;\n",
              "    }\n",
              "\n",
              "    .dataframe tbody tr th {\n",
              "        vertical-align: top;\n",
              "    }\n",
              "\n",
              "    .dataframe thead th {\n",
              "        text-align: right;\n",
              "    }\n",
              "</style>\n",
              "<table border=\"1\" class=\"dataframe\">\n",
              "  <thead>\n",
              "    <tr style=\"text-align: right;\">\n",
              "      <th>MULTIPLE_OFFENSE</th>\n",
              "      <th>0</th>\n",
              "      <th>1</th>\n",
              "    </tr>\n",
              "    <tr>\n",
              "      <th>YEAR</th>\n",
              "      <th></th>\n",
              "      <th></th>\n",
              "    </tr>\n",
              "  </thead>\n",
              "  <tbody>\n",
              "    <tr>\n",
              "      <th>1991</th>\n",
              "      <td>15</td>\n",
              "      <td>497</td>\n",
              "    </tr>\n",
              "    <tr>\n",
              "      <th>1992</th>\n",
              "      <td>21</td>\n",
              "      <td>771</td>\n",
              "    </tr>\n",
              "    <tr>\n",
              "      <th>1993</th>\n",
              "      <td>30</td>\n",
              "      <td>932</td>\n",
              "    </tr>\n",
              "    <tr>\n",
              "      <th>1994</th>\n",
              "      <td>26</td>\n",
              "      <td>698</td>\n",
              "    </tr>\n",
              "    <tr>\n",
              "      <th>1995</th>\n",
              "      <td>50</td>\n",
              "      <td>788</td>\n",
              "    </tr>\n",
              "    <tr>\n",
              "      <th>1996</th>\n",
              "      <td>66</td>\n",
              "      <td>974</td>\n",
              "    </tr>\n",
              "    <tr>\n",
              "      <th>1997</th>\n",
              "      <td>57</td>\n",
              "      <td>895</td>\n",
              "    </tr>\n",
              "    <tr>\n",
              "      <th>1998</th>\n",
              "      <td>55</td>\n",
              "      <td>892</td>\n",
              "    </tr>\n",
              "    <tr>\n",
              "      <th>1999</th>\n",
              "      <td>34</td>\n",
              "      <td>831</td>\n",
              "    </tr>\n",
              "    <tr>\n",
              "      <th>2000</th>\n",
              "      <td>42</td>\n",
              "      <td>974</td>\n",
              "    </tr>\n",
              "    <tr>\n",
              "      <th>2001</th>\n",
              "      <td>48</td>\n",
              "      <td>1138</td>\n",
              "    </tr>\n",
              "    <tr>\n",
              "      <th>2002</th>\n",
              "      <td>30</td>\n",
              "      <td>814</td>\n",
              "    </tr>\n",
              "    <tr>\n",
              "      <th>2003</th>\n",
              "      <td>33</td>\n",
              "      <td>857</td>\n",
              "    </tr>\n",
              "    <tr>\n",
              "      <th>2004</th>\n",
              "      <td>34</td>\n",
              "      <td>863</td>\n",
              "    </tr>\n",
              "    <tr>\n",
              "      <th>2005</th>\n",
              "      <td>37</td>\n",
              "      <td>836</td>\n",
              "    </tr>\n",
              "    <tr>\n",
              "      <th>2006</th>\n",
              "      <td>53</td>\n",
              "      <td>936</td>\n",
              "    </tr>\n",
              "    <tr>\n",
              "      <th>2007</th>\n",
              "      <td>53</td>\n",
              "      <td>850</td>\n",
              "    </tr>\n",
              "    <tr>\n",
              "      <th>2008</th>\n",
              "      <td>44</td>\n",
              "      <td>897</td>\n",
              "    </tr>\n",
              "    <tr>\n",
              "      <th>2009</th>\n",
              "      <td>43</td>\n",
              "      <td>733</td>\n",
              "    </tr>\n",
              "    <tr>\n",
              "      <th>2010</th>\n",
              "      <td>35</td>\n",
              "      <td>748</td>\n",
              "    </tr>\n",
              "    <tr>\n",
              "      <th>2011</th>\n",
              "      <td>37</td>\n",
              "      <td>722</td>\n",
              "    </tr>\n",
              "    <tr>\n",
              "      <th>2012</th>\n",
              "      <td>39</td>\n",
              "      <td>784</td>\n",
              "    </tr>\n",
              "    <tr>\n",
              "      <th>2013</th>\n",
              "      <td>21</td>\n",
              "      <td>682</td>\n",
              "    </tr>\n",
              "    <tr>\n",
              "      <th>2014</th>\n",
              "      <td>20</td>\n",
              "      <td>658</td>\n",
              "    </tr>\n",
              "    <tr>\n",
              "      <th>2015</th>\n",
              "      <td>28</td>\n",
              "      <td>692</td>\n",
              "    </tr>\n",
              "    <tr>\n",
              "      <th>2016</th>\n",
              "      <td>41</td>\n",
              "      <td>702</td>\n",
              "    </tr>\n",
              "    <tr>\n",
              "      <th>2017</th>\n",
              "      <td>36</td>\n",
              "      <td>848</td>\n",
              "    </tr>\n",
              "    <tr>\n",
              "      <th>2018</th>\n",
              "      <td>40</td>\n",
              "      <td>776</td>\n",
              "    </tr>\n",
              "  </tbody>\n",
              "</table>\n",
              "</div>"
            ],
            "text/plain": [
              "MULTIPLE_OFFENSE   0     1\n",
              "YEAR                      \n",
              "1991              15   497\n",
              "1992              21   771\n",
              "1993              30   932\n",
              "1994              26   698\n",
              "1995              50   788\n",
              "1996              66   974\n",
              "1997              57   895\n",
              "1998              55   892\n",
              "1999              34   831\n",
              "2000              42   974\n",
              "2001              48  1138\n",
              "2002              30   814\n",
              "2003              33   857\n",
              "2004              34   863\n",
              "2005              37   836\n",
              "2006              53   936\n",
              "2007              53   850\n",
              "2008              44   897\n",
              "2009              43   733\n",
              "2010              35   748\n",
              "2011              37   722\n",
              "2012              39   784\n",
              "2013              21   682\n",
              "2014              20   658\n",
              "2015              28   692\n",
              "2016              41   702\n",
              "2017              36   848\n",
              "2018              40   776"
            ]
          },
          "metadata": {
            "tags": []
          },
          "execution_count": 44
        }
      ]
    },
    {
      "cell_type": "code",
      "metadata": {
        "id": "z193yt6qpxdi",
        "colab_type": "code",
        "outputId": "d31141f0-d93c-43ad-eccc-8ba87dcf0774",
        "colab": {
          "base_uri": "https://localhost:8080/",
          "height": 528
        }
      },
      "source": [
        "year_hack.div(year_hack.sum().astype(float)).plot(kind=\"bar\", figsize=(8,8))\n",
        "plt.title(\"Distribution of years w.r.t. multiple offense\")\n",
        "plt.xlabel(\"Years\")\n",
        "plt.show()"
      ],
      "execution_count": 0,
      "outputs": [
        {
          "output_type": "display_data",
          "data": {
            "image/png": "[encoded data removed]",
            "text/plain": [
              "<Figure size 576x576 with 1 Axes>"
            ]
          },
          "metadata": {
            "tags": [],
            "needs_background": "light"
          }
        }
      ]
    },
    {
      "cell_type": "code",
      "metadata": {
        "id": "vTSI_QISrXDL",
        "colab_type": "code",
        "colab": {}
      },
      "source": [
        "# It cant be said for any  year particularly that hacking is happened or not happened for particular year.Also there is no increasing or decreasing trend w.r.t. years so we cant conclude anything from this"
      ],
      "execution_count": 0,
      "outputs": []
    },
    {
      "cell_type": "code",
      "metadata": {
        "id": "sAnrHw3UpxWQ",
        "colab_type": "code",
        "outputId": "bf6f895c-235c-4498-9c2e-818c38e0af2b",
        "colab": {
          "base_uri": "https://localhost:8080/",
          "height": 1000
        }
      },
      "source": [
        "week_hack=pd.crosstab( df['WEEK'],df['MULTIPLE_OFFENSE'])\n",
        "week_hack"
      ],
      "execution_count": 0,
      "outputs": [
        {
          "output_type": "execute_result",
          "data": {
            "text/html": [
              "<div>\n",
              "<style scoped>\n",
              "    .dataframe tbody tr th:only-of-type {\n",
              "        vertical-align: middle;\n",
              "    }\n",
              "\n",
              "    .dataframe tbody tr th {\n",
              "        vertical-align: top;\n",
              "    }\n",
              "\n",
              "    .dataframe thead th {\n",
              "        text-align: right;\n",
              "    }\n",
              "</style>\n",
              "<table border=\"1\" class=\"dataframe\">\n",
              "  <thead>\n",
              "    <tr style=\"text-align: right;\">\n",
              "      <th>MULTIPLE_OFFENSE</th>\n",
              "      <th>0</th>\n",
              "      <th>1</th>\n",
              "    </tr>\n",
              "    <tr>\n",
              "      <th>WEEK</th>\n",
              "      <th></th>\n",
              "      <th></th>\n",
              "    </tr>\n",
              "  </thead>\n",
              "  <tbody>\n",
              "    <tr>\n",
              "      <th>1</th>\n",
              "      <td>23</td>\n",
              "      <td>334</td>\n",
              "    </tr>\n",
              "    <tr>\n",
              "      <th>2</th>\n",
              "      <td>22</td>\n",
              "      <td>374</td>\n",
              "    </tr>\n",
              "    <tr>\n",
              "      <th>3</th>\n",
              "      <td>18</td>\n",
              "      <td>354</td>\n",
              "    </tr>\n",
              "    <tr>\n",
              "      <th>4</th>\n",
              "      <td>17</td>\n",
              "      <td>383</td>\n",
              "    </tr>\n",
              "    <tr>\n",
              "      <th>5</th>\n",
              "      <td>26</td>\n",
              "      <td>401</td>\n",
              "    </tr>\n",
              "    <tr>\n",
              "      <th>6</th>\n",
              "      <td>15</td>\n",
              "      <td>404</td>\n",
              "    </tr>\n",
              "    <tr>\n",
              "      <th>7</th>\n",
              "      <td>20</td>\n",
              "      <td>422</td>\n",
              "    </tr>\n",
              "    <tr>\n",
              "      <th>8</th>\n",
              "      <td>14</td>\n",
              "      <td>411</td>\n",
              "    </tr>\n",
              "    <tr>\n",
              "      <th>9</th>\n",
              "      <td>13</td>\n",
              "      <td>422</td>\n",
              "    </tr>\n",
              "    <tr>\n",
              "      <th>10</th>\n",
              "      <td>20</td>\n",
              "      <td>418</td>\n",
              "    </tr>\n",
              "    <tr>\n",
              "      <th>11</th>\n",
              "      <td>25</td>\n",
              "      <td>444</td>\n",
              "    </tr>\n",
              "    <tr>\n",
              "      <th>12</th>\n",
              "      <td>19</td>\n",
              "      <td>457</td>\n",
              "    </tr>\n",
              "    <tr>\n",
              "      <th>13</th>\n",
              "      <td>15</td>\n",
              "      <td>416</td>\n",
              "    </tr>\n",
              "    <tr>\n",
              "      <th>14</th>\n",
              "      <td>22</td>\n",
              "      <td>438</td>\n",
              "    </tr>\n",
              "    <tr>\n",
              "      <th>15</th>\n",
              "      <td>19</td>\n",
              "      <td>510</td>\n",
              "    </tr>\n",
              "    <tr>\n",
              "      <th>16</th>\n",
              "      <td>17</td>\n",
              "      <td>462</td>\n",
              "    </tr>\n",
              "    <tr>\n",
              "      <th>17</th>\n",
              "      <td>30</td>\n",
              "      <td>454</td>\n",
              "    </tr>\n",
              "    <tr>\n",
              "      <th>18</th>\n",
              "      <td>22</td>\n",
              "      <td>492</td>\n",
              "    </tr>\n",
              "    <tr>\n",
              "      <th>19</th>\n",
              "      <td>24</td>\n",
              "      <td>448</td>\n",
              "    </tr>\n",
              "    <tr>\n",
              "      <th>20</th>\n",
              "      <td>31</td>\n",
              "      <td>451</td>\n",
              "    </tr>\n",
              "    <tr>\n",
              "      <th>21</th>\n",
              "      <td>32</td>\n",
              "      <td>463</td>\n",
              "    </tr>\n",
              "    <tr>\n",
              "      <th>22</th>\n",
              "      <td>22</td>\n",
              "      <td>427</td>\n",
              "    </tr>\n",
              "    <tr>\n",
              "      <th>23</th>\n",
              "      <td>20</td>\n",
              "      <td>467</td>\n",
              "    </tr>\n",
              "    <tr>\n",
              "      <th>24</th>\n",
              "      <td>22</td>\n",
              "      <td>475</td>\n",
              "    </tr>\n",
              "    <tr>\n",
              "      <th>25</th>\n",
              "      <td>28</td>\n",
              "      <td>478</td>\n",
              "    </tr>\n",
              "    <tr>\n",
              "      <th>26</th>\n",
              "      <td>22</td>\n",
              "      <td>463</td>\n",
              "    </tr>\n",
              "    <tr>\n",
              "      <th>27</th>\n",
              "      <td>21</td>\n",
              "      <td>476</td>\n",
              "    </tr>\n",
              "    <tr>\n",
              "      <th>28</th>\n",
              "      <td>21</td>\n",
              "      <td>449</td>\n",
              "    </tr>\n",
              "    <tr>\n",
              "      <th>29</th>\n",
              "      <td>17</td>\n",
              "      <td>476</td>\n",
              "    </tr>\n",
              "    <tr>\n",
              "      <th>30</th>\n",
              "      <td>22</td>\n",
              "      <td>469</td>\n",
              "    </tr>\n",
              "    <tr>\n",
              "      <th>31</th>\n",
              "      <td>23</td>\n",
              "      <td>450</td>\n",
              "    </tr>\n",
              "    <tr>\n",
              "      <th>32</th>\n",
              "      <td>27</td>\n",
              "      <td>476</td>\n",
              "    </tr>\n",
              "    <tr>\n",
              "      <th>33</th>\n",
              "      <td>18</td>\n",
              "      <td>464</td>\n",
              "    </tr>\n",
              "    <tr>\n",
              "      <th>34</th>\n",
              "      <td>17</td>\n",
              "      <td>454</td>\n",
              "    </tr>\n",
              "    <tr>\n",
              "      <th>35</th>\n",
              "      <td>22</td>\n",
              "      <td>430</td>\n",
              "    </tr>\n",
              "    <tr>\n",
              "      <th>36</th>\n",
              "      <td>16</td>\n",
              "      <td>479</td>\n",
              "    </tr>\n",
              "    <tr>\n",
              "      <th>37</th>\n",
              "      <td>19</td>\n",
              "      <td>550</td>\n",
              "    </tr>\n",
              "    <tr>\n",
              "      <th>38</th>\n",
              "      <td>19</td>\n",
              "      <td>555</td>\n",
              "    </tr>\n",
              "    <tr>\n",
              "      <th>39</th>\n",
              "      <td>20</td>\n",
              "      <td>508</td>\n",
              "    </tr>\n",
              "    <tr>\n",
              "      <th>40</th>\n",
              "      <td>28</td>\n",
              "      <td>442</td>\n",
              "    </tr>\n",
              "    <tr>\n",
              "      <th>41</th>\n",
              "      <td>13</td>\n",
              "      <td>486</td>\n",
              "    </tr>\n",
              "    <tr>\n",
              "      <th>42</th>\n",
              "      <td>20</td>\n",
              "      <td>442</td>\n",
              "    </tr>\n",
              "    <tr>\n",
              "      <th>43</th>\n",
              "      <td>17</td>\n",
              "      <td>460</td>\n",
              "    </tr>\n",
              "    <tr>\n",
              "      <th>44</th>\n",
              "      <td>29</td>\n",
              "      <td>491</td>\n",
              "    </tr>\n",
              "    <tr>\n",
              "      <th>45</th>\n",
              "      <td>20</td>\n",
              "      <td>455</td>\n",
              "    </tr>\n",
              "    <tr>\n",
              "      <th>46</th>\n",
              "      <td>25</td>\n",
              "      <td>416</td>\n",
              "    </tr>\n",
              "    <tr>\n",
              "      <th>47</th>\n",
              "      <td>8</td>\n",
              "      <td>387</td>\n",
              "    </tr>\n",
              "    <tr>\n",
              "      <th>48</th>\n",
              "      <td>16</td>\n",
              "      <td>336</td>\n",
              "    </tr>\n",
              "    <tr>\n",
              "      <th>49</th>\n",
              "      <td>18</td>\n",
              "      <td>364</td>\n",
              "    </tr>\n",
              "    <tr>\n",
              "      <th>50</th>\n",
              "      <td>20</td>\n",
              "      <td>356</td>\n",
              "    </tr>\n",
              "    <tr>\n",
              "      <th>51</th>\n",
              "      <td>14</td>\n",
              "      <td>303</td>\n",
              "    </tr>\n",
              "    <tr>\n",
              "      <th>52</th>\n",
              "      <td>17</td>\n",
              "      <td>287</td>\n",
              "    </tr>\n",
              "    <tr>\n",
              "      <th>53</th>\n",
              "      <td>3</td>\n",
              "      <td>59</td>\n",
              "    </tr>\n",
              "  </tbody>\n",
              "</table>\n",
              "</div>"
            ],
            "text/plain": [
              "MULTIPLE_OFFENSE   0    1\n",
              "WEEK                     \n",
              "1                 23  334\n",
              "2                 22  374\n",
              "3                 18  354\n",
              "4                 17  383\n",
              "5                 26  401\n",
              "6                 15  404\n",
              "7                 20  422\n",
              "8                 14  411\n",
              "9                 13  422\n",
              "10                20  418\n",
              "11                25  444\n",
              "12                19  457\n",
              "13                15  416\n",
              "14                22  438\n",
              "15                19  510\n",
              "16                17  462\n",
              "17                30  454\n",
              "18                22  492\n",
              "19                24  448\n",
              "20                31  451\n",
              "21                32  463\n",
              "22                22  427\n",
              "23                20  467\n",
              "24                22  475\n",
              "25                28  478\n",
              "26                22  463\n",
              "27                21  476\n",
              "28                21  449\n",
              "29                17  476\n",
              "30                22  469\n",
              "31                23  450\n",
              "32                27  476\n",
              "33                18  464\n",
              "34                17  454\n",
              "35                22  430\n",
              "36                16  479\n",
              "37                19  550\n",
              "38                19  555\n",
              "39                20  508\n",
              "40                28  442\n",
              "41                13  486\n",
              "42                20  442\n",
              "43                17  460\n",
              "44                29  491\n",
              "45                20  455\n",
              "46                25  416\n",
              "47                 8  387\n",
              "48                16  336\n",
              "49                18  364\n",
              "50                20  356\n",
              "51                14  303\n",
              "52                17  287\n",
              "53                 3   59"
            ]
          },
          "metadata": {
            "tags": []
          },
          "execution_count": 47
        }
      ]
    },
    {
      "cell_type": "code",
      "metadata": {
        "id": "e6C0wOaZpsXA",
        "colab_type": "code",
        "outputId": "c0a9e538-850a-48f7-f0b9-eb359b9ba9d1",
        "colab": {
          "base_uri": "https://localhost:8080/",
          "height": 516
        }
      },
      "source": [
        "week_hack.div(week_hack.sum().astype(float)).plot(kind=\"bar\", figsize=(8,8))\n",
        "plt.title(\"Distribution of weeks w.r.t. multiple offense\")\n",
        "plt.xlabel(\"Weeks\")\n",
        "plt.show()"
      ],
      "execution_count": 0,
      "outputs": [
        {
          "output_type": "display_data",
          "data": {
            "image/png": "[encoded data removed]",
            "text/plain": [
              "<Figure size 576x576 with 1 Axes>"
            ]
          },
          "metadata": {
            "tags": [],
            "needs_background": "light"
          }
        }
      ]
    },
    {
      "cell_type": "code",
      "metadata": {
        "id": "1-Ha8btUrMzc",
        "colab_type": "code",
        "colab": {}
      },
      "source": [
        "# It cant be said for any week particularly that hacking is happened or not happened for particular week.Also there is no increasing or decreasing trend w.r.t. weeks so we cant conclude anything from this"
      ],
      "execution_count": 0,
      "outputs": []
    },
    {
      "cell_type": "code",
      "metadata": {
        "id": "Ne_8wVJK5oV3",
        "colab_type": "code",
        "outputId": "26cb3689-af14-4fba-f442-ca3591c983ee",
        "colab": {
          "base_uri": "https://localhost:8080/",
          "height": 138
        }
      },
      "source": [
        "X1_hack=pd.crosstab(df['MULTIPLE_OFFENSE'], df['X_1'])\n",
        "X1_hack"
      ],
      "execution_count": 0,
      "outputs": [
        {
          "output_type": "execute_result",
          "data": {
            "text/html": [
              "<div>\n",
              "<style scoped>\n",
              "    .dataframe tbody tr th:only-of-type {\n",
              "        vertical-align: middle;\n",
              "    }\n",
              "\n",
              "    .dataframe tbody tr th {\n",
              "        vertical-align: top;\n",
              "    }\n",
              "\n",
              "    .dataframe thead th {\n",
              "        text-align: right;\n",
              "    }\n",
              "</style>\n",
              "<table border=\"1\" class=\"dataframe\">\n",
              "  <thead>\n",
              "    <tr style=\"text-align: right;\">\n",
              "      <th>X_1</th>\n",
              "      <th>0</th>\n",
              "      <th>1</th>\n",
              "      <th>2</th>\n",
              "      <th>3</th>\n",
              "      <th>4</th>\n",
              "      <th>5</th>\n",
              "      <th>6</th>\n",
              "      <th>7</th>\n",
              "    </tr>\n",
              "    <tr>\n",
              "      <th>MULTIPLE_OFFENSE</th>\n",
              "      <th></th>\n",
              "      <th></th>\n",
              "      <th></th>\n",
              "      <th></th>\n",
              "      <th></th>\n",
              "      <th></th>\n",
              "      <th></th>\n",
              "      <th></th>\n",
              "    </tr>\n",
              "  </thead>\n",
              "  <tbody>\n",
              "    <tr>\n",
              "      <th>0</th>\n",
              "      <td>842</td>\n",
              "      <td>189</td>\n",
              "      <td>0</td>\n",
              "      <td>0</td>\n",
              "      <td>0</td>\n",
              "      <td>15</td>\n",
              "      <td>1</td>\n",
              "      <td>21</td>\n",
              "    </tr>\n",
              "    <tr>\n",
              "      <th>1</th>\n",
              "      <td>18194</td>\n",
              "      <td>3308</td>\n",
              "      <td>10</td>\n",
              "      <td>136</td>\n",
              "      <td>26</td>\n",
              "      <td>255</td>\n",
              "      <td>4</td>\n",
              "      <td>855</td>\n",
              "    </tr>\n",
              "  </tbody>\n",
              "</table>\n",
              "</div>"
            ],
            "text/plain": [
              "X_1                   0     1   2    3   4    5  6    7\n",
              "MULTIPLE_OFFENSE                                       \n",
              "0                   842   189   0    0   0   15  1   21\n",
              "1                 18194  3308  10  136  26  255  4  855"
            ]
          },
          "metadata": {
            "tags": []
          },
          "execution_count": 50
        }
      ]
    },
    {
      "cell_type": "code",
      "metadata": {
        "id": "xMuorzob6BHW",
        "colab_type": "code",
        "colab": {}
      },
      "source": [
        "bins=[0,2,5,8]\n",
        "groups=['Low(0-2)','Medium(2-5)', 'High(5-8)']"
      ],
      "execution_count": 0,
      "outputs": []
    },
    {
      "cell_type": "code",
      "metadata": {
        "id": "AuknAk7Y6NTv",
        "colab_type": "code",
        "outputId": "b501c704-aff8-481a-a847-fdacac8b0cce",
        "colab": {
          "base_uri": "https://localhost:8080/",
          "height": 168
        }
      },
      "source": [
        "df['X1_Bin']=pd.cut(df['X_1'],bins,labels=groups)\n",
        "X1_Bin=pd.crosstab(df['X1_Bin'], df['MULTIPLE_OFFENSE'])\n",
        "X1_Bin"
      ],
      "execution_count": 0,
      "outputs": [
        {
          "output_type": "execute_result",
          "data": {
            "text/html": [
              "<div>\n",
              "<style scoped>\n",
              "    .dataframe tbody tr th:only-of-type {\n",
              "        vertical-align: middle;\n",
              "    }\n",
              "\n",
              "    .dataframe tbody tr th {\n",
              "        vertical-align: top;\n",
              "    }\n",
              "\n",
              "    .dataframe thead th {\n",
              "        text-align: right;\n",
              "    }\n",
              "</style>\n",
              "<table border=\"1\" class=\"dataframe\">\n",
              "  <thead>\n",
              "    <tr style=\"text-align: right;\">\n",
              "      <th>MULTIPLE_OFFENSE</th>\n",
              "      <th>0</th>\n",
              "      <th>1</th>\n",
              "    </tr>\n",
              "    <tr>\n",
              "      <th>X1_Bin</th>\n",
              "      <th></th>\n",
              "      <th></th>\n",
              "    </tr>\n",
              "  </thead>\n",
              "  <tbody>\n",
              "    <tr>\n",
              "      <th>Low(0-2)</th>\n",
              "      <td>189</td>\n",
              "      <td>3318</td>\n",
              "    </tr>\n",
              "    <tr>\n",
              "      <th>Medium(2-5)</th>\n",
              "      <td>15</td>\n",
              "      <td>417</td>\n",
              "    </tr>\n",
              "    <tr>\n",
              "      <th>High(5-8)</th>\n",
              "      <td>22</td>\n",
              "      <td>859</td>\n",
              "    </tr>\n",
              "  </tbody>\n",
              "</table>\n",
              "</div>"
            ],
            "text/plain": [
              "MULTIPLE_OFFENSE    0     1\n",
              "X1_Bin                     \n",
              "Low(0-2)          189  3318\n",
              "Medium(2-5)        15   417\n",
              "High(5-8)          22   859"
            ]
          },
          "metadata": {
            "tags": []
          },
          "execution_count": 52
        }
      ]
    },
    {
      "cell_type": "code",
      "metadata": {
        "id": "IoRI4ZO85gGB",
        "colab_type": "code",
        "outputId": "74a440ee-59b9-48a3-d226-f0938f080c36",
        "colab": {
          "base_uri": "https://localhost:8080/",
          "height": 404
        }
      },
      "source": [
        "X1_Bin.div(X1_Bin.sum().astype(float)).plot(kind=\"bar\", figsize=(5,5))\n",
        "plt.title(\"X1 slots w.r.t. multiple offense\")\n",
        "plt.xlabel(\"Slots of X1\")\n",
        "plt.show()"
      ],
      "execution_count": 0,
      "outputs": [
        {
          "output_type": "display_data",
          "data": {
            "image/png": "[encoded data removed]",
            "text/plain": [
              "<Figure size 360x360 with 1 Axes>"
            ]
          },
          "metadata": {
            "tags": [],
            "needs_background": "light"
          }
        }
      ]
    },
    {
      "cell_type": "code",
      "metadata": {
        "id": "haQXJA44K6Kn",
        "colab_type": "code",
        "colab": {}
      },
      "source": [
        "# It can be inferred that for X1 variable, mostly hacking happened in range of (0-2) of X1."
      ],
      "execution_count": 0,
      "outputs": []
    },
    {
      "cell_type": "code",
      "metadata": {
        "id": "DPK6HJXP5gAO",
        "colab_type": "code",
        "outputId": "ea4b05e1-f30e-4f89-ada1-6e58687c80be",
        "colab": {
          "base_uri": "https://localhost:8080/",
          "height": 158
        }
      },
      "source": [
        "X2_hack=pd.crosstab(df['MULTIPLE_OFFENSE'], df['X_2'])\n",
        "X2_hack"
      ],
      "execution_count": 0,
      "outputs": [
        {
          "output_type": "execute_result",
          "data": {
            "text/html": [
              "<div>\n",
              "<style scoped>\n",
              "    .dataframe tbody tr th:only-of-type {\n",
              "        vertical-align: middle;\n",
              "    }\n",
              "\n",
              "    .dataframe tbody tr th {\n",
              "        vertical-align: top;\n",
              "    }\n",
              "\n",
              "    .dataframe thead th {\n",
              "        text-align: right;\n",
              "    }\n",
              "</style>\n",
              "<table border=\"1\" class=\"dataframe\">\n",
              "  <thead>\n",
              "    <tr style=\"text-align: right;\">\n",
              "      <th>X_2</th>\n",
              "      <th>0</th>\n",
              "      <th>1</th>\n",
              "      <th>2</th>\n",
              "      <th>3</th>\n",
              "      <th>4</th>\n",
              "      <th>5</th>\n",
              "      <th>6</th>\n",
              "      <th>7</th>\n",
              "      <th>8</th>\n",
              "      <th>9</th>\n",
              "      <th>10</th>\n",
              "      <th>11</th>\n",
              "      <th>13</th>\n",
              "      <th>14</th>\n",
              "      <th>15</th>\n",
              "      <th>16</th>\n",
              "      <th>17</th>\n",
              "      <th>18</th>\n",
              "      <th>19</th>\n",
              "      <th>20</th>\n",
              "      <th>21</th>\n",
              "      <th>22</th>\n",
              "      <th>23</th>\n",
              "      <th>24</th>\n",
              "      <th>25</th>\n",
              "      <th>26</th>\n",
              "      <th>27</th>\n",
              "      <th>28</th>\n",
              "      <th>29</th>\n",
              "      <th>30</th>\n",
              "      <th>31</th>\n",
              "      <th>32</th>\n",
              "      <th>33</th>\n",
              "      <th>34</th>\n",
              "      <th>35</th>\n",
              "      <th>36</th>\n",
              "      <th>37</th>\n",
              "      <th>38</th>\n",
              "      <th>39</th>\n",
              "      <th>40</th>\n",
              "      <th>41</th>\n",
              "      <th>42</th>\n",
              "      <th>43</th>\n",
              "      <th>44</th>\n",
              "      <th>45</th>\n",
              "      <th>46</th>\n",
              "      <th>47</th>\n",
              "      <th>48</th>\n",
              "      <th>49</th>\n",
              "      <th>50</th>\n",
              "      <th>51</th>\n",
              "      <th>52</th>\n",
              "    </tr>\n",
              "    <tr>\n",
              "      <th>MULTIPLE_OFFENSE</th>\n",
              "      <th></th>\n",
              "      <th></th>\n",
              "      <th></th>\n",
              "      <th></th>\n",
              "      <th></th>\n",
              "      <th></th>\n",
              "      <th></th>\n",
              "      <th></th>\n",
              "      <th></th>\n",
              "      <th></th>\n",
              "      <th></th>\n",
              "      <th></th>\n",
              "      <th></th>\n",
              "      <th></th>\n",
              "      <th></th>\n",
              "      <th></th>\n",
              "      <th></th>\n",
              "      <th></th>\n",
              "      <th></th>\n",
              "      <th></th>\n",
              "      <th></th>\n",
              "      <th></th>\n",
              "      <th></th>\n",
              "      <th></th>\n",
              "      <th></th>\n",
              "      <th></th>\n",
              "      <th></th>\n",
              "      <th></th>\n",
              "      <th></th>\n",
              "      <th></th>\n",
              "      <th></th>\n",
              "      <th></th>\n",
              "      <th></th>\n",
              "      <th></th>\n",
              "      <th></th>\n",
              "      <th></th>\n",
              "      <th></th>\n",
              "      <th></th>\n",
              "      <th></th>\n",
              "      <th></th>\n",
              "      <th></th>\n",
              "      <th></th>\n",
              "      <th></th>\n",
              "      <th></th>\n",
              "      <th></th>\n",
              "      <th></th>\n",
              "      <th></th>\n",
              "      <th></th>\n",
              "      <th></th>\n",
              "      <th></th>\n",
              "      <th></th>\n",
              "      <th></th>\n",
              "    </tr>\n",
              "  </thead>\n",
              "  <tbody>\n",
              "    <tr>\n",
              "      <th>0</th>\n",
              "      <td>0</td>\n",
              "      <td>0</td>\n",
              "      <td>3</td>\n",
              "      <td>20</td>\n",
              "      <td>173</td>\n",
              "      <td>25</td>\n",
              "      <td>40</td>\n",
              "      <td>1</td>\n",
              "      <td>10</td>\n",
              "      <td>0</td>\n",
              "      <td>0</td>\n",
              "      <td>2</td>\n",
              "      <td>0</td>\n",
              "      <td>7</td>\n",
              "      <td>10</td>\n",
              "      <td>33</td>\n",
              "      <td>7</td>\n",
              "      <td>18</td>\n",
              "      <td>19</td>\n",
              "      <td>2</td>\n",
              "      <td>50</td>\n",
              "      <td>7</td>\n",
              "      <td>9</td>\n",
              "      <td>48</td>\n",
              "      <td>6</td>\n",
              "      <td>20</td>\n",
              "      <td>2</td>\n",
              "      <td>3</td>\n",
              "      <td>0</td>\n",
              "      <td>31</td>\n",
              "      <td>0</td>\n",
              "      <td>2</td>\n",
              "      <td>0</td>\n",
              "      <td>1</td>\n",
              "      <td>11</td>\n",
              "      <td>186</td>\n",
              "      <td>47</td>\n",
              "      <td>16</td>\n",
              "      <td>13</td>\n",
              "      <td>25</td>\n",
              "      <td>3</td>\n",
              "      <td>11</td>\n",
              "      <td>3</td>\n",
              "      <td>16</td>\n",
              "      <td>45</td>\n",
              "      <td>11</td>\n",
              "      <td>47</td>\n",
              "      <td>2</td>\n",
              "      <td>69</td>\n",
              "      <td>7</td>\n",
              "      <td>6</td>\n",
              "      <td>1</td>\n",
              "    </tr>\n",
              "    <tr>\n",
              "      <th>1</th>\n",
              "      <td>22</td>\n",
              "      <td>20</td>\n",
              "      <td>113</td>\n",
              "      <td>758</td>\n",
              "      <td>3856</td>\n",
              "      <td>412</td>\n",
              "      <td>394</td>\n",
              "      <td>165</td>\n",
              "      <td>94</td>\n",
              "      <td>593</td>\n",
              "      <td>2</td>\n",
              "      <td>105</td>\n",
              "      <td>6</td>\n",
              "      <td>77</td>\n",
              "      <td>126</td>\n",
              "      <td>598</td>\n",
              "      <td>231</td>\n",
              "      <td>192</td>\n",
              "      <td>351</td>\n",
              "      <td>52</td>\n",
              "      <td>1204</td>\n",
              "      <td>665</td>\n",
              "      <td>113</td>\n",
              "      <td>1296</td>\n",
              "      <td>493</td>\n",
              "      <td>336</td>\n",
              "      <td>21</td>\n",
              "      <td>75</td>\n",
              "      <td>99</td>\n",
              "      <td>235</td>\n",
              "      <td>43</td>\n",
              "      <td>67</td>\n",
              "      <td>2174</td>\n",
              "      <td>55</td>\n",
              "      <td>175</td>\n",
              "      <td>2046</td>\n",
              "      <td>915</td>\n",
              "      <td>148</td>\n",
              "      <td>500</td>\n",
              "      <td>360</td>\n",
              "      <td>90</td>\n",
              "      <td>227</td>\n",
              "      <td>66</td>\n",
              "      <td>412</td>\n",
              "      <td>863</td>\n",
              "      <td>170</td>\n",
              "      <td>594</td>\n",
              "      <td>53</td>\n",
              "      <td>858</td>\n",
              "      <td>153</td>\n",
              "      <td>97</td>\n",
              "      <td>18</td>\n",
              "    </tr>\n",
              "  </tbody>\n",
              "</table>\n",
              "</div>"
            ],
            "text/plain": [
              "X_2               0   1    2    3     4    5   ...   47  48   49   50  51  52\n",
              "MULTIPLE_OFFENSE                               ...                           \n",
              "0                  0   0    3   20   173   25  ...   47   2   69    7   6   1\n",
              "1                 22  20  113  758  3856  412  ...  594  53  858  153  97  18\n",
              "\n",
              "[2 rows x 52 columns]"
            ]
          },
          "metadata": {
            "tags": []
          },
          "execution_count": 55
        }
      ]
    },
    {
      "cell_type": "code",
      "metadata": {
        "id": "WGGVB5wu7STF",
        "colab_type": "code",
        "colab": {}
      },
      "source": [
        "bins=[0,20,40,55]\n",
        "groups=['Low(0-20)','Medium(20-40)', 'High(40-55)']"
      ],
      "execution_count": 0,
      "outputs": []
    },
    {
      "cell_type": "code",
      "metadata": {
        "id": "viyTfOpk7Sth",
        "colab_type": "code",
        "outputId": "58ea5418-5a06-4cda-8a80-79565a268405",
        "colab": {
          "base_uri": "https://localhost:8080/",
          "height": 168
        }
      },
      "source": [
        "df['X2_Bin']=pd.cut(df['X_2'],bins,labels=groups)\n",
        "X2_Bin=pd.crosstab(df['X2_Bin'], df['MULTIPLE_OFFENSE'])\n",
        "X2_Bin"
      ],
      "execution_count": 0,
      "outputs": [
        {
          "output_type": "execute_result",
          "data": {
            "text/html": [
              "<div>\n",
              "<style scoped>\n",
              "    .dataframe tbody tr th:only-of-type {\n",
              "        vertical-align: middle;\n",
              "    }\n",
              "\n",
              "    .dataframe tbody tr th {\n",
              "        vertical-align: top;\n",
              "    }\n",
              "\n",
              "    .dataframe thead th {\n",
              "        text-align: right;\n",
              "    }\n",
              "</style>\n",
              "<table border=\"1\" class=\"dataframe\">\n",
              "  <thead>\n",
              "    <tr style=\"text-align: right;\">\n",
              "      <th>MULTIPLE_OFFENSE</th>\n",
              "      <th>0</th>\n",
              "      <th>1</th>\n",
              "    </tr>\n",
              "    <tr>\n",
              "      <th>X2_Bin</th>\n",
              "      <th></th>\n",
              "      <th></th>\n",
              "    </tr>\n",
              "  </thead>\n",
              "  <tbody>\n",
              "    <tr>\n",
              "      <th>Low(0-20)</th>\n",
              "      <td>370</td>\n",
              "      <td>8145</td>\n",
              "    </tr>\n",
              "    <tr>\n",
              "      <th>Medium(20-40)</th>\n",
              "      <td>477</td>\n",
              "      <td>11020</td>\n",
              "    </tr>\n",
              "    <tr>\n",
              "      <th>High(40-55)</th>\n",
              "      <td>221</td>\n",
              "      <td>3601</td>\n",
              "    </tr>\n",
              "  </tbody>\n",
              "</table>\n",
              "</div>"
            ],
            "text/plain": [
              "MULTIPLE_OFFENSE    0      1\n",
              "X2_Bin                      \n",
              "Low(0-20)         370   8145\n",
              "Medium(20-40)     477  11020\n",
              "High(40-55)       221   3601"
            ]
          },
          "metadata": {
            "tags": []
          },
          "execution_count": 57
        }
      ]
    },
    {
      "cell_type": "code",
      "metadata": {
        "id": "Y-cDF0qi7TCw",
        "colab_type": "code",
        "outputId": "1eae45a0-a7be-4024-976e-345a464741f1",
        "colab": {
          "base_uri": "https://localhost:8080/",
          "height": 416
        }
      },
      "source": [
        "X2_Bin.div(X2_Bin.sum().astype(float)).plot(kind=\"bar\", figsize=(5,5))\n",
        "plt.title(\"X2 slots w.r.t. multiple offense\")\n",
        "plt.xlabel(\"Slots of X2\")\n",
        "plt.show()"
      ],
      "execution_count": 0,
      "outputs": [
        {
          "output_type": "display_data",
          "data": {
            "image/png": "[encoded data removed]",
            "text/plain": [
              "<Figure size 360x360 with 1 Axes>"
            ]
          },
          "metadata": {
            "tags": [],
            "needs_background": "light"
          }
        }
      ]
    },
    {
      "cell_type": "code",
      "metadata": {
        "id": "PlWz9qh_MDB6",
        "colab_type": "code",
        "colab": {}
      },
      "source": [
        "# It can be inferred that for X2 variable, mostly hacking happened in range of (20-40) of X2."
      ],
      "execution_count": 0,
      "outputs": []
    },
    {
      "cell_type": "code",
      "metadata": {
        "id": "SqGuKNni7S3N",
        "colab_type": "code",
        "outputId": "905055a9-d941-48ce-c49c-1fd39e9fc54d",
        "colab": {
          "base_uri": "https://localhost:8080/",
          "height": 158
        }
      },
      "source": [
        "X3_hack=pd.crosstab(df['MULTIPLE_OFFENSE'], df['X_3'])\n",
        "X3_hack"
      ],
      "execution_count": 0,
      "outputs": [
        {
          "output_type": "execute_result",
          "data": {
            "text/html": [
              "<div>\n",
              "<style scoped>\n",
              "    .dataframe tbody tr th:only-of-type {\n",
              "        vertical-align: middle;\n",
              "    }\n",
              "\n",
              "    .dataframe tbody tr th {\n",
              "        vertical-align: top;\n",
              "    }\n",
              "\n",
              "    .dataframe thead th {\n",
              "        text-align: right;\n",
              "    }\n",
              "</style>\n",
              "<table border=\"1\" class=\"dataframe\">\n",
              "  <thead>\n",
              "    <tr style=\"text-align: right;\">\n",
              "      <th>X_3</th>\n",
              "      <th>0</th>\n",
              "      <th>1</th>\n",
              "      <th>2</th>\n",
              "      <th>3</th>\n",
              "      <th>4</th>\n",
              "      <th>5</th>\n",
              "      <th>6</th>\n",
              "      <th>7</th>\n",
              "      <th>8</th>\n",
              "      <th>9</th>\n",
              "      <th>10</th>\n",
              "      <th>11</th>\n",
              "      <th>13</th>\n",
              "      <th>14</th>\n",
              "      <th>15</th>\n",
              "      <th>16</th>\n",
              "      <th>17</th>\n",
              "      <th>18</th>\n",
              "      <th>19</th>\n",
              "      <th>20</th>\n",
              "      <th>21</th>\n",
              "      <th>22</th>\n",
              "      <th>23</th>\n",
              "      <th>24</th>\n",
              "      <th>25</th>\n",
              "      <th>26</th>\n",
              "      <th>27</th>\n",
              "      <th>28</th>\n",
              "      <th>29</th>\n",
              "      <th>30</th>\n",
              "      <th>31</th>\n",
              "      <th>32</th>\n",
              "      <th>33</th>\n",
              "      <th>34</th>\n",
              "      <th>35</th>\n",
              "      <th>36</th>\n",
              "      <th>37</th>\n",
              "      <th>38</th>\n",
              "      <th>39</th>\n",
              "      <th>40</th>\n",
              "      <th>41</th>\n",
              "      <th>42</th>\n",
              "      <th>43</th>\n",
              "      <th>44</th>\n",
              "      <th>45</th>\n",
              "      <th>46</th>\n",
              "      <th>47</th>\n",
              "      <th>48</th>\n",
              "      <th>49</th>\n",
              "      <th>50</th>\n",
              "      <th>51</th>\n",
              "      <th>52</th>\n",
              "    </tr>\n",
              "    <tr>\n",
              "      <th>MULTIPLE_OFFENSE</th>\n",
              "      <th></th>\n",
              "      <th></th>\n",
              "      <th></th>\n",
              "      <th></th>\n",
              "      <th></th>\n",
              "      <th></th>\n",
              "      <th></th>\n",
              "      <th></th>\n",
              "      <th></th>\n",
              "      <th></th>\n",
              "      <th></th>\n",
              "      <th></th>\n",
              "      <th></th>\n",
              "      <th></th>\n",
              "      <th></th>\n",
              "      <th></th>\n",
              "      <th></th>\n",
              "      <th></th>\n",
              "      <th></th>\n",
              "      <th></th>\n",
              "      <th></th>\n",
              "      <th></th>\n",
              "      <th></th>\n",
              "      <th></th>\n",
              "      <th></th>\n",
              "      <th></th>\n",
              "      <th></th>\n",
              "      <th></th>\n",
              "      <th></th>\n",
              "      <th></th>\n",
              "      <th></th>\n",
              "      <th></th>\n",
              "      <th></th>\n",
              "      <th></th>\n",
              "      <th></th>\n",
              "      <th></th>\n",
              "      <th></th>\n",
              "      <th></th>\n",
              "      <th></th>\n",
              "      <th></th>\n",
              "      <th></th>\n",
              "      <th></th>\n",
              "      <th></th>\n",
              "      <th></th>\n",
              "      <th></th>\n",
              "      <th></th>\n",
              "      <th></th>\n",
              "      <th></th>\n",
              "      <th></th>\n",
              "      <th></th>\n",
              "      <th></th>\n",
              "      <th></th>\n",
              "    </tr>\n",
              "  </thead>\n",
              "  <tbody>\n",
              "    <tr>\n",
              "      <th>0</th>\n",
              "      <td>0</td>\n",
              "      <td>0</td>\n",
              "      <td>20</td>\n",
              "      <td>3</td>\n",
              "      <td>173</td>\n",
              "      <td>25</td>\n",
              "      <td>40</td>\n",
              "      <td>10</td>\n",
              "      <td>1</td>\n",
              "      <td>0</td>\n",
              "      <td>0</td>\n",
              "      <td>2</td>\n",
              "      <td>0</td>\n",
              "      <td>10</td>\n",
              "      <td>33</td>\n",
              "      <td>7</td>\n",
              "      <td>7</td>\n",
              "      <td>18</td>\n",
              "      <td>19</td>\n",
              "      <td>2</td>\n",
              "      <td>9</td>\n",
              "      <td>7</td>\n",
              "      <td>50</td>\n",
              "      <td>48</td>\n",
              "      <td>6</td>\n",
              "      <td>2</td>\n",
              "      <td>20</td>\n",
              "      <td>3</td>\n",
              "      <td>0</td>\n",
              "      <td>11</td>\n",
              "      <td>2</td>\n",
              "      <td>0</td>\n",
              "      <td>1</td>\n",
              "      <td>186</td>\n",
              "      <td>31</td>\n",
              "      <td>0</td>\n",
              "      <td>47</td>\n",
              "      <td>16</td>\n",
              "      <td>13</td>\n",
              "      <td>25</td>\n",
              "      <td>3</td>\n",
              "      <td>11</td>\n",
              "      <td>3</td>\n",
              "      <td>16</td>\n",
              "      <td>45</td>\n",
              "      <td>11</td>\n",
              "      <td>2</td>\n",
              "      <td>47</td>\n",
              "      <td>69</td>\n",
              "      <td>6</td>\n",
              "      <td>7</td>\n",
              "      <td>1</td>\n",
              "    </tr>\n",
              "    <tr>\n",
              "      <th>1</th>\n",
              "      <td>20</td>\n",
              "      <td>22</td>\n",
              "      <td>758</td>\n",
              "      <td>113</td>\n",
              "      <td>3856</td>\n",
              "      <td>412</td>\n",
              "      <td>394</td>\n",
              "      <td>94</td>\n",
              "      <td>165</td>\n",
              "      <td>2</td>\n",
              "      <td>593</td>\n",
              "      <td>105</td>\n",
              "      <td>6</td>\n",
              "      <td>126</td>\n",
              "      <td>598</td>\n",
              "      <td>231</td>\n",
              "      <td>77</td>\n",
              "      <td>192</td>\n",
              "      <td>351</td>\n",
              "      <td>52</td>\n",
              "      <td>113</td>\n",
              "      <td>665</td>\n",
              "      <td>1204</td>\n",
              "      <td>1296</td>\n",
              "      <td>493</td>\n",
              "      <td>21</td>\n",
              "      <td>336</td>\n",
              "      <td>75</td>\n",
              "      <td>99</td>\n",
              "      <td>175</td>\n",
              "      <td>67</td>\n",
              "      <td>2174</td>\n",
              "      <td>55</td>\n",
              "      <td>2046</td>\n",
              "      <td>235</td>\n",
              "      <td>43</td>\n",
              "      <td>915</td>\n",
              "      <td>148</td>\n",
              "      <td>500</td>\n",
              "      <td>360</td>\n",
              "      <td>90</td>\n",
              "      <td>227</td>\n",
              "      <td>66</td>\n",
              "      <td>412</td>\n",
              "      <td>863</td>\n",
              "      <td>170</td>\n",
              "      <td>53</td>\n",
              "      <td>594</td>\n",
              "      <td>858</td>\n",
              "      <td>97</td>\n",
              "      <td>153</td>\n",
              "      <td>18</td>\n",
              "    </tr>\n",
              "  </tbody>\n",
              "</table>\n",
              "</div>"
            ],
            "text/plain": [
              "X_3               0   1    2    3     4    5   ...  47   48   49  50   51  52\n",
              "MULTIPLE_OFFENSE                               ...                           \n",
              "0                  0   0   20    3   173   25  ...   2   47   69   6    7   1\n",
              "1                 20  22  758  113  3856  412  ...  53  594  858  97  153  18\n",
              "\n",
              "[2 rows x 52 columns]"
            ]
          },
          "metadata": {
            "tags": []
          },
          "execution_count": 60
        }
      ]
    },
    {
      "cell_type": "code",
      "metadata": {
        "id": "v-d625Q_7SNh",
        "colab_type": "code",
        "colab": {}
      },
      "source": [
        "bins=[0,20,40,55]\n",
        "groups=['Low(0-20)','Medium(20-40)', 'High(40-55)']"
      ],
      "execution_count": 0,
      "outputs": []
    },
    {
      "cell_type": "code",
      "metadata": {
        "id": "Tc0ffaw87SGf",
        "colab_type": "code",
        "outputId": "e722f7f0-80dd-4e80-9424-c7fe27d22bde",
        "colab": {
          "base_uri": "https://localhost:8080/",
          "height": 168
        }
      },
      "source": [
        "df['X3_Bin']=pd.cut(df['X_3'],bins,labels=groups)\n",
        "X3_Bin=pd.crosstab(df['X3_Bin'], df['MULTIPLE_OFFENSE'])\n",
        "X3_Bin"
      ],
      "execution_count": 0,
      "outputs": [
        {
          "output_type": "execute_result",
          "data": {
            "text/html": [
              "<div>\n",
              "<style scoped>\n",
              "    .dataframe tbody tr th:only-of-type {\n",
              "        vertical-align: middle;\n",
              "    }\n",
              "\n",
              "    .dataframe tbody tr th {\n",
              "        vertical-align: top;\n",
              "    }\n",
              "\n",
              "    .dataframe thead th {\n",
              "        text-align: right;\n",
              "    }\n",
              "</style>\n",
              "<table border=\"1\" class=\"dataframe\">\n",
              "  <thead>\n",
              "    <tr style=\"text-align: right;\">\n",
              "      <th>MULTIPLE_OFFENSE</th>\n",
              "      <th>0</th>\n",
              "      <th>1</th>\n",
              "    </tr>\n",
              "    <tr>\n",
              "      <th>X3_Bin</th>\n",
              "      <th></th>\n",
              "      <th></th>\n",
              "    </tr>\n",
              "  </thead>\n",
              "  <tbody>\n",
              "    <tr>\n",
              "      <th>Low(0-20)</th>\n",
              "      <td>370</td>\n",
              "      <td>8147</td>\n",
              "    </tr>\n",
              "    <tr>\n",
              "      <th>Medium(20-40)</th>\n",
              "      <td>477</td>\n",
              "      <td>11020</td>\n",
              "    </tr>\n",
              "    <tr>\n",
              "      <th>High(40-55)</th>\n",
              "      <td>221</td>\n",
              "      <td>3601</td>\n",
              "    </tr>\n",
              "  </tbody>\n",
              "</table>\n",
              "</div>"
            ],
            "text/plain": [
              "MULTIPLE_OFFENSE    0      1\n",
              "X3_Bin                      \n",
              "Low(0-20)         370   8147\n",
              "Medium(20-40)     477  11020\n",
              "High(40-55)       221   3601"
            ]
          },
          "metadata": {
            "tags": []
          },
          "execution_count": 62
        }
      ]
    },
    {
      "cell_type": "code",
      "metadata": {
        "id": "dwj6Bj2f5f7U",
        "colab_type": "code",
        "outputId": "d9007ae1-37aa-4fb7-cea7-8bf5bad6310b",
        "colab": {
          "base_uri": "https://localhost:8080/",
          "height": 416
        }
      },
      "source": [
        "X3_Bin.div(X3_Bin.sum().astype(float)).plot(kind=\"bar\", figsize=(5,5))\n",
        "plt.title(\"X3 slots w.r.t. multiple offense\")\n",
        "plt.xlabel(\"Slots of X3\")\n",
        "plt.show()"
      ],
      "execution_count": 0,
      "outputs": [
        {
          "output_type": "display_data",
          "data": {
            "image/png": "[encoded data removed]",
            "text/plain": [
              "<Figure size 360x360 with 1 Axes>"
            ]
          },
          "metadata": {
            "tags": [],
            "needs_background": "light"
          }
        }
      ]
    },
    {
      "cell_type": "code",
      "metadata": {
        "id": "lS5lXaUbMKys",
        "colab_type": "code",
        "colab": {}
      },
      "source": [
        "# It can be inferred that for X3 variable, mostly hacking happened in range of (20-40) of X3."
      ],
      "execution_count": 0,
      "outputs": []
    },
    {
      "cell_type": "code",
      "metadata": {
        "id": "DNbqj4-H8QIX",
        "colab_type": "code",
        "outputId": "5ff5892e-04bd-458d-ffb0-fbc4552fbaef",
        "colab": {
          "base_uri": "https://localhost:8080/",
          "height": 138
        }
      },
      "source": [
        "X4_hack=pd.crosstab(df['MULTIPLE_OFFENSE'], df['X_4'])\n",
        "X4_hack"
      ],
      "execution_count": 0,
      "outputs": [
        {
          "output_type": "execute_result",
          "data": {
            "text/html": [
              "<div>\n",
              "<style scoped>\n",
              "    .dataframe tbody tr th:only-of-type {\n",
              "        vertical-align: middle;\n",
              "    }\n",
              "\n",
              "    .dataframe tbody tr th {\n",
              "        vertical-align: top;\n",
              "    }\n",
              "\n",
              "    .dataframe thead th {\n",
              "        text-align: right;\n",
              "    }\n",
              "</style>\n",
              "<table border=\"1\" class=\"dataframe\">\n",
              "  <thead>\n",
              "    <tr style=\"text-align: right;\">\n",
              "      <th>X_4</th>\n",
              "      <th>0</th>\n",
              "      <th>1</th>\n",
              "      <th>2</th>\n",
              "      <th>3</th>\n",
              "      <th>4</th>\n",
              "      <th>5</th>\n",
              "      <th>6</th>\n",
              "      <th>7</th>\n",
              "      <th>9</th>\n",
              "      <th>10</th>\n",
              "    </tr>\n",
              "    <tr>\n",
              "      <th>MULTIPLE_OFFENSE</th>\n",
              "      <th></th>\n",
              "      <th></th>\n",
              "      <th></th>\n",
              "      <th></th>\n",
              "      <th></th>\n",
              "      <th></th>\n",
              "      <th></th>\n",
              "      <th></th>\n",
              "      <th></th>\n",
              "      <th></th>\n",
              "    </tr>\n",
              "  </thead>\n",
              "  <tbody>\n",
              "    <tr>\n",
              "      <th>0</th>\n",
              "      <td>142</td>\n",
              "      <td>37</td>\n",
              "      <td>211</td>\n",
              "      <td>82</td>\n",
              "      <td>106</td>\n",
              "      <td>0</td>\n",
              "      <td>255</td>\n",
              "      <td>115</td>\n",
              "      <td>54</td>\n",
              "      <td>66</td>\n",
              "    </tr>\n",
              "    <tr>\n",
              "      <th>1</th>\n",
              "      <td>3193</td>\n",
              "      <td>804</td>\n",
              "      <td>4580</td>\n",
              "      <td>1789</td>\n",
              "      <td>1921</td>\n",
              "      <td>2</td>\n",
              "      <td>5242</td>\n",
              "      <td>2775</td>\n",
              "      <td>1306</td>\n",
              "      <td>1176</td>\n",
              "    </tr>\n",
              "  </tbody>\n",
              "</table>\n",
              "</div>"
            ],
            "text/plain": [
              "X_4                 0    1     2     3     4   5     6     7     9     10\n",
              "MULTIPLE_OFFENSE                                                         \n",
              "0                  142   37   211    82   106   0   255   115    54    66\n",
              "1                 3193  804  4580  1789  1921   2  5242  2775  1306  1176"
            ]
          },
          "metadata": {
            "tags": []
          },
          "execution_count": 65
        }
      ]
    },
    {
      "cell_type": "code",
      "metadata": {
        "id": "Wijpjr4f8QjH",
        "colab_type": "code",
        "colab": {}
      },
      "source": [
        "bins=[0,3,6,10]\n",
        "groups=['Low(0-3)','Medium(3-6)', 'High(6-10)']"
      ],
      "execution_count": 0,
      "outputs": []
    },
    {
      "cell_type": "code",
      "metadata": {
        "id": "JegA4EGp8Q9q",
        "colab_type": "code",
        "outputId": "48bd6fe1-c557-4a71-956b-37c096f9b036",
        "colab": {
          "base_uri": "https://localhost:8080/",
          "height": 168
        }
      },
      "source": [
        "df['X4_Bin']=pd.cut(df['X_4'],bins,labels=groups)\n",
        "X4_Bin=pd.crosstab(df['X4_Bin'], df['MULTIPLE_OFFENSE'])\n",
        "X4_Bin"
      ],
      "execution_count": 0,
      "outputs": [
        {
          "output_type": "execute_result",
          "data": {
            "text/html": [
              "<div>\n",
              "<style scoped>\n",
              "    .dataframe tbody tr th:only-of-type {\n",
              "        vertical-align: middle;\n",
              "    }\n",
              "\n",
              "    .dataframe tbody tr th {\n",
              "        vertical-align: top;\n",
              "    }\n",
              "\n",
              "    .dataframe thead th {\n",
              "        text-align: right;\n",
              "    }\n",
              "</style>\n",
              "<table border=\"1\" class=\"dataframe\">\n",
              "  <thead>\n",
              "    <tr style=\"text-align: right;\">\n",
              "      <th>MULTIPLE_OFFENSE</th>\n",
              "      <th>0</th>\n",
              "      <th>1</th>\n",
              "    </tr>\n",
              "    <tr>\n",
              "      <th>X4_Bin</th>\n",
              "      <th></th>\n",
              "      <th></th>\n",
              "    </tr>\n",
              "  </thead>\n",
              "  <tbody>\n",
              "    <tr>\n",
              "      <th>Low(0-3)</th>\n",
              "      <td>330</td>\n",
              "      <td>7173</td>\n",
              "    </tr>\n",
              "    <tr>\n",
              "      <th>Medium(3-6)</th>\n",
              "      <td>361</td>\n",
              "      <td>7165</td>\n",
              "    </tr>\n",
              "    <tr>\n",
              "      <th>High(6-10)</th>\n",
              "      <td>235</td>\n",
              "      <td>5257</td>\n",
              "    </tr>\n",
              "  </tbody>\n",
              "</table>\n",
              "</div>"
            ],
            "text/plain": [
              "MULTIPLE_OFFENSE    0     1\n",
              "X4_Bin                     \n",
              "Low(0-3)          330  7173\n",
              "Medium(3-6)       361  7165\n",
              "High(6-10)        235  5257"
            ]
          },
          "metadata": {
            "tags": []
          },
          "execution_count": 67
        }
      ]
    },
    {
      "cell_type": "code",
      "metadata": {
        "id": "E5UXq1yj8RWz",
        "colab_type": "code",
        "outputId": "e6626538-1dfa-4096-d0a5-33a7afae234b",
        "colab": {
          "base_uri": "https://localhost:8080/",
          "height": 404
        }
      },
      "source": [
        "X4_Bin.div(X4_Bin.sum().astype(float)).plot(kind=\"bar\", figsize=(5,5))\n",
        "plt.title(\"X4 slots w.r.t. multiple offense\")\n",
        "plt.xlabel(\"Slots of X4\")\n",
        "plt.show()"
      ],
      "execution_count": 0,
      "outputs": [
        {
          "output_type": "display_data",
          "data": {
            "image/png": "[encoded data removed]",
            "text/plain": [
              "<Figure size 360x360 with 1 Axes>"
            ]
          },
          "metadata": {
            "tags": [],
            "needs_background": "light"
          }
        }
      ]
    },
    {
      "cell_type": "code",
      "metadata": {
        "id": "Y7hq9pqmMRI2",
        "colab_type": "code",
        "colab": {}
      },
      "source": [
        "# It can be inferred that for X4 variable, mostly hacking happened in range of (0-6) of X4."
      ],
      "execution_count": 0,
      "outputs": []
    },
    {
      "cell_type": "code",
      "metadata": {
        "id": "MSV_OJR98R9F",
        "colab_type": "code",
        "outputId": "45eec15f-243f-455e-d0c2-e3cf3c4b378c",
        "colab": {
          "base_uri": "https://localhost:8080/",
          "height": 138
        }
      },
      "source": [
        "X5_hack=pd.crosstab(df['MULTIPLE_OFFENSE'], df['X_5'])\n",
        "X5_hack"
      ],
      "execution_count": 0,
      "outputs": [
        {
          "output_type": "execute_result",
          "data": {
            "text/html": [
              "<div>\n",
              "<style scoped>\n",
              "    .dataframe tbody tr th:only-of-type {\n",
              "        vertical-align: middle;\n",
              "    }\n",
              "\n",
              "    .dataframe tbody tr th {\n",
              "        vertical-align: top;\n",
              "    }\n",
              "\n",
              "    .dataframe thead th {\n",
              "        text-align: right;\n",
              "    }\n",
              "</style>\n",
              "<table border=\"1\" class=\"dataframe\">\n",
              "  <thead>\n",
              "    <tr style=\"text-align: right;\">\n",
              "      <th>X_5</th>\n",
              "      <th>0</th>\n",
              "      <th>1</th>\n",
              "      <th>2</th>\n",
              "      <th>3</th>\n",
              "      <th>5</th>\n",
              "    </tr>\n",
              "    <tr>\n",
              "      <th>MULTIPLE_OFFENSE</th>\n",
              "      <th></th>\n",
              "      <th></th>\n",
              "      <th></th>\n",
              "      <th></th>\n",
              "      <th></th>\n",
              "    </tr>\n",
              "  </thead>\n",
              "  <tbody>\n",
              "    <tr>\n",
              "      <th>0</th>\n",
              "      <td>196</td>\n",
              "      <td>317</td>\n",
              "      <td>0</td>\n",
              "      <td>218</td>\n",
              "      <td>337</td>\n",
              "    </tr>\n",
              "    <tr>\n",
              "      <th>1</th>\n",
              "      <td>4499</td>\n",
              "      <td>6501</td>\n",
              "      <td>2</td>\n",
              "      <td>4755</td>\n",
              "      <td>7031</td>\n",
              "    </tr>\n",
              "  </tbody>\n",
              "</table>\n",
              "</div>"
            ],
            "text/plain": [
              "X_5                  0     1  2     3     5\n",
              "MULTIPLE_OFFENSE                           \n",
              "0                  196   317  0   218   337\n",
              "1                 4499  6501  2  4755  7031"
            ]
          },
          "metadata": {
            "tags": []
          },
          "execution_count": 70
        }
      ]
    },
    {
      "cell_type": "code",
      "metadata": {
        "id": "P4jObcKg8SWa",
        "colab_type": "code",
        "colab": {}
      },
      "source": [
        "bins=[0,2,5]\n",
        "groups=['Low(0-2)','Medium(2-5)']"
      ],
      "execution_count": 0,
      "outputs": []
    },
    {
      "cell_type": "code",
      "metadata": {
        "id": "ZgAOSpAe8S2v",
        "colab_type": "code",
        "outputId": "3bb9f676-2e8c-4476-f4cb-84a7bd12be96",
        "colab": {
          "base_uri": "https://localhost:8080/",
          "height": 138
        }
      },
      "source": [
        "df['X5_Bin']=pd.cut(df['X_5'],bins,labels=groups)\n",
        "X5_Bin=pd.crosstab(df['X5_Bin'], df['MULTIPLE_OFFENSE'])\n",
        "X5_Bin"
      ],
      "execution_count": 0,
      "outputs": [
        {
          "output_type": "execute_result",
          "data": {
            "text/html": [
              "<div>\n",
              "<style scoped>\n",
              "    .dataframe tbody tr th:only-of-type {\n",
              "        vertical-align: middle;\n",
              "    }\n",
              "\n",
              "    .dataframe tbody tr th {\n",
              "        vertical-align: top;\n",
              "    }\n",
              "\n",
              "    .dataframe thead th {\n",
              "        text-align: right;\n",
              "    }\n",
              "</style>\n",
              "<table border=\"1\" class=\"dataframe\">\n",
              "  <thead>\n",
              "    <tr style=\"text-align: right;\">\n",
              "      <th>MULTIPLE_OFFENSE</th>\n",
              "      <th>0</th>\n",
              "      <th>1</th>\n",
              "    </tr>\n",
              "    <tr>\n",
              "      <th>X5_Bin</th>\n",
              "      <th></th>\n",
              "      <th></th>\n",
              "    </tr>\n",
              "  </thead>\n",
              "  <tbody>\n",
              "    <tr>\n",
              "      <th>Low(0-2)</th>\n",
              "      <td>317</td>\n",
              "      <td>6503</td>\n",
              "    </tr>\n",
              "    <tr>\n",
              "      <th>Medium(2-5)</th>\n",
              "      <td>555</td>\n",
              "      <td>11786</td>\n",
              "    </tr>\n",
              "  </tbody>\n",
              "</table>\n",
              "</div>"
            ],
            "text/plain": [
              "MULTIPLE_OFFENSE    0      1\n",
              "X5_Bin                      \n",
              "Low(0-2)          317   6503\n",
              "Medium(2-5)       555  11786"
            ]
          },
          "metadata": {
            "tags": []
          },
          "execution_count": 72
        }
      ]
    },
    {
      "cell_type": "code",
      "metadata": {
        "id": "jGxpCZ9x8TK9",
        "colab_type": "code",
        "outputId": "aca25720-6a0d-4912-f181-3b5077204069",
        "colab": {
          "base_uri": "https://localhost:8080/",
          "height": 404
        }
      },
      "source": [
        "X5_Bin.div(X5_Bin.sum().astype(float)).plot(kind=\"bar\", figsize=(5,5))\n",
        "plt.title(\"X5 slots w.r.t. multiple offense\")\n",
        "plt.xlabel(\"Slots of X5\")\n",
        "plt.show()"
      ],
      "execution_count": 0,
      "outputs": [
        {
          "output_type": "display_data",
          "data": {
            "image/png": "[encoded data removed]",
            "text/plain": [
              "<Figure size 360x360 with 1 Axes>"
            ]
          },
          "metadata": {
            "tags": [],
            "needs_background": "light"
          }
        }
      ]
    },
    {
      "cell_type": "code",
      "metadata": {
        "id": "7aSzmL2KMXI9",
        "colab_type": "code",
        "colab": {}
      },
      "source": [
        "# It can be inferred that for X5 variable, mostly hacking happened in range of (2-5) of X5."
      ],
      "execution_count": 0,
      "outputs": []
    },
    {
      "cell_type": "code",
      "metadata": {
        "id": "nJPhAUe98Tic",
        "colab_type": "code",
        "outputId": "73f99064-560e-4383-bba9-74cf68318c0b",
        "colab": {
          "base_uri": "https://localhost:8080/",
          "height": 158
        }
      },
      "source": [
        "X6_hack=pd.crosstab(df['MULTIPLE_OFFENSE'], df['X_6'])\n",
        "X6_hack"
      ],
      "execution_count": 0,
      "outputs": [
        {
          "output_type": "execute_result",
          "data": {
            "text/html": [
              "<div>\n",
              "<style scoped>\n",
              "    .dataframe tbody tr th:only-of-type {\n",
              "        vertical-align: middle;\n",
              "    }\n",
              "\n",
              "    .dataframe tbody tr th {\n",
              "        vertical-align: top;\n",
              "    }\n",
              "\n",
              "    .dataframe thead th {\n",
              "        text-align: right;\n",
              "    }\n",
              "</style>\n",
              "<table border=\"1\" class=\"dataframe\">\n",
              "  <thead>\n",
              "    <tr style=\"text-align: right;\">\n",
              "      <th>X_6</th>\n",
              "      <th>1</th>\n",
              "      <th>2</th>\n",
              "      <th>3</th>\n",
              "      <th>4</th>\n",
              "      <th>5</th>\n",
              "      <th>6</th>\n",
              "      <th>7</th>\n",
              "      <th>8</th>\n",
              "      <th>9</th>\n",
              "      <th>10</th>\n",
              "      <th>11</th>\n",
              "      <th>12</th>\n",
              "      <th>13</th>\n",
              "      <th>14</th>\n",
              "      <th>15</th>\n",
              "      <th>16</th>\n",
              "      <th>17</th>\n",
              "      <th>18</th>\n",
              "      <th>19</th>\n",
              "    </tr>\n",
              "    <tr>\n",
              "      <th>MULTIPLE_OFFENSE</th>\n",
              "      <th></th>\n",
              "      <th></th>\n",
              "      <th></th>\n",
              "      <th></th>\n",
              "      <th></th>\n",
              "      <th></th>\n",
              "      <th></th>\n",
              "      <th></th>\n",
              "      <th></th>\n",
              "      <th></th>\n",
              "      <th></th>\n",
              "      <th></th>\n",
              "      <th></th>\n",
              "      <th></th>\n",
              "      <th></th>\n",
              "      <th></th>\n",
              "      <th></th>\n",
              "      <th></th>\n",
              "      <th></th>\n",
              "    </tr>\n",
              "  </thead>\n",
              "  <tbody>\n",
              "    <tr>\n",
              "      <th>0</th>\n",
              "      <td>170</td>\n",
              "      <td>86</td>\n",
              "      <td>87</td>\n",
              "      <td>109</td>\n",
              "      <td>114</td>\n",
              "      <td>111</td>\n",
              "      <td>83</td>\n",
              "      <td>65</td>\n",
              "      <td>39</td>\n",
              "      <td>3</td>\n",
              "      <td>11</td>\n",
              "      <td>16</td>\n",
              "      <td>6</td>\n",
              "      <td>1</td>\n",
              "      <td>114</td>\n",
              "      <td>36</td>\n",
              "      <td>7</td>\n",
              "      <td>10</td>\n",
              "      <td>0</td>\n",
              "    </tr>\n",
              "    <tr>\n",
              "      <th>1</th>\n",
              "      <td>3291</td>\n",
              "      <td>2212</td>\n",
              "      <td>1621</td>\n",
              "      <td>2210</td>\n",
              "      <td>2565</td>\n",
              "      <td>2518</td>\n",
              "      <td>2203</td>\n",
              "      <td>1340</td>\n",
              "      <td>1228</td>\n",
              "      <td>22</td>\n",
              "      <td>189</td>\n",
              "      <td>194</td>\n",
              "      <td>133</td>\n",
              "      <td>17</td>\n",
              "      <td>2204</td>\n",
              "      <td>584</td>\n",
              "      <td>103</td>\n",
              "      <td>152</td>\n",
              "      <td>2</td>\n",
              "    </tr>\n",
              "  </tbody>\n",
              "</table>\n",
              "</div>"
            ],
            "text/plain": [
              "X_6                 1     2     3     4     5   ...    15   16   17   18  19\n",
              "MULTIPLE_OFFENSE                                ...                         \n",
              "0                  170    86    87   109   114  ...   114   36    7   10   0\n",
              "1                 3291  2212  1621  2210  2565  ...  2204  584  103  152   2\n",
              "\n",
              "[2 rows x 19 columns]"
            ]
          },
          "metadata": {
            "tags": []
          },
          "execution_count": 75
        }
      ]
    },
    {
      "cell_type": "code",
      "metadata": {
        "id": "s13O0UYr8Tdn",
        "colab_type": "code",
        "colab": {}
      },
      "source": [
        "bins=[0,7,14,20]\n",
        "groups=['Low(0-7)','Medium(7-14)', 'High(14-20)']"
      ],
      "execution_count": 0,
      "outputs": []
    },
    {
      "cell_type": "code",
      "metadata": {
        "id": "0Vt3q4Qn8Sym",
        "colab_type": "code",
        "outputId": "736aa16e-7650-4b68-8837-717c4ec6eeca",
        "colab": {
          "base_uri": "https://localhost:8080/",
          "height": 168
        }
      },
      "source": [
        "df['X6_Bin']=pd.cut(df['X_6'],bins,labels=groups)\n",
        "X6_Bin=pd.crosstab(df['X6_Bin'], df['MULTIPLE_OFFENSE'])\n",
        "X6_Bin"
      ],
      "execution_count": 0,
      "outputs": [
        {
          "output_type": "execute_result",
          "data": {
            "text/html": [
              "<div>\n",
              "<style scoped>\n",
              "    .dataframe tbody tr th:only-of-type {\n",
              "        vertical-align: middle;\n",
              "    }\n",
              "\n",
              "    .dataframe tbody tr th {\n",
              "        vertical-align: top;\n",
              "    }\n",
              "\n",
              "    .dataframe thead th {\n",
              "        text-align: right;\n",
              "    }\n",
              "</style>\n",
              "<table border=\"1\" class=\"dataframe\">\n",
              "  <thead>\n",
              "    <tr style=\"text-align: right;\">\n",
              "      <th>MULTIPLE_OFFENSE</th>\n",
              "      <th>0</th>\n",
              "      <th>1</th>\n",
              "    </tr>\n",
              "    <tr>\n",
              "      <th>X6_Bin</th>\n",
              "      <th></th>\n",
              "      <th></th>\n",
              "    </tr>\n",
              "  </thead>\n",
              "  <tbody>\n",
              "    <tr>\n",
              "      <th>Low(0-7)</th>\n",
              "      <td>760</td>\n",
              "      <td>16620</td>\n",
              "    </tr>\n",
              "    <tr>\n",
              "      <th>Medium(7-14)</th>\n",
              "      <td>141</td>\n",
              "      <td>3123</td>\n",
              "    </tr>\n",
              "    <tr>\n",
              "      <th>High(14-20)</th>\n",
              "      <td>167</td>\n",
              "      <td>3045</td>\n",
              "    </tr>\n",
              "  </tbody>\n",
              "</table>\n",
              "</div>"
            ],
            "text/plain": [
              "MULTIPLE_OFFENSE    0      1\n",
              "X6_Bin                      \n",
              "Low(0-7)          760  16620\n",
              "Medium(7-14)      141   3123\n",
              "High(14-20)       167   3045"
            ]
          },
          "metadata": {
            "tags": []
          },
          "execution_count": 77
        }
      ]
    },
    {
      "cell_type": "code",
      "metadata": {
        "id": "__aEUAI-8SpX",
        "colab_type": "code",
        "outputId": "6a15d322-4fde-415d-c769-bc4dde815024",
        "colab": {
          "base_uri": "https://localhost:8080/",
          "height": 410
        }
      },
      "source": [
        "X6_Bin.div(X6_Bin.sum().astype(float)).plot(kind=\"bar\", figsize=(5,5))\n",
        "plt.title(\"X6 slots w.r.t. multiple offense\")\n",
        "plt.xlabel(\"Slots of X6\")\n",
        "plt.show()"
      ],
      "execution_count": 0,
      "outputs": [
        {
          "output_type": "display_data",
          "data": {
            "image/png": "[encoded data removed]",
            "text/plain": [
              "<Figure size 360x360 with 1 Axes>"
            ]
          },
          "metadata": {
            "tags": [],
            "needs_background": "light"
          }
        }
      ]
    },
    {
      "cell_type": "code",
      "metadata": {
        "id": "IhRlPurtMeAc",
        "colab_type": "code",
        "colab": {}
      },
      "source": [
        "# It can be inferred that for X6 variable, mostly hacking happened in range of (0-7) of X6."
      ],
      "execution_count": 0,
      "outputs": []
    },
    {
      "cell_type": "code",
      "metadata": {
        "id": "1toP-2sW8Sh8",
        "colab_type": "code",
        "outputId": "63adc972-d51c-4e3a-a0ad-d3a1f031c5d8",
        "colab": {
          "base_uri": "https://localhost:8080/",
          "height": 158
        }
      },
      "source": [
        "X7_hack=pd.crosstab(df['MULTIPLE_OFFENSE'], df['X_7'])\n",
        "X7_hack"
      ],
      "execution_count": 0,
      "outputs": [
        {
          "output_type": "execute_result",
          "data": {
            "text/html": [
              "<div>\n",
              "<style scoped>\n",
              "    .dataframe tbody tr th:only-of-type {\n",
              "        vertical-align: middle;\n",
              "    }\n",
              "\n",
              "    .dataframe tbody tr th {\n",
              "        vertical-align: top;\n",
              "    }\n",
              "\n",
              "    .dataframe thead th {\n",
              "        text-align: right;\n",
              "    }\n",
              "</style>\n",
              "<table border=\"1\" class=\"dataframe\">\n",
              "  <thead>\n",
              "    <tr style=\"text-align: right;\">\n",
              "      <th>X_7</th>\n",
              "      <th>0</th>\n",
              "      <th>1</th>\n",
              "      <th>2</th>\n",
              "      <th>3</th>\n",
              "      <th>4</th>\n",
              "      <th>5</th>\n",
              "      <th>6</th>\n",
              "      <th>7</th>\n",
              "      <th>8</th>\n",
              "      <th>9</th>\n",
              "      <th>10</th>\n",
              "      <th>11</th>\n",
              "      <th>12</th>\n",
              "      <th>13</th>\n",
              "      <th>14</th>\n",
              "      <th>15</th>\n",
              "      <th>16</th>\n",
              "      <th>17</th>\n",
              "      <th>18</th>\n",
              "    </tr>\n",
              "    <tr>\n",
              "      <th>MULTIPLE_OFFENSE</th>\n",
              "      <th></th>\n",
              "      <th></th>\n",
              "      <th></th>\n",
              "      <th></th>\n",
              "      <th></th>\n",
              "      <th></th>\n",
              "      <th></th>\n",
              "      <th></th>\n",
              "      <th></th>\n",
              "      <th></th>\n",
              "      <th></th>\n",
              "      <th></th>\n",
              "      <th></th>\n",
              "      <th></th>\n",
              "      <th></th>\n",
              "      <th></th>\n",
              "      <th></th>\n",
              "      <th></th>\n",
              "      <th></th>\n",
              "    </tr>\n",
              "  </thead>\n",
              "  <tbody>\n",
              "    <tr>\n",
              "      <th>0</th>\n",
              "      <td>170</td>\n",
              "      <td>83</td>\n",
              "      <td>109</td>\n",
              "      <td>65</td>\n",
              "      <td>111</td>\n",
              "      <td>87</td>\n",
              "      <td>114</td>\n",
              "      <td>86</td>\n",
              "      <td>39</td>\n",
              "      <td>0</td>\n",
              "      <td>114</td>\n",
              "      <td>7</td>\n",
              "      <td>36</td>\n",
              "      <td>10</td>\n",
              "      <td>1</td>\n",
              "      <td>3</td>\n",
              "      <td>16</td>\n",
              "      <td>11</td>\n",
              "      <td>6</td>\n",
              "    </tr>\n",
              "    <tr>\n",
              "      <th>1</th>\n",
              "      <td>3291</td>\n",
              "      <td>2203</td>\n",
              "      <td>2210</td>\n",
              "      <td>1340</td>\n",
              "      <td>2518</td>\n",
              "      <td>1621</td>\n",
              "      <td>2565</td>\n",
              "      <td>2212</td>\n",
              "      <td>1228</td>\n",
              "      <td>2</td>\n",
              "      <td>2204</td>\n",
              "      <td>103</td>\n",
              "      <td>584</td>\n",
              "      <td>152</td>\n",
              "      <td>17</td>\n",
              "      <td>22</td>\n",
              "      <td>194</td>\n",
              "      <td>189</td>\n",
              "      <td>133</td>\n",
              "    </tr>\n",
              "  </tbody>\n",
              "</table>\n",
              "</div>"
            ],
            "text/plain": [
              "X_7                 0     1     2     3     4   ...  14  15   16   17   18\n",
              "MULTIPLE_OFFENSE                                ...                       \n",
              "0                  170    83   109    65   111  ...   1   3   16   11    6\n",
              "1                 3291  2203  2210  1340  2518  ...  17  22  194  189  133\n",
              "\n",
              "[2 rows x 19 columns]"
            ]
          },
          "metadata": {
            "tags": []
          },
          "execution_count": 80
        }
      ]
    },
    {
      "cell_type": "code",
      "metadata": {
        "id": "TlO6u2D18SSJ",
        "colab_type": "code",
        "colab": {}
      },
      "source": [
        "bins=[0,7,14,20]\n",
        "groups=['Low(0-7)','Medium(7-14)', 'High(14-20)']"
      ],
      "execution_count": 0,
      "outputs": []
    },
    {
      "cell_type": "code",
      "metadata": {
        "id": "PllCAJFn8SMk",
        "colab_type": "code",
        "outputId": "b13b5bd2-a1c8-481e-8cea-6499253adc67",
        "colab": {
          "base_uri": "https://localhost:8080/",
          "height": 168
        }
      },
      "source": [
        "df['X7_Bin']=pd.cut(df['X_7'],bins,labels=groups)\n",
        "X7_Bin=pd.crosstab(df['X7_Bin'], df['MULTIPLE_OFFENSE'])\n",
        "X7_Bin"
      ],
      "execution_count": 0,
      "outputs": [
        {
          "output_type": "execute_result",
          "data": {
            "text/html": [
              "<div>\n",
              "<style scoped>\n",
              "    .dataframe tbody tr th:only-of-type {\n",
              "        vertical-align: middle;\n",
              "    }\n",
              "\n",
              "    .dataframe tbody tr th {\n",
              "        vertical-align: top;\n",
              "    }\n",
              "\n",
              "    .dataframe thead th {\n",
              "        text-align: right;\n",
              "    }\n",
              "</style>\n",
              "<table border=\"1\" class=\"dataframe\">\n",
              "  <thead>\n",
              "    <tr style=\"text-align: right;\">\n",
              "      <th>MULTIPLE_OFFENSE</th>\n",
              "      <th>0</th>\n",
              "      <th>1</th>\n",
              "    </tr>\n",
              "    <tr>\n",
              "      <th>X7_Bin</th>\n",
              "      <th></th>\n",
              "      <th></th>\n",
              "    </tr>\n",
              "  </thead>\n",
              "  <tbody>\n",
              "    <tr>\n",
              "      <th>Low(0-7)</th>\n",
              "      <td>655</td>\n",
              "      <td>14669</td>\n",
              "    </tr>\n",
              "    <tr>\n",
              "      <th>Medium(7-14)</th>\n",
              "      <td>207</td>\n",
              "      <td>4290</td>\n",
              "    </tr>\n",
              "    <tr>\n",
              "      <th>High(14-20)</th>\n",
              "      <td>36</td>\n",
              "      <td>538</td>\n",
              "    </tr>\n",
              "  </tbody>\n",
              "</table>\n",
              "</div>"
            ],
            "text/plain": [
              "MULTIPLE_OFFENSE    0      1\n",
              "X7_Bin                      \n",
              "Low(0-7)          655  14669\n",
              "Medium(7-14)      207   4290\n",
              "High(14-20)        36    538"
            ]
          },
          "metadata": {
            "tags": []
          },
          "execution_count": 82
        }
      ]
    },
    {
      "cell_type": "code",
      "metadata": {
        "id": "GZ4MjphX8R2I",
        "colab_type": "code",
        "outputId": "66a195ed-e02d-4064-db73-ba1b1aa717e3",
        "colab": {
          "base_uri": "https://localhost:8080/",
          "height": 410
        }
      },
      "source": [
        "X7_Bin.div(X7_Bin.sum().astype(float)).plot(kind=\"bar\", figsize=(5,5))\n",
        "plt.title(\"X7 slots w.r.t. multiple offense\")\n",
        "plt.xlabel(\"Slots of X7\")\n",
        "plt.show()"
      ],
      "execution_count": 0,
      "outputs": [
        {
          "output_type": "display_data",
          "data": {
            "image/png": "[encoded data removed]",
            "text/plain": [
              "<Figure size 360x360 with 1 Axes>"
            ]
          },
          "metadata": {
            "tags": [],
            "needs_background": "light"
          }
        }
      ]
    },
    {
      "cell_type": "code",
      "metadata": {
        "id": "2TW5SAupMjz1",
        "colab_type": "code",
        "colab": {}
      },
      "source": [
        "# It can be inferred that for X7 variable, mostly hacking happened in range of (0-7) of X7."
      ],
      "execution_count": 0,
      "outputs": []
    },
    {
      "cell_type": "code",
      "metadata": {
        "id": "2Ak7tRyw8RuE",
        "colab_type": "code",
        "outputId": "d3c51c58-c031-491e-c46d-bfb3a645d1a5",
        "colab": {
          "base_uri": "https://localhost:8080/",
          "height": 158
        }
      },
      "source": [
        "X8_hack=pd.crosstab(df['MULTIPLE_OFFENSE'], df['X_8'])\n",
        "X8_hack"
      ],
      "execution_count": 0,
      "outputs": [
        {
          "output_type": "execute_result",
          "data": {
            "text/html": [
              "<div>\n",
              "<style scoped>\n",
              "    .dataframe tbody tr th:only-of-type {\n",
              "        vertical-align: middle;\n",
              "    }\n",
              "\n",
              "    .dataframe tbody tr th {\n",
              "        vertical-align: top;\n",
              "    }\n",
              "\n",
              "    .dataframe thead th {\n",
              "        text-align: right;\n",
              "    }\n",
              "</style>\n",
              "<table border=\"1\" class=\"dataframe\">\n",
              "  <thead>\n",
              "    <tr style=\"text-align: right;\">\n",
              "      <th>X_8</th>\n",
              "      <th>0</th>\n",
              "      <th>1</th>\n",
              "      <th>2</th>\n",
              "      <th>3</th>\n",
              "      <th>4</th>\n",
              "      <th>5</th>\n",
              "      <th>6</th>\n",
              "      <th>7</th>\n",
              "      <th>8</th>\n",
              "      <th>9</th>\n",
              "      <th>10</th>\n",
              "      <th>11</th>\n",
              "      <th>12</th>\n",
              "      <th>13</th>\n",
              "      <th>14</th>\n",
              "      <th>15</th>\n",
              "      <th>16</th>\n",
              "      <th>20</th>\n",
              "      <th>21</th>\n",
              "      <th>22</th>\n",
              "      <th>29</th>\n",
              "      <th>30</th>\n",
              "      <th>50</th>\n",
              "      <th>99</th>\n",
              "    </tr>\n",
              "    <tr>\n",
              "      <th>MULTIPLE_OFFENSE</th>\n",
              "      <th></th>\n",
              "      <th></th>\n",
              "      <th></th>\n",
              "      <th></th>\n",
              "      <th></th>\n",
              "      <th></th>\n",
              "      <th></th>\n",
              "      <th></th>\n",
              "      <th></th>\n",
              "      <th></th>\n",
              "      <th></th>\n",
              "      <th></th>\n",
              "      <th></th>\n",
              "      <th></th>\n",
              "      <th></th>\n",
              "      <th></th>\n",
              "      <th></th>\n",
              "      <th></th>\n",
              "      <th></th>\n",
              "      <th></th>\n",
              "      <th></th>\n",
              "      <th></th>\n",
              "      <th></th>\n",
              "      <th></th>\n",
              "    </tr>\n",
              "  </thead>\n",
              "  <tbody>\n",
              "    <tr>\n",
              "      <th>0</th>\n",
              "      <td>396</td>\n",
              "      <td>409</td>\n",
              "      <td>125</td>\n",
              "      <td>67</td>\n",
              "      <td>34</td>\n",
              "      <td>19</td>\n",
              "      <td>5</td>\n",
              "      <td>1</td>\n",
              "      <td>4</td>\n",
              "      <td>0</td>\n",
              "      <td>2</td>\n",
              "      <td>2</td>\n",
              "      <td>1</td>\n",
              "      <td>0</td>\n",
              "      <td>0</td>\n",
              "      <td>1</td>\n",
              "      <td>0</td>\n",
              "      <td>1</td>\n",
              "      <td>0</td>\n",
              "      <td>0</td>\n",
              "      <td>1</td>\n",
              "      <td>0</td>\n",
              "      <td>0</td>\n",
              "      <td>0</td>\n",
              "    </tr>\n",
              "    <tr>\n",
              "      <th>1</th>\n",
              "      <td>8378</td>\n",
              "      <td>10601</td>\n",
              "      <td>2143</td>\n",
              "      <td>900</td>\n",
              "      <td>370</td>\n",
              "      <td>188</td>\n",
              "      <td>74</td>\n",
              "      <td>32</td>\n",
              "      <td>28</td>\n",
              "      <td>16</td>\n",
              "      <td>21</td>\n",
              "      <td>6</td>\n",
              "      <td>7</td>\n",
              "      <td>2</td>\n",
              "      <td>2</td>\n",
              "      <td>10</td>\n",
              "      <td>2</td>\n",
              "      <td>3</td>\n",
              "      <td>1</td>\n",
              "      <td>1</td>\n",
              "      <td>0</td>\n",
              "      <td>1</td>\n",
              "      <td>1</td>\n",
              "      <td>1</td>\n",
              "    </tr>\n",
              "  </tbody>\n",
              "</table>\n",
              "</div>"
            ],
            "text/plain": [
              "X_8                 0      1     2    3    4    5   ...  21  22  29  30  50  99\n",
              "MULTIPLE_OFFENSE                                    ...                        \n",
              "0                  396    409   125   67   34   19  ...   0   0   1   0   0   0\n",
              "1                 8378  10601  2143  900  370  188  ...   1   1   0   1   1   1\n",
              "\n",
              "[2 rows x 24 columns]"
            ]
          },
          "metadata": {
            "tags": []
          },
          "execution_count": 85
        }
      ]
    },
    {
      "cell_type": "code",
      "metadata": {
        "id": "cX7oSPWi8RoC",
        "colab_type": "code",
        "colab": {}
      },
      "source": [
        "bins=[0,30,60,100]\n",
        "groups=['Low(0-30)','Medium(30-60)', 'High(60-100)']"
      ],
      "execution_count": 0,
      "outputs": []
    },
    {
      "cell_type": "code",
      "metadata": {
        "id": "9JPUolk68RRQ",
        "colab_type": "code",
        "outputId": "3b4b0bc3-d00f-4952-e14c-b8d82938f1af",
        "colab": {
          "base_uri": "https://localhost:8080/",
          "height": 168
        }
      },
      "source": [
        "df['X8_Bin']=pd.cut(df['X_8'],bins,labels=groups)\n",
        "X8_Bin=pd.crosstab(df['X8_Bin'], df['MULTIPLE_OFFENSE'])\n",
        "X8_Bin"
      ],
      "execution_count": 0,
      "outputs": [
        {
          "output_type": "execute_result",
          "data": {
            "text/html": [
              "<div>\n",
              "<style scoped>\n",
              "    .dataframe tbody tr th:only-of-type {\n",
              "        vertical-align: middle;\n",
              "    }\n",
              "\n",
              "    .dataframe tbody tr th {\n",
              "        vertical-align: top;\n",
              "    }\n",
              "\n",
              "    .dataframe thead th {\n",
              "        text-align: right;\n",
              "    }\n",
              "</style>\n",
              "<table border=\"1\" class=\"dataframe\">\n",
              "  <thead>\n",
              "    <tr style=\"text-align: right;\">\n",
              "      <th>MULTIPLE_OFFENSE</th>\n",
              "      <th>0</th>\n",
              "      <th>1</th>\n",
              "    </tr>\n",
              "    <tr>\n",
              "      <th>X8_Bin</th>\n",
              "      <th></th>\n",
              "      <th></th>\n",
              "    </tr>\n",
              "  </thead>\n",
              "  <tbody>\n",
              "    <tr>\n",
              "      <th>Low(0-30)</th>\n",
              "      <td>672</td>\n",
              "      <td>14408</td>\n",
              "    </tr>\n",
              "    <tr>\n",
              "      <th>Medium(30-60)</th>\n",
              "      <td>0</td>\n",
              "      <td>1</td>\n",
              "    </tr>\n",
              "    <tr>\n",
              "      <th>High(60-100)</th>\n",
              "      <td>0</td>\n",
              "      <td>1</td>\n",
              "    </tr>\n",
              "  </tbody>\n",
              "</table>\n",
              "</div>"
            ],
            "text/plain": [
              "MULTIPLE_OFFENSE    0      1\n",
              "X8_Bin                      \n",
              "Low(0-30)         672  14408\n",
              "Medium(30-60)       0      1\n",
              "High(60-100)        0      1"
            ]
          },
          "metadata": {
            "tags": []
          },
          "execution_count": 87
        }
      ]
    },
    {
      "cell_type": "code",
      "metadata": {
        "id": "sZWv0sO88RMw",
        "colab_type": "code",
        "outputId": "91cc1145-bcd6-418e-fb67-42f000dc9fdf",
        "colab": {
          "base_uri": "https://localhost:8080/",
          "height": 416
        }
      },
      "source": [
        "X8_Bin.div(X8_Bin.sum().astype(float)).plot(kind=\"bar\", figsize=(5,5))\n",
        "plt.title(\"X8 slots w.r.t. multiple offense\")\n",
        "plt.xlabel(\"Slots of X8\")\n",
        "plt.show()"
      ],
      "execution_count": 0,
      "outputs": [
        {
          "output_type": "display_data",
          "data": {
            "image/png": "[encoded data removed]",
            "text/plain": [
              "<Figure size 360x360 with 1 Axes>"
            ]
          },
          "metadata": {
            "tags": [],
            "needs_background": "light"
          }
        }
      ]
    },
    {
      "cell_type": "code",
      "metadata": {
        "id": "XLAuc1-7Mrak",
        "colab_type": "code",
        "colab": {}
      },
      "source": [
        "# It can be inferred that for X8 variable, approx all hacking happened in range of (0-30) of X8."
      ],
      "execution_count": 0,
      "outputs": []
    },
    {
      "cell_type": "code",
      "metadata": {
        "id": "5Ra--8hs8Q5V",
        "colab_type": "code",
        "outputId": "a5258d26-2e60-4266-f5d9-3b41a79f9a15",
        "colab": {
          "base_uri": "https://localhost:8080/",
          "height": 138
        }
      },
      "source": [
        "X9_hack=pd.crosstab(df['MULTIPLE_OFFENSE'], df['X_9'])\n",
        "X9_hack"
      ],
      "execution_count": 0,
      "outputs": [
        {
          "output_type": "execute_result",
          "data": {
            "text/html": [
              "<div>\n",
              "<style scoped>\n",
              "    .dataframe tbody tr th:only-of-type {\n",
              "        vertical-align: middle;\n",
              "    }\n",
              "\n",
              "    .dataframe tbody tr th {\n",
              "        vertical-align: top;\n",
              "    }\n",
              "\n",
              "    .dataframe thead th {\n",
              "        text-align: right;\n",
              "    }\n",
              "</style>\n",
              "<table border=\"1\" class=\"dataframe\">\n",
              "  <thead>\n",
              "    <tr style=\"text-align: right;\">\n",
              "      <th>X_9</th>\n",
              "      <th>0</th>\n",
              "      <th>1</th>\n",
              "      <th>2</th>\n",
              "      <th>3</th>\n",
              "      <th>4</th>\n",
              "      <th>5</th>\n",
              "      <th>6</th>\n",
              "    </tr>\n",
              "    <tr>\n",
              "      <th>MULTIPLE_OFFENSE</th>\n",
              "      <th></th>\n",
              "      <th></th>\n",
              "      <th></th>\n",
              "      <th></th>\n",
              "      <th></th>\n",
              "      <th></th>\n",
              "      <th></th>\n",
              "    </tr>\n",
              "  </thead>\n",
              "  <tbody>\n",
              "    <tr>\n",
              "      <th>0</th>\n",
              "      <td>3</td>\n",
              "      <td>5</td>\n",
              "      <td>132</td>\n",
              "      <td>36</td>\n",
              "      <td>0</td>\n",
              "      <td>465</td>\n",
              "      <td>427</td>\n",
              "    </tr>\n",
              "    <tr>\n",
              "      <th>1</th>\n",
              "      <td>115</td>\n",
              "      <td>170</td>\n",
              "      <td>2908</td>\n",
              "      <td>416</td>\n",
              "      <td>4</td>\n",
              "      <td>10094</td>\n",
              "      <td>9081</td>\n",
              "    </tr>\n",
              "  </tbody>\n",
              "</table>\n",
              "</div>"
            ],
            "text/plain": [
              "X_9                 0    1     2    3  4      5     6\n",
              "MULTIPLE_OFFENSE                                     \n",
              "0                   3    5   132   36  0    465   427\n",
              "1                 115  170  2908  416  4  10094  9081"
            ]
          },
          "metadata": {
            "tags": []
          },
          "execution_count": 90
        }
      ]
    },
    {
      "cell_type": "code",
      "metadata": {
        "id": "LeBLjdL08QeO",
        "colab_type": "code",
        "colab": {}
      },
      "source": [
        "bins=[0,3,7]\n",
        "groups=['Low(0-3)','Medium(3-7)']"
      ],
      "execution_count": 0,
      "outputs": []
    },
    {
      "cell_type": "code",
      "metadata": {
        "id": "peUg00XX8QaF",
        "colab_type": "code",
        "outputId": "81b0bc3b-dc61-4e06-9a54-e07fb6c89d53",
        "colab": {
          "base_uri": "https://localhost:8080/",
          "height": 138
        }
      },
      "source": [
        "df['X9_Bin']=pd.cut(df['X_9'],bins,labels=groups)\n",
        "X9_Bin=pd.crosstab(df['X9_Bin'], df['MULTIPLE_OFFENSE'])\n",
        "X9_Bin"
      ],
      "execution_count": 0,
      "outputs": [
        {
          "output_type": "execute_result",
          "data": {
            "text/html": [
              "<div>\n",
              "<style scoped>\n",
              "    .dataframe tbody tr th:only-of-type {\n",
              "        vertical-align: middle;\n",
              "    }\n",
              "\n",
              "    .dataframe tbody tr th {\n",
              "        vertical-align: top;\n",
              "    }\n",
              "\n",
              "    .dataframe thead th {\n",
              "        text-align: right;\n",
              "    }\n",
              "</style>\n",
              "<table border=\"1\" class=\"dataframe\">\n",
              "  <thead>\n",
              "    <tr style=\"text-align: right;\">\n",
              "      <th>MULTIPLE_OFFENSE</th>\n",
              "      <th>0</th>\n",
              "      <th>1</th>\n",
              "    </tr>\n",
              "    <tr>\n",
              "      <th>X9_Bin</th>\n",
              "      <th></th>\n",
              "      <th></th>\n",
              "    </tr>\n",
              "  </thead>\n",
              "  <tbody>\n",
              "    <tr>\n",
              "      <th>Low(0-3)</th>\n",
              "      <td>173</td>\n",
              "      <td>3494</td>\n",
              "    </tr>\n",
              "    <tr>\n",
              "      <th>Medium(3-7)</th>\n",
              "      <td>892</td>\n",
              "      <td>19179</td>\n",
              "    </tr>\n",
              "  </tbody>\n",
              "</table>\n",
              "</div>"
            ],
            "text/plain": [
              "MULTIPLE_OFFENSE    0      1\n",
              "X9_Bin                      \n",
              "Low(0-3)          173   3494\n",
              "Medium(3-7)       892  19179"
            ]
          },
          "metadata": {
            "tags": []
          },
          "execution_count": 92
        }
      ]
    },
    {
      "cell_type": "code",
      "metadata": {
        "id": "gjbr72cV8QSh",
        "colab_type": "code",
        "outputId": "af27f004-ef40-4dd5-ad4c-8352e7e5bd86",
        "colab": {
          "base_uri": "https://localhost:8080/",
          "height": 404
        }
      },
      "source": [
        "X9_Bin.div(X9_Bin.sum().astype(float)).plot(kind=\"bar\", figsize=(5,5))\n",
        "plt.title(\"X9 slots w.r.t. multiple offense\")\n",
        "plt.xlabel(\"Slots of X9\")\n",
        "plt.show()"
      ],
      "execution_count": 0,
      "outputs": [
        {
          "output_type": "display_data",
          "data": {
            "image/png": "[encoded data removed]",
            "text/plain": [
              "<Figure size 360x360 with 1 Axes>"
            ]
          },
          "metadata": {
            "tags": [],
            "needs_background": "light"
          }
        }
      ]
    },
    {
      "cell_type": "code",
      "metadata": {
        "id": "8n7gI4yyM2bT",
        "colab_type": "code",
        "colab": {}
      },
      "source": [
        "# It can be inferred that for X9 variable, mostly hacking happened in range of (3-7) of X9."
      ],
      "execution_count": 0,
      "outputs": []
    },
    {
      "cell_type": "code",
      "metadata": {
        "id": "xCY3V29h8P_t",
        "colab_type": "code",
        "outputId": "b62af35a-ecf8-42ac-b31c-1e12c079957a",
        "colab": {
          "base_uri": "https://localhost:8080/",
          "height": 158
        }
      },
      "source": [
        "X10_hack=pd.crosstab(df['MULTIPLE_OFFENSE'], df['X_10'])\n",
        "X10_hack"
      ],
      "execution_count": 0,
      "outputs": [
        {
          "output_type": "execute_result",
          "data": {
            "text/html": [
              "<div>\n",
              "<style scoped>\n",
              "    .dataframe tbody tr th:only-of-type {\n",
              "        vertical-align: middle;\n",
              "    }\n",
              "\n",
              "    .dataframe tbody tr th {\n",
              "        vertical-align: top;\n",
              "    }\n",
              "\n",
              "    .dataframe thead th {\n",
              "        text-align: right;\n",
              "    }\n",
              "</style>\n",
              "<table border=\"1\" class=\"dataframe\">\n",
              "  <thead>\n",
              "    <tr style=\"text-align: right;\">\n",
              "      <th>X_10</th>\n",
              "      <th>1</th>\n",
              "      <th>2</th>\n",
              "      <th>3</th>\n",
              "      <th>4</th>\n",
              "      <th>5</th>\n",
              "      <th>6</th>\n",
              "      <th>7</th>\n",
              "      <th>8</th>\n",
              "      <th>9</th>\n",
              "      <th>10</th>\n",
              "      <th>11</th>\n",
              "      <th>12</th>\n",
              "      <th>15</th>\n",
              "      <th>16</th>\n",
              "      <th>17</th>\n",
              "      <th>18</th>\n",
              "      <th>19</th>\n",
              "      <th>20</th>\n",
              "      <th>22</th>\n",
              "      <th>30</th>\n",
              "      <th>40</th>\n",
              "      <th>50</th>\n",
              "      <th>58</th>\n",
              "      <th>90</th>\n",
              "    </tr>\n",
              "    <tr>\n",
              "      <th>MULTIPLE_OFFENSE</th>\n",
              "      <th></th>\n",
              "      <th></th>\n",
              "      <th></th>\n",
              "      <th></th>\n",
              "      <th></th>\n",
              "      <th></th>\n",
              "      <th></th>\n",
              "      <th></th>\n",
              "      <th></th>\n",
              "      <th></th>\n",
              "      <th></th>\n",
              "      <th></th>\n",
              "      <th></th>\n",
              "      <th></th>\n",
              "      <th></th>\n",
              "      <th></th>\n",
              "      <th></th>\n",
              "      <th></th>\n",
              "      <th></th>\n",
              "      <th></th>\n",
              "      <th></th>\n",
              "      <th></th>\n",
              "      <th></th>\n",
              "      <th></th>\n",
              "    </tr>\n",
              "  </thead>\n",
              "  <tbody>\n",
              "    <tr>\n",
              "      <th>0</th>\n",
              "      <td>105</td>\n",
              "      <td>702</td>\n",
              "      <td>106</td>\n",
              "      <td>84</td>\n",
              "      <td>19</td>\n",
              "      <td>28</td>\n",
              "      <td>3</td>\n",
              "      <td>9</td>\n",
              "      <td>3</td>\n",
              "      <td>4</td>\n",
              "      <td>0</td>\n",
              "      <td>1</td>\n",
              "      <td>1</td>\n",
              "      <td>1</td>\n",
              "      <td>0</td>\n",
              "      <td>1</td>\n",
              "      <td>0</td>\n",
              "      <td>0</td>\n",
              "      <td>1</td>\n",
              "      <td>0</td>\n",
              "      <td>0</td>\n",
              "      <td>0</td>\n",
              "      <td>0</td>\n",
              "      <td>0</td>\n",
              "    </tr>\n",
              "    <tr>\n",
              "      <th>1</th>\n",
              "      <td>20093</td>\n",
              "      <td>1993</td>\n",
              "      <td>443</td>\n",
              "      <td>141</td>\n",
              "      <td>52</td>\n",
              "      <td>26</td>\n",
              "      <td>4</td>\n",
              "      <td>6</td>\n",
              "      <td>4</td>\n",
              "      <td>10</td>\n",
              "      <td>4</td>\n",
              "      <td>2</td>\n",
              "      <td>1</td>\n",
              "      <td>0</td>\n",
              "      <td>1</td>\n",
              "      <td>0</td>\n",
              "      <td>1</td>\n",
              "      <td>2</td>\n",
              "      <td>0</td>\n",
              "      <td>1</td>\n",
              "      <td>1</td>\n",
              "      <td>1</td>\n",
              "      <td>1</td>\n",
              "      <td>1</td>\n",
              "    </tr>\n",
              "  </tbody>\n",
              "</table>\n",
              "</div>"
            ],
            "text/plain": [
              "X_10                 1     2    3    4   5   6   7   ...  20  22  30  40  50  58  90\n",
              "MULTIPLE_OFFENSE                                     ...                            \n",
              "0                   105   702  106   84  19  28   3  ...   0   1   0   0   0   0   0\n",
              "1                 20093  1993  443  141  52  26   4  ...   2   0   1   1   1   1   1\n",
              "\n",
              "[2 rows x 24 columns]"
            ]
          },
          "metadata": {
            "tags": []
          },
          "execution_count": 95
        }
      ]
    },
    {
      "cell_type": "code",
      "metadata": {
        "id": "q065Ms1X8P5V",
        "colab_type": "code",
        "colab": {}
      },
      "source": [
        "bins=[0,30,60,100]\n",
        "groups=['Low(0-30)','Medium(30-60)', 'High(60-100)']"
      ],
      "execution_count": 0,
      "outputs": []
    },
    {
      "cell_type": "code",
      "metadata": {
        "id": "b8B6kA6J5f1_",
        "colab_type": "code",
        "outputId": "e389649b-9753-428c-aef1-96deab848ce5",
        "colab": {
          "base_uri": "https://localhost:8080/",
          "height": 168
        }
      },
      "source": [
        "df['X10_Bin']=pd.cut(df['X_10'],bins,labels=groups)\n",
        "X10_Bin=pd.crosstab(df['X10_Bin'], df['MULTIPLE_OFFENSE'])\n",
        "X10_Bin"
      ],
      "execution_count": 0,
      "outputs": [
        {
          "output_type": "execute_result",
          "data": {
            "text/html": [
              "<div>\n",
              "<style scoped>\n",
              "    .dataframe tbody tr th:only-of-type {\n",
              "        vertical-align: middle;\n",
              "    }\n",
              "\n",
              "    .dataframe tbody tr th {\n",
              "        vertical-align: top;\n",
              "    }\n",
              "\n",
              "    .dataframe thead th {\n",
              "        text-align: right;\n",
              "    }\n",
              "</style>\n",
              "<table border=\"1\" class=\"dataframe\">\n",
              "  <thead>\n",
              "    <tr style=\"text-align: right;\">\n",
              "      <th>MULTIPLE_OFFENSE</th>\n",
              "      <th>0</th>\n",
              "      <th>1</th>\n",
              "    </tr>\n",
              "    <tr>\n",
              "      <th>X10_Bin</th>\n",
              "      <th></th>\n",
              "      <th></th>\n",
              "    </tr>\n",
              "  </thead>\n",
              "  <tbody>\n",
              "    <tr>\n",
              "      <th>Low(0-30)</th>\n",
              "      <td>1068</td>\n",
              "      <td>22784</td>\n",
              "    </tr>\n",
              "    <tr>\n",
              "      <th>Medium(30-60)</th>\n",
              "      <td>0</td>\n",
              "      <td>3</td>\n",
              "    </tr>\n",
              "    <tr>\n",
              "      <th>High(60-100)</th>\n",
              "      <td>0</td>\n",
              "      <td>1</td>\n",
              "    </tr>\n",
              "  </tbody>\n",
              "</table>\n",
              "</div>"
            ],
            "text/plain": [
              "MULTIPLE_OFFENSE     0      1\n",
              "X10_Bin                      \n",
              "Low(0-30)         1068  22784\n",
              "Medium(30-60)        0      3\n",
              "High(60-100)         0      1"
            ]
          },
          "metadata": {
            "tags": []
          },
          "execution_count": 97
        }
      ]
    },
    {
      "cell_type": "code",
      "metadata": {
        "id": "xjlCZm41_NCb",
        "colab_type": "code",
        "outputId": "b44e8951-6fdc-4992-8f65-c66aacb0e9a3",
        "colab": {
          "base_uri": "https://localhost:8080/",
          "height": 416
        }
      },
      "source": [
        "X10_Bin.div(X10_Bin.sum().astype(float)).plot(kind=\"bar\", figsize=(5,5))\n",
        "plt.title(\"X10 slots w.r.t. multiple offense\")\n",
        "plt.xlabel(\"Slots of X10\")\n",
        "plt.show()"
      ],
      "execution_count": 0,
      "outputs": [
        {
          "output_type": "display_data",
          "data": {
            "image/png": "[encoded data removed]",
            "text/plain": [
              "<Figure size 360x360 with 1 Axes>"
            ]
          },
          "metadata": {
            "tags": [],
            "needs_background": "light"
          }
        }
      ]
    },
    {
      "cell_type": "code",
      "metadata": {
        "id": "mHrPpImUM7wA",
        "colab_type": "code",
        "colab": {}
      },
      "source": [
        "# It can be inferred that for X10 variable, approx all hacking happened in range of (0-30) of X10."
      ],
      "execution_count": 0,
      "outputs": []
    },
    {
      "cell_type": "code",
      "metadata": {
        "id": "qPeQvRQ1_PR7",
        "colab_type": "code",
        "outputId": "57517ef6-e895-4384-9683-42bb83aee402",
        "colab": {
          "base_uri": "https://localhost:8080/",
          "height": 187
        }
      },
      "source": [
        "X11_hack=pd.crosstab(df['MULTIPLE_OFFENSE'], df['X_11'])\n",
        "X11_hack"
      ],
      "execution_count": 0,
      "outputs": [
        {
          "output_type": "execute_result",
          "data": {
            "text/html": [
              "<div>\n",
              "<style scoped>\n",
              "    .dataframe tbody tr th:only-of-type {\n",
              "        vertical-align: middle;\n",
              "    }\n",
              "\n",
              "    .dataframe tbody tr th {\n",
              "        vertical-align: top;\n",
              "    }\n",
              "\n",
              "    .dataframe thead th {\n",
              "        text-align: right;\n",
              "    }\n",
              "</style>\n",
              "<table border=\"1\" class=\"dataframe\">\n",
              "  <thead>\n",
              "    <tr style=\"text-align: right;\">\n",
              "      <th>X_11</th>\n",
              "      <th>0</th>\n",
              "      <th>1</th>\n",
              "      <th>6</th>\n",
              "      <th>11</th>\n",
              "      <th>12</th>\n",
              "      <th>16</th>\n",
              "      <th>20</th>\n",
              "      <th>21</th>\n",
              "      <th>25</th>\n",
              "      <th>31</th>\n",
              "      <th>32</th>\n",
              "      <th>33</th>\n",
              "      <th>34</th>\n",
              "      <th>39</th>\n",
              "      <th>43</th>\n",
              "      <th>47</th>\n",
              "      <th>50</th>\n",
              "      <th>53</th>\n",
              "      <th>55</th>\n",
              "      <th>56</th>\n",
              "      <th>58</th>\n",
              "      <th>60</th>\n",
              "      <th>67</th>\n",
              "      <th>68</th>\n",
              "      <th>69</th>\n",
              "      <th>71</th>\n",
              "      <th>73</th>\n",
              "      <th>74</th>\n",
              "      <th>75</th>\n",
              "      <th>76</th>\n",
              "      <th>79</th>\n",
              "      <th>82</th>\n",
              "      <th>84</th>\n",
              "      <th>97</th>\n",
              "      <th>98</th>\n",
              "      <th>102</th>\n",
              "      <th>103</th>\n",
              "      <th>104</th>\n",
              "      <th>106</th>\n",
              "      <th>111</th>\n",
              "      <th>...</th>\n",
              "      <th>254</th>\n",
              "      <th>255</th>\n",
              "      <th>256</th>\n",
              "      <th>260</th>\n",
              "      <th>261</th>\n",
              "      <th>263</th>\n",
              "      <th>264</th>\n",
              "      <th>266</th>\n",
              "      <th>268</th>\n",
              "      <th>270</th>\n",
              "      <th>273</th>\n",
              "      <th>274</th>\n",
              "      <th>277</th>\n",
              "      <th>285</th>\n",
              "      <th>287</th>\n",
              "      <th>290</th>\n",
              "      <th>291</th>\n",
              "      <th>292</th>\n",
              "      <th>294</th>\n",
              "      <th>295</th>\n",
              "      <th>297</th>\n",
              "      <th>299</th>\n",
              "      <th>300</th>\n",
              "      <th>303</th>\n",
              "      <th>306</th>\n",
              "      <th>310</th>\n",
              "      <th>313</th>\n",
              "      <th>314</th>\n",
              "      <th>316</th>\n",
              "      <th>319</th>\n",
              "      <th>320</th>\n",
              "      <th>321</th>\n",
              "      <th>322</th>\n",
              "      <th>323</th>\n",
              "      <th>325</th>\n",
              "      <th>327</th>\n",
              "      <th>328</th>\n",
              "      <th>329</th>\n",
              "      <th>330</th>\n",
              "      <th>332</th>\n",
              "    </tr>\n",
              "    <tr>\n",
              "      <th>MULTIPLE_OFFENSE</th>\n",
              "      <th></th>\n",
              "      <th></th>\n",
              "      <th></th>\n",
              "      <th></th>\n",
              "      <th></th>\n",
              "      <th></th>\n",
              "      <th></th>\n",
              "      <th></th>\n",
              "      <th></th>\n",
              "      <th></th>\n",
              "      <th></th>\n",
              "      <th></th>\n",
              "      <th></th>\n",
              "      <th></th>\n",
              "      <th></th>\n",
              "      <th></th>\n",
              "      <th></th>\n",
              "      <th></th>\n",
              "      <th></th>\n",
              "      <th></th>\n",
              "      <th></th>\n",
              "      <th></th>\n",
              "      <th></th>\n",
              "      <th></th>\n",
              "      <th></th>\n",
              "      <th></th>\n",
              "      <th></th>\n",
              "      <th></th>\n",
              "      <th></th>\n",
              "      <th></th>\n",
              "      <th></th>\n",
              "      <th></th>\n",
              "      <th></th>\n",
              "      <th></th>\n",
              "      <th></th>\n",
              "      <th></th>\n",
              "      <th></th>\n",
              "      <th></th>\n",
              "      <th></th>\n",
              "      <th></th>\n",
              "      <th></th>\n",
              "      <th></th>\n",
              "      <th></th>\n",
              "      <th></th>\n",
              "      <th></th>\n",
              "      <th></th>\n",
              "      <th></th>\n",
              "      <th></th>\n",
              "      <th></th>\n",
              "      <th></th>\n",
              "      <th></th>\n",
              "      <th></th>\n",
              "      <th></th>\n",
              "      <th></th>\n",
              "      <th></th>\n",
              "      <th></th>\n",
              "      <th></th>\n",
              "      <th></th>\n",
              "      <th></th>\n",
              "      <th></th>\n",
              "      <th></th>\n",
              "      <th></th>\n",
              "      <th></th>\n",
              "      <th></th>\n",
              "      <th></th>\n",
              "      <th></th>\n",
              "      <th></th>\n",
              "      <th></th>\n",
              "      <th></th>\n",
              "      <th></th>\n",
              "      <th></th>\n",
              "      <th></th>\n",
              "      <th></th>\n",
              "      <th></th>\n",
              "      <th></th>\n",
              "      <th></th>\n",
              "      <th></th>\n",
              "      <th></th>\n",
              "      <th></th>\n",
              "      <th></th>\n",
              "      <th></th>\n",
              "    </tr>\n",
              "  </thead>\n",
              "  <tbody>\n",
              "    <tr>\n",
              "      <th>0</th>\n",
              "      <td>0</td>\n",
              "      <td>3</td>\n",
              "      <td>1</td>\n",
              "      <td>5</td>\n",
              "      <td>1</td>\n",
              "      <td>2</td>\n",
              "      <td>1</td>\n",
              "      <td>45</td>\n",
              "      <td>3</td>\n",
              "      <td>2</td>\n",
              "      <td>1</td>\n",
              "      <td>1</td>\n",
              "      <td>1</td>\n",
              "      <td>1</td>\n",
              "      <td>59</td>\n",
              "      <td>1</td>\n",
              "      <td>2</td>\n",
              "      <td>2</td>\n",
              "      <td>1</td>\n",
              "      <td>1</td>\n",
              "      <td>3</td>\n",
              "      <td>3</td>\n",
              "      <td>16</td>\n",
              "      <td>1</td>\n",
              "      <td>1</td>\n",
              "      <td>36</td>\n",
              "      <td>7</td>\n",
              "      <td>3</td>\n",
              "      <td>2</td>\n",
              "      <td>1</td>\n",
              "      <td>2</td>\n",
              "      <td>12</td>\n",
              "      <td>1</td>\n",
              "      <td>1</td>\n",
              "      <td>6</td>\n",
              "      <td>4</td>\n",
              "      <td>1</td>\n",
              "      <td>2</td>\n",
              "      <td>1</td>\n",
              "      <td>15</td>\n",
              "      <td>...</td>\n",
              "      <td>3</td>\n",
              "      <td>1</td>\n",
              "      <td>1</td>\n",
              "      <td>4</td>\n",
              "      <td>1</td>\n",
              "      <td>103</td>\n",
              "      <td>1</td>\n",
              "      <td>1</td>\n",
              "      <td>7</td>\n",
              "      <td>0</td>\n",
              "      <td>1</td>\n",
              "      <td>4</td>\n",
              "      <td>0</td>\n",
              "      <td>0</td>\n",
              "      <td>1</td>\n",
              "      <td>5</td>\n",
              "      <td>2</td>\n",
              "      <td>0</td>\n",
              "      <td>1</td>\n",
              "      <td>0</td>\n",
              "      <td>0</td>\n",
              "      <td>0</td>\n",
              "      <td>1</td>\n",
              "      <td>11</td>\n",
              "      <td>15</td>\n",
              "      <td>0</td>\n",
              "      <td>0</td>\n",
              "      <td>1</td>\n",
              "      <td>0</td>\n",
              "      <td>1</td>\n",
              "      <td>2</td>\n",
              "      <td>0</td>\n",
              "      <td>0</td>\n",
              "      <td>0</td>\n",
              "      <td>0</td>\n",
              "      <td>0</td>\n",
              "      <td>2</td>\n",
              "      <td>0</td>\n",
              "      <td>0</td>\n",
              "      <td>0</td>\n",
              "    </tr>\n",
              "    <tr>\n",
              "      <th>1</th>\n",
              "      <td>2553</td>\n",
              "      <td>0</td>\n",
              "      <td>0</td>\n",
              "      <td>0</td>\n",
              "      <td>0</td>\n",
              "      <td>0</td>\n",
              "      <td>0</td>\n",
              "      <td>0</td>\n",
              "      <td>0</td>\n",
              "      <td>0</td>\n",
              "      <td>0</td>\n",
              "      <td>0</td>\n",
              "      <td>0</td>\n",
              "      <td>0</td>\n",
              "      <td>0</td>\n",
              "      <td>0</td>\n",
              "      <td>0</td>\n",
              "      <td>0</td>\n",
              "      <td>0</td>\n",
              "      <td>0</td>\n",
              "      <td>0</td>\n",
              "      <td>0</td>\n",
              "      <td>0</td>\n",
              "      <td>0</td>\n",
              "      <td>0</td>\n",
              "      <td>0</td>\n",
              "      <td>0</td>\n",
              "      <td>204</td>\n",
              "      <td>0</td>\n",
              "      <td>0</td>\n",
              "      <td>0</td>\n",
              "      <td>0</td>\n",
              "      <td>0</td>\n",
              "      <td>0</td>\n",
              "      <td>0</td>\n",
              "      <td>118</td>\n",
              "      <td>0</td>\n",
              "      <td>0</td>\n",
              "      <td>0</td>\n",
              "      <td>0</td>\n",
              "      <td>...</td>\n",
              "      <td>0</td>\n",
              "      <td>0</td>\n",
              "      <td>0</td>\n",
              "      <td>0</td>\n",
              "      <td>0</td>\n",
              "      <td>0</td>\n",
              "      <td>0</td>\n",
              "      <td>0</td>\n",
              "      <td>0</td>\n",
              "      <td>6</td>\n",
              "      <td>0</td>\n",
              "      <td>0</td>\n",
              "      <td>45</td>\n",
              "      <td>26</td>\n",
              "      <td>0</td>\n",
              "      <td>71</td>\n",
              "      <td>0</td>\n",
              "      <td>3</td>\n",
              "      <td>0</td>\n",
              "      <td>3</td>\n",
              "      <td>2</td>\n",
              "      <td>30</td>\n",
              "      <td>0</td>\n",
              "      <td>427</td>\n",
              "      <td>0</td>\n",
              "      <td>6</td>\n",
              "      <td>68</td>\n",
              "      <td>0</td>\n",
              "      <td>4500</td>\n",
              "      <td>0</td>\n",
              "      <td>0</td>\n",
              "      <td>7</td>\n",
              "      <td>1</td>\n",
              "      <td>10</td>\n",
              "      <td>57</td>\n",
              "      <td>1</td>\n",
              "      <td>77</td>\n",
              "      <td>21</td>\n",
              "      <td>29</td>\n",
              "      <td>3</td>\n",
              "    </tr>\n",
              "  </tbody>\n",
              "</table>\n",
              "<p>2 rows × 133 columns</p>\n",
              "</div>"
            ],
            "text/plain": [
              "X_11               0    1    6    11   12   16   ...  325  327  328  329  330  332\n",
              "MULTIPLE_OFFENSE                                 ...                              \n",
              "0                    0    3    1    5    1    2  ...    0    0    2    0    0    0\n",
              "1                 2553    0    0    0    0    0  ...   57    1   77   21   29    3\n",
              "\n",
              "[2 rows x 133 columns]"
            ]
          },
          "metadata": {
            "tags": []
          },
          "execution_count": 100
        }
      ]
    },
    {
      "cell_type": "code",
      "metadata": {
        "id": "xeY5KKYA_QLN",
        "colab_type": "code",
        "colab": {}
      },
      "source": [
        "bins=[0,100,200,335]\n",
        "groups=['Low(0-100)','Medium(100-200)', 'High(200-335)']"
      ],
      "execution_count": 0,
      "outputs": []
    },
    {
      "cell_type": "code",
      "metadata": {
        "id": "cLiWwULp_Q_x",
        "colab_type": "code",
        "outputId": "35f27340-2694-4f0d-ca9d-775d57ed8137",
        "colab": {
          "base_uri": "https://localhost:8080/",
          "height": 168
        }
      },
      "source": [
        "df['X11_Bin']=pd.cut(df['X_11'],bins,labels=groups)\n",
        "X11_Bin=pd.crosstab(df['X11_Bin'], df['MULTIPLE_OFFENSE'])\n",
        "X11_Bin"
      ],
      "execution_count": 0,
      "outputs": [
        {
          "output_type": "execute_result",
          "data": {
            "text/html": [
              "<div>\n",
              "<style scoped>\n",
              "    .dataframe tbody tr th:only-of-type {\n",
              "        vertical-align: middle;\n",
              "    }\n",
              "\n",
              "    .dataframe tbody tr th {\n",
              "        vertical-align: top;\n",
              "    }\n",
              "\n",
              "    .dataframe thead th {\n",
              "        text-align: right;\n",
              "    }\n",
              "</style>\n",
              "<table border=\"1\" class=\"dataframe\">\n",
              "  <thead>\n",
              "    <tr style=\"text-align: right;\">\n",
              "      <th>MULTIPLE_OFFENSE</th>\n",
              "      <th>0</th>\n",
              "      <th>1</th>\n",
              "    </tr>\n",
              "    <tr>\n",
              "      <th>X11_Bin</th>\n",
              "      <th></th>\n",
              "      <th></th>\n",
              "    </tr>\n",
              "  </thead>\n",
              "  <tbody>\n",
              "    <tr>\n",
              "      <th>Low(0-100)</th>\n",
              "      <td>228</td>\n",
              "      <td>204</td>\n",
              "    </tr>\n",
              "    <tr>\n",
              "      <th>Medium(100-200)</th>\n",
              "      <td>634</td>\n",
              "      <td>7502</td>\n",
              "    </tr>\n",
              "    <tr>\n",
              "      <th>High(200-335)</th>\n",
              "      <td>206</td>\n",
              "      <td>12529</td>\n",
              "    </tr>\n",
              "  </tbody>\n",
              "</table>\n",
              "</div>"
            ],
            "text/plain": [
              "MULTIPLE_OFFENSE    0      1\n",
              "X11_Bin                     \n",
              "Low(0-100)        228    204\n",
              "Medium(100-200)   634   7502\n",
              "High(200-335)     206  12529"
            ]
          },
          "metadata": {
            "tags": []
          },
          "execution_count": 102
        }
      ]
    },
    {
      "cell_type": "code",
      "metadata": {
        "id": "Ayfek0Ir_R6x",
        "colab_type": "code",
        "outputId": "411614c9-b1c1-44eb-e15e-30186d90aca0",
        "colab": {
          "base_uri": "https://localhost:8080/",
          "height": 429
        }
      },
      "source": [
        "X11_Bin.div(X11_Bin.sum().astype(float)).plot(kind=\"bar\", figsize=(5,5))\n",
        "plt.title(\"X11 slots w.r.t. multiple offense\")\n",
        "plt.xlabel(\"Slots of X11\")\n",
        "plt.show()"
      ],
      "execution_count": 0,
      "outputs": [
        {
          "output_type": "display_data",
          "data": {
            "image/png": "[encoded data removed]",
            "text/plain": [
              "<Figure size 360x360 with 1 Axes>"
            ]
          },
          "metadata": {
            "tags": [],
            "needs_background": "light"
          }
        }
      ]
    },
    {
      "cell_type": "code",
      "metadata": {
        "id": "OQ_nbQvzNGGL",
        "colab_type": "code",
        "colab": {}
      },
      "source": [
        "# It can be inferred that for X11 variable, mostly hacking happened in range of (200-335) of X11."
      ],
      "execution_count": 0,
      "outputs": []
    },
    {
      "cell_type": "code",
      "metadata": {
        "id": "6g4Y_Fy4_S9g",
        "colab_type": "code",
        "outputId": "10d8428c-626a-4595-8671-477e0210ada2",
        "colab": {
          "base_uri": "https://localhost:8080/",
          "height": 158
        }
      },
      "source": [
        "X12_hack=pd.crosstab(df['MULTIPLE_OFFENSE'], df['X_12'])\n",
        "X12_hack"
      ],
      "execution_count": 0,
      "outputs": [
        {
          "output_type": "execute_result",
          "data": {
            "text/html": [
              "<div>\n",
              "<style scoped>\n",
              "    .dataframe tbody tr th:only-of-type {\n",
              "        vertical-align: middle;\n",
              "    }\n",
              "\n",
              "    .dataframe tbody tr th {\n",
              "        vertical-align: top;\n",
              "    }\n",
              "\n",
              "    .dataframe thead th {\n",
              "        text-align: right;\n",
              "    }\n",
              "</style>\n",
              "<table border=\"1\" class=\"dataframe\">\n",
              "  <thead>\n",
              "    <tr style=\"text-align: right;\">\n",
              "      <th>X_12</th>\n",
              "      <th>0.0</th>\n",
              "      <th>1.0</th>\n",
              "      <th>2.0</th>\n",
              "      <th>3.0</th>\n",
              "      <th>4.0</th>\n",
              "      <th>5.0</th>\n",
              "      <th>6.0</th>\n",
              "      <th>7.0</th>\n",
              "      <th>8.0</th>\n",
              "      <th>9.0</th>\n",
              "      <th>10.0</th>\n",
              "      <th>11.0</th>\n",
              "      <th>12.0</th>\n",
              "      <th>14.0</th>\n",
              "      <th>15.0</th>\n",
              "      <th>16.0</th>\n",
              "      <th>17.0</th>\n",
              "      <th>20.0</th>\n",
              "      <th>30.0</th>\n",
              "      <th>40.0</th>\n",
              "      <th>50.0</th>\n",
              "      <th>58.0</th>\n",
              "      <th>90.0</th>\n",
              "    </tr>\n",
              "    <tr>\n",
              "      <th>MULTIPLE_OFFENSE</th>\n",
              "      <th></th>\n",
              "      <th></th>\n",
              "      <th></th>\n",
              "      <th></th>\n",
              "      <th></th>\n",
              "      <th></th>\n",
              "      <th></th>\n",
              "      <th></th>\n",
              "      <th></th>\n",
              "      <th></th>\n",
              "      <th></th>\n",
              "      <th></th>\n",
              "      <th></th>\n",
              "      <th></th>\n",
              "      <th></th>\n",
              "      <th></th>\n",
              "      <th></th>\n",
              "      <th></th>\n",
              "      <th></th>\n",
              "      <th></th>\n",
              "      <th></th>\n",
              "      <th></th>\n",
              "      <th></th>\n",
              "    </tr>\n",
              "  </thead>\n",
              "  <tbody>\n",
              "    <tr>\n",
              "      <th>0</th>\n",
              "      <td>114</td>\n",
              "      <td>547</td>\n",
              "      <td>272</td>\n",
              "      <td>57</td>\n",
              "      <td>44</td>\n",
              "      <td>10</td>\n",
              "      <td>11</td>\n",
              "      <td>0</td>\n",
              "      <td>4</td>\n",
              "      <td>2</td>\n",
              "      <td>4</td>\n",
              "      <td>0</td>\n",
              "      <td>0</td>\n",
              "      <td>1</td>\n",
              "      <td>1</td>\n",
              "      <td>1</td>\n",
              "      <td>0</td>\n",
              "      <td>0</td>\n",
              "      <td>0</td>\n",
              "      <td>0</td>\n",
              "      <td>0</td>\n",
              "      <td>0</td>\n",
              "      <td>0</td>\n",
              "    </tr>\n",
              "    <tr>\n",
              "      <th>1</th>\n",
              "      <td>5057</td>\n",
              "      <td>15309</td>\n",
              "      <td>1767</td>\n",
              "      <td>419</td>\n",
              "      <td>132</td>\n",
              "      <td>49</td>\n",
              "      <td>25</td>\n",
              "      <td>4</td>\n",
              "      <td>5</td>\n",
              "      <td>4</td>\n",
              "      <td>3</td>\n",
              "      <td>4</td>\n",
              "      <td>1</td>\n",
              "      <td>0</td>\n",
              "      <td>1</td>\n",
              "      <td>0</td>\n",
              "      <td>1</td>\n",
              "      <td>2</td>\n",
              "      <td>1</td>\n",
              "      <td>1</td>\n",
              "      <td>1</td>\n",
              "      <td>1</td>\n",
              "      <td>1</td>\n",
              "    </tr>\n",
              "  </tbody>\n",
              "</table>\n",
              "</div>"
            ],
            "text/plain": [
              "X_12              0.0    1.0   2.0   3.0   4.0   ...  30.0  40.0  50.0  58.0  90.0\n",
              "MULTIPLE_OFFENSE                                 ...                              \n",
              "0                  114    547   272    57    44  ...     0     0     0     0     0\n",
              "1                 5057  15309  1767   419   132  ...     1     1     1     1     1\n",
              "\n",
              "[2 rows x 23 columns]"
            ]
          },
          "metadata": {
            "tags": []
          },
          "execution_count": 105
        }
      ]
    },
    {
      "cell_type": "code",
      "metadata": {
        "id": "JOXoF1qW_S4g",
        "colab_type": "code",
        "colab": {}
      },
      "source": [
        "bins=[0,30,60,100]\n",
        "groups=['Low(0-30)','Medium(30-60)', 'High(60-100)']"
      ],
      "execution_count": 0,
      "outputs": []
    },
    {
      "cell_type": "code",
      "metadata": {
        "id": "ZU_TcUh0_Szr",
        "colab_type": "code",
        "outputId": "150fcc6c-bf3a-472e-e207-3371e8ba3577",
        "colab": {
          "base_uri": "https://localhost:8080/",
          "height": 168
        }
      },
      "source": [
        "df['X12_Bin']=pd.cut(df['X_12'],bins,labels=groups)\n",
        "X12_Bin=pd.crosstab(df['X12_Bin'], df['MULTIPLE_OFFENSE'])\n",
        "X12_Bin"
      ],
      "execution_count": 0,
      "outputs": [
        {
          "output_type": "execute_result",
          "data": {
            "text/html": [
              "<div>\n",
              "<style scoped>\n",
              "    .dataframe tbody tr th:only-of-type {\n",
              "        vertical-align: middle;\n",
              "    }\n",
              "\n",
              "    .dataframe tbody tr th {\n",
              "        vertical-align: top;\n",
              "    }\n",
              "\n",
              "    .dataframe thead th {\n",
              "        text-align: right;\n",
              "    }\n",
              "</style>\n",
              "<table border=\"1\" class=\"dataframe\">\n",
              "  <thead>\n",
              "    <tr style=\"text-align: right;\">\n",
              "      <th>MULTIPLE_OFFENSE</th>\n",
              "      <th>0</th>\n",
              "      <th>1</th>\n",
              "    </tr>\n",
              "    <tr>\n",
              "      <th>X12_Bin</th>\n",
              "      <th></th>\n",
              "      <th></th>\n",
              "    </tr>\n",
              "  </thead>\n",
              "  <tbody>\n",
              "    <tr>\n",
              "      <th>Low(0-30)</th>\n",
              "      <td>954</td>\n",
              "      <td>17727</td>\n",
              "    </tr>\n",
              "    <tr>\n",
              "      <th>Medium(30-60)</th>\n",
              "      <td>0</td>\n",
              "      <td>3</td>\n",
              "    </tr>\n",
              "    <tr>\n",
              "      <th>High(60-100)</th>\n",
              "      <td>0</td>\n",
              "      <td>1</td>\n",
              "    </tr>\n",
              "  </tbody>\n",
              "</table>\n",
              "</div>"
            ],
            "text/plain": [
              "MULTIPLE_OFFENSE    0      1\n",
              "X12_Bin                     \n",
              "Low(0-30)         954  17727\n",
              "Medium(30-60)       0      3\n",
              "High(60-100)        0      1"
            ]
          },
          "metadata": {
            "tags": []
          },
          "execution_count": 107
        }
      ]
    },
    {
      "cell_type": "code",
      "metadata": {
        "id": "nbukScVc_Suw",
        "colab_type": "code",
        "outputId": "a79bbb20-6430-4d1f-b311-64489fd338b1",
        "colab": {
          "base_uri": "https://localhost:8080/",
          "height": 416
        }
      },
      "source": [
        "X12_Bin.div(X12_Bin.sum().astype(float)).plot(kind=\"bar\", figsize=(5,5))\n",
        "plt.title(\"X12 slots w.r.t. multiple offense\")\n",
        "plt.xlabel(\"Slots of X12\")\n",
        "plt.show()"
      ],
      "execution_count": 0,
      "outputs": [
        {
          "output_type": "display_data",
          "data": {
            "image/png": "[encoded data removed]",
            "text/plain": [
              "<Figure size 360x360 with 1 Axes>"
            ]
          },
          "metadata": {
            "tags": [],
            "needs_background": "light"
          }
        }
      ]
    },
    {
      "cell_type": "code",
      "metadata": {
        "id": "dtWJalkfNMzU",
        "colab_type": "code",
        "colab": {}
      },
      "source": [
        "# It can be inferred that for X12 variable, approx all hacking happened in range of (0-30) of X12."
      ],
      "execution_count": 0,
      "outputs": []
    },
    {
      "cell_type": "code",
      "metadata": {
        "id": "pdIFxznh_Sp1",
        "colab_type": "code",
        "outputId": "992980a6-e6b3-4f8a-c260-a834039aa269",
        "colab": {
          "base_uri": "https://localhost:8080/",
          "height": 158
        }
      },
      "source": [
        "X13_hack=pd.crosstab(df['MULTIPLE_OFFENSE'], df['X_13'])\n",
        "X13_hack"
      ],
      "execution_count": 0,
      "outputs": [
        {
          "output_type": "execute_result",
          "data": {
            "text/html": [
              "<div>\n",
              "<style scoped>\n",
              "    .dataframe tbody tr th:only-of-type {\n",
              "        vertical-align: middle;\n",
              "    }\n",
              "\n",
              "    .dataframe tbody tr th {\n",
              "        vertical-align: top;\n",
              "    }\n",
              "\n",
              "    .dataframe thead th {\n",
              "        text-align: right;\n",
              "    }\n",
              "</style>\n",
              "<table border=\"1\" class=\"dataframe\">\n",
              "  <thead>\n",
              "    <tr style=\"text-align: right;\">\n",
              "      <th>X_13</th>\n",
              "      <th>0</th>\n",
              "      <th>1</th>\n",
              "      <th>2</th>\n",
              "      <th>7</th>\n",
              "      <th>8</th>\n",
              "      <th>9</th>\n",
              "      <th>10</th>\n",
              "      <th>12</th>\n",
              "      <th>13</th>\n",
              "      <th>17</th>\n",
              "      <th>18</th>\n",
              "      <th>24</th>\n",
              "      <th>25</th>\n",
              "      <th>27</th>\n",
              "      <th>30</th>\n",
              "      <th>31</th>\n",
              "      <th>32</th>\n",
              "      <th>34</th>\n",
              "      <th>40</th>\n",
              "      <th>41</th>\n",
              "      <th>42</th>\n",
              "      <th>43</th>\n",
              "      <th>44</th>\n",
              "      <th>48</th>\n",
              "      <th>54</th>\n",
              "      <th>58</th>\n",
              "      <th>59</th>\n",
              "      <th>60</th>\n",
              "      <th>67</th>\n",
              "      <th>69</th>\n",
              "      <th>72</th>\n",
              "      <th>73</th>\n",
              "      <th>74</th>\n",
              "      <th>75</th>\n",
              "      <th>76</th>\n",
              "      <th>77</th>\n",
              "      <th>80</th>\n",
              "      <th>83</th>\n",
              "      <th>84</th>\n",
              "      <th>86</th>\n",
              "      <th>87</th>\n",
              "      <th>88</th>\n",
              "      <th>89</th>\n",
              "      <th>92</th>\n",
              "      <th>94</th>\n",
              "      <th>95</th>\n",
              "      <th>97</th>\n",
              "      <th>98</th>\n",
              "      <th>99</th>\n",
              "      <th>102</th>\n",
              "      <th>103</th>\n",
              "      <th>108</th>\n",
              "      <th>109</th>\n",
              "      <th>110</th>\n",
              "      <th>111</th>\n",
              "      <th>112</th>\n",
              "      <th>113</th>\n",
              "      <th>114</th>\n",
              "      <th>115</th>\n",
              "      <th>116</th>\n",
              "    </tr>\n",
              "    <tr>\n",
              "      <th>MULTIPLE_OFFENSE</th>\n",
              "      <th></th>\n",
              "      <th></th>\n",
              "      <th></th>\n",
              "      <th></th>\n",
              "      <th></th>\n",
              "      <th></th>\n",
              "      <th></th>\n",
              "      <th></th>\n",
              "      <th></th>\n",
              "      <th></th>\n",
              "      <th></th>\n",
              "      <th></th>\n",
              "      <th></th>\n",
              "      <th></th>\n",
              "      <th></th>\n",
              "      <th></th>\n",
              "      <th></th>\n",
              "      <th></th>\n",
              "      <th></th>\n",
              "      <th></th>\n",
              "      <th></th>\n",
              "      <th></th>\n",
              "      <th></th>\n",
              "      <th></th>\n",
              "      <th></th>\n",
              "      <th></th>\n",
              "      <th></th>\n",
              "      <th></th>\n",
              "      <th></th>\n",
              "      <th></th>\n",
              "      <th></th>\n",
              "      <th></th>\n",
              "      <th></th>\n",
              "      <th></th>\n",
              "      <th></th>\n",
              "      <th></th>\n",
              "      <th></th>\n",
              "      <th></th>\n",
              "      <th></th>\n",
              "      <th></th>\n",
              "      <th></th>\n",
              "      <th></th>\n",
              "      <th></th>\n",
              "      <th></th>\n",
              "      <th></th>\n",
              "      <th></th>\n",
              "      <th></th>\n",
              "      <th></th>\n",
              "      <th></th>\n",
              "      <th></th>\n",
              "      <th></th>\n",
              "      <th></th>\n",
              "      <th></th>\n",
              "      <th></th>\n",
              "      <th></th>\n",
              "      <th></th>\n",
              "      <th></th>\n",
              "      <th></th>\n",
              "      <th></th>\n",
              "      <th></th>\n",
              "    </tr>\n",
              "  </thead>\n",
              "  <tbody>\n",
              "    <tr>\n",
              "      <th>0</th>\n",
              "      <td>0</td>\n",
              "      <td>0</td>\n",
              "      <td>4</td>\n",
              "      <td>0</td>\n",
              "      <td>0</td>\n",
              "      <td>0</td>\n",
              "      <td>3</td>\n",
              "      <td>19</td>\n",
              "      <td>1</td>\n",
              "      <td>1</td>\n",
              "      <td>50</td>\n",
              "      <td>22</td>\n",
              "      <td>1</td>\n",
              "      <td>2</td>\n",
              "      <td>1</td>\n",
              "      <td>5</td>\n",
              "      <td>1</td>\n",
              "      <td>18</td>\n",
              "      <td>0</td>\n",
              "      <td>0</td>\n",
              "      <td>8</td>\n",
              "      <td>1</td>\n",
              "      <td>1</td>\n",
              "      <td>2</td>\n",
              "      <td>11</td>\n",
              "      <td>0</td>\n",
              "      <td>9</td>\n",
              "      <td>1</td>\n",
              "      <td>7</td>\n",
              "      <td>1</td>\n",
              "      <td>186</td>\n",
              "      <td>1</td>\n",
              "      <td>1</td>\n",
              "      <td>1</td>\n",
              "      <td>2</td>\n",
              "      <td>3</td>\n",
              "      <td>1</td>\n",
              "      <td>1</td>\n",
              "      <td>3</td>\n",
              "      <td>0</td>\n",
              "      <td>4</td>\n",
              "      <td>3</td>\n",
              "      <td>1</td>\n",
              "      <td>135</td>\n",
              "      <td>4</td>\n",
              "      <td>1</td>\n",
              "      <td>2</td>\n",
              "      <td>73</td>\n",
              "      <td>2</td>\n",
              "      <td>2</td>\n",
              "      <td>378</td>\n",
              "      <td>0</td>\n",
              "      <td>27</td>\n",
              "      <td>3</td>\n",
              "      <td>3</td>\n",
              "      <td>45</td>\n",
              "      <td>11</td>\n",
              "      <td>0</td>\n",
              "      <td>0</td>\n",
              "      <td>6</td>\n",
              "    </tr>\n",
              "    <tr>\n",
              "      <th>1</th>\n",
              "      <td>1</td>\n",
              "      <td>5</td>\n",
              "      <td>206</td>\n",
              "      <td>1</td>\n",
              "      <td>2</td>\n",
              "      <td>9</td>\n",
              "      <td>43</td>\n",
              "      <td>408</td>\n",
              "      <td>0</td>\n",
              "      <td>0</td>\n",
              "      <td>801</td>\n",
              "      <td>501</td>\n",
              "      <td>0</td>\n",
              "      <td>0</td>\n",
              "      <td>12</td>\n",
              "      <td>59</td>\n",
              "      <td>0</td>\n",
              "      <td>324</td>\n",
              "      <td>7</td>\n",
              "      <td>3</td>\n",
              "      <td>192</td>\n",
              "      <td>0</td>\n",
              "      <td>0</td>\n",
              "      <td>170</td>\n",
              "      <td>223</td>\n",
              "      <td>3</td>\n",
              "      <td>339</td>\n",
              "      <td>0</td>\n",
              "      <td>204</td>\n",
              "      <td>0</td>\n",
              "      <td>4290</td>\n",
              "      <td>0</td>\n",
              "      <td>0</td>\n",
              "      <td>0</td>\n",
              "      <td>0</td>\n",
              "      <td>0</td>\n",
              "      <td>0</td>\n",
              "      <td>0</td>\n",
              "      <td>142</td>\n",
              "      <td>8</td>\n",
              "      <td>146</td>\n",
              "      <td>41</td>\n",
              "      <td>50</td>\n",
              "      <td>3120</td>\n",
              "      <td>0</td>\n",
              "      <td>0</td>\n",
              "      <td>74</td>\n",
              "      <td>1293</td>\n",
              "      <td>0</td>\n",
              "      <td>18</td>\n",
              "      <td>6617</td>\n",
              "      <td>6</td>\n",
              "      <td>510</td>\n",
              "      <td>144</td>\n",
              "      <td>212</td>\n",
              "      <td>2071</td>\n",
              "      <td>214</td>\n",
              "      <td>16</td>\n",
              "      <td>21</td>\n",
              "      <td>282</td>\n",
              "    </tr>\n",
              "  </tbody>\n",
              "</table>\n",
              "</div>"
            ],
            "text/plain": [
              "X_13              0    1    2    7    8    9    ...  111   112  113  114  115  116\n",
              "MULTIPLE_OFFENSE                                ...                               \n",
              "0                   0    0    4    0    0    0  ...    3    45   11    0    0    6\n",
              "1                   1    5  206    1    2    9  ...  212  2071  214   16   21  282\n",
              "\n",
              "[2 rows x 60 columns]"
            ]
          },
          "metadata": {
            "tags": []
          },
          "execution_count": 110
        }
      ]
    },
    {
      "cell_type": "code",
      "metadata": {
        "id": "SQaGUoQH_Skb",
        "colab_type": "code",
        "colab": {}
      },
      "source": [
        "bins=[0,40,80,120]\n",
        "groups=['Low(0-40)','Medium(40-80)', 'High(80-120)']"
      ],
      "execution_count": 0,
      "outputs": []
    },
    {
      "cell_type": "code",
      "metadata": {
        "id": "Q6Q3-XX-_Sfh",
        "colab_type": "code",
        "outputId": "792c87df-49e1-4345-dce6-f3746c7fbb15",
        "colab": {
          "base_uri": "https://localhost:8080/",
          "height": 168
        }
      },
      "source": [
        "df['X13_Bin']=pd.cut(df['X_13'],bins,labels=groups)\n",
        "X13_Bin=pd.crosstab(df['X13_Bin'], df['MULTIPLE_OFFENSE'])\n",
        "X13_Bin"
      ],
      "execution_count": 0,
      "outputs": [
        {
          "output_type": "execute_result",
          "data": {
            "text/html": [
              "<div>\n",
              "<style scoped>\n",
              "    .dataframe tbody tr th:only-of-type {\n",
              "        vertical-align: middle;\n",
              "    }\n",
              "\n",
              "    .dataframe tbody tr th {\n",
              "        vertical-align: top;\n",
              "    }\n",
              "\n",
              "    .dataframe thead th {\n",
              "        text-align: right;\n",
              "    }\n",
              "</style>\n",
              "<table border=\"1\" class=\"dataframe\">\n",
              "  <thead>\n",
              "    <tr style=\"text-align: right;\">\n",
              "      <th>MULTIPLE_OFFENSE</th>\n",
              "      <th>0</th>\n",
              "      <th>1</th>\n",
              "    </tr>\n",
              "    <tr>\n",
              "      <th>X13_Bin</th>\n",
              "      <th></th>\n",
              "      <th></th>\n",
              "    </tr>\n",
              "  </thead>\n",
              "  <tbody>\n",
              "    <tr>\n",
              "      <th>Low(0-40)</th>\n",
              "      <td>128</td>\n",
              "      <td>2378</td>\n",
              "    </tr>\n",
              "    <tr>\n",
              "      <th>Medium(40-80)</th>\n",
              "      <td>236</td>\n",
              "      <td>5424</td>\n",
              "    </tr>\n",
              "    <tr>\n",
              "      <th>High(80-120)</th>\n",
              "      <td>704</td>\n",
              "      <td>14985</td>\n",
              "    </tr>\n",
              "  </tbody>\n",
              "</table>\n",
              "</div>"
            ],
            "text/plain": [
              "MULTIPLE_OFFENSE    0      1\n",
              "X13_Bin                     \n",
              "Low(0-40)         128   2378\n",
              "Medium(40-80)     236   5424\n",
              "High(80-120)      704  14985"
            ]
          },
          "metadata": {
            "tags": []
          },
          "execution_count": 112
        }
      ]
    },
    {
      "cell_type": "code",
      "metadata": {
        "id": "mWMU25_y_R2A",
        "colab_type": "code",
        "outputId": "13adc725-7c5b-457d-c0b3-5cfcd530bab5",
        "colab": {
          "base_uri": "https://localhost:8080/",
          "height": 416
        }
      },
      "source": [
        "X13_Bin.div(X13_Bin.sum().astype(float)).plot(kind=\"bar\", figsize=(5,5))\n",
        "plt.title(\"X13 slots w.r.t. multiple offense\")\n",
        "plt.xlabel(\"Slots of X13\")\n",
        "plt.show()"
      ],
      "execution_count": 0,
      "outputs": [
        {
          "output_type": "display_data",
          "data": {
            "image/png": "[encoded data removed]",
            "text/plain": [
              "<Figure size 360x360 with 1 Axes>"
            ]
          },
          "metadata": {
            "tags": [],
            "needs_background": "light"
          }
        }
      ]
    },
    {
      "cell_type": "code",
      "metadata": {
        "id": "M_Hsah-CNam4",
        "colab_type": "code",
        "colab": {}
      },
      "source": [
        "# It can be inferred that for X13 variable, mostly hacking happened in range of (80-120) of X13."
      ],
      "execution_count": 0,
      "outputs": []
    },
    {
      "cell_type": "code",
      "metadata": {
        "id": "PDcTwHAl_RxT",
        "colab_type": "code",
        "outputId": "8d418a93-d15a-4828-ebda-3cda325305fd",
        "colab": {
          "base_uri": "https://localhost:8080/",
          "height": 158
        }
      },
      "source": [
        "X14_hack=pd.crosstab(df['MULTIPLE_OFFENSE'], df['X_14'])\n",
        "X14_hack"
      ],
      "execution_count": 0,
      "outputs": [
        {
          "output_type": "execute_result",
          "data": {
            "text/html": [
              "<div>\n",
              "<style scoped>\n",
              "    .dataframe tbody tr th:only-of-type {\n",
              "        vertical-align: middle;\n",
              "    }\n",
              "\n",
              "    .dataframe tbody tr th {\n",
              "        vertical-align: top;\n",
              "    }\n",
              "\n",
              "    .dataframe thead th {\n",
              "        text-align: right;\n",
              "    }\n",
              "</style>\n",
              "<table border=\"1\" class=\"dataframe\">\n",
              "  <thead>\n",
              "    <tr style=\"text-align: right;\">\n",
              "      <th>X_14</th>\n",
              "      <th>0</th>\n",
              "      <th>2</th>\n",
              "      <th>6</th>\n",
              "      <th>12</th>\n",
              "      <th>14</th>\n",
              "      <th>16</th>\n",
              "      <th>24</th>\n",
              "      <th>25</th>\n",
              "      <th>29</th>\n",
              "      <th>30</th>\n",
              "      <th>33</th>\n",
              "      <th>34</th>\n",
              "      <th>37</th>\n",
              "      <th>40</th>\n",
              "      <th>43</th>\n",
              "      <th>46</th>\n",
              "      <th>51</th>\n",
              "      <th>52</th>\n",
              "      <th>53</th>\n",
              "      <th>56</th>\n",
              "      <th>57</th>\n",
              "      <th>58</th>\n",
              "      <th>59</th>\n",
              "      <th>61</th>\n",
              "      <th>62</th>\n",
              "      <th>65</th>\n",
              "      <th>66</th>\n",
              "      <th>68</th>\n",
              "      <th>70</th>\n",
              "      <th>74</th>\n",
              "      <th>76</th>\n",
              "      <th>77</th>\n",
              "      <th>79</th>\n",
              "      <th>80</th>\n",
              "      <th>81</th>\n",
              "      <th>86</th>\n",
              "      <th>87</th>\n",
              "      <th>90</th>\n",
              "      <th>92</th>\n",
              "      <th>93</th>\n",
              "      <th>97</th>\n",
              "      <th>99</th>\n",
              "      <th>100</th>\n",
              "      <th>103</th>\n",
              "      <th>104</th>\n",
              "      <th>107</th>\n",
              "      <th>109</th>\n",
              "      <th>111</th>\n",
              "      <th>114</th>\n",
              "      <th>115</th>\n",
              "      <th>118</th>\n",
              "      <th>119</th>\n",
              "      <th>124</th>\n",
              "      <th>128</th>\n",
              "      <th>129</th>\n",
              "      <th>130</th>\n",
              "      <th>133</th>\n",
              "      <th>136</th>\n",
              "      <th>138</th>\n",
              "      <th>139</th>\n",
              "      <th>140</th>\n",
              "      <th>142</th>\n",
              "    </tr>\n",
              "    <tr>\n",
              "      <th>MULTIPLE_OFFENSE</th>\n",
              "      <th></th>\n",
              "      <th></th>\n",
              "      <th></th>\n",
              "      <th></th>\n",
              "      <th></th>\n",
              "      <th></th>\n",
              "      <th></th>\n",
              "      <th></th>\n",
              "      <th></th>\n",
              "      <th></th>\n",
              "      <th></th>\n",
              "      <th></th>\n",
              "      <th></th>\n",
              "      <th></th>\n",
              "      <th></th>\n",
              "      <th></th>\n",
              "      <th></th>\n",
              "      <th></th>\n",
              "      <th></th>\n",
              "      <th></th>\n",
              "      <th></th>\n",
              "      <th></th>\n",
              "      <th></th>\n",
              "      <th></th>\n",
              "      <th></th>\n",
              "      <th></th>\n",
              "      <th></th>\n",
              "      <th></th>\n",
              "      <th></th>\n",
              "      <th></th>\n",
              "      <th></th>\n",
              "      <th></th>\n",
              "      <th></th>\n",
              "      <th></th>\n",
              "      <th></th>\n",
              "      <th></th>\n",
              "      <th></th>\n",
              "      <th></th>\n",
              "      <th></th>\n",
              "      <th></th>\n",
              "      <th></th>\n",
              "      <th></th>\n",
              "      <th></th>\n",
              "      <th></th>\n",
              "      <th></th>\n",
              "      <th></th>\n",
              "      <th></th>\n",
              "      <th></th>\n",
              "      <th></th>\n",
              "      <th></th>\n",
              "      <th></th>\n",
              "      <th></th>\n",
              "      <th></th>\n",
              "      <th></th>\n",
              "      <th></th>\n",
              "      <th></th>\n",
              "      <th></th>\n",
              "      <th></th>\n",
              "      <th></th>\n",
              "      <th></th>\n",
              "      <th></th>\n",
              "      <th></th>\n",
              "    </tr>\n",
              "  </thead>\n",
              "  <tbody>\n",
              "    <tr>\n",
              "      <th>0</th>\n",
              "      <td>9</td>\n",
              "      <td>1</td>\n",
              "      <td>7</td>\n",
              "      <td>0</td>\n",
              "      <td>26</td>\n",
              "      <td>2</td>\n",
              "      <td>2</td>\n",
              "      <td>2</td>\n",
              "      <td>323</td>\n",
              "      <td>2</td>\n",
              "      <td>1</td>\n",
              "      <td>0</td>\n",
              "      <td>0</td>\n",
              "      <td>0</td>\n",
              "      <td>1</td>\n",
              "      <td>0</td>\n",
              "      <td>3</td>\n",
              "      <td>0</td>\n",
              "      <td>16</td>\n",
              "      <td>0</td>\n",
              "      <td>2</td>\n",
              "      <td>0</td>\n",
              "      <td>1</td>\n",
              "      <td>0</td>\n",
              "      <td>106</td>\n",
              "      <td>2</td>\n",
              "      <td>1</td>\n",
              "      <td>1</td>\n",
              "      <td>1</td>\n",
              "      <td>0</td>\n",
              "      <td>0</td>\n",
              "      <td>2</td>\n",
              "      <td>0</td>\n",
              "      <td>69</td>\n",
              "      <td>1</td>\n",
              "      <td>2</td>\n",
              "      <td>17</td>\n",
              "      <td>1</td>\n",
              "      <td>0</td>\n",
              "      <td>153</td>\n",
              "      <td>1</td>\n",
              "      <td>1</td>\n",
              "      <td>1</td>\n",
              "      <td>21</td>\n",
              "      <td>1</td>\n",
              "      <td>25</td>\n",
              "      <td>1</td>\n",
              "      <td>2</td>\n",
              "      <td>1</td>\n",
              "      <td>4</td>\n",
              "      <td>0</td>\n",
              "      <td>18</td>\n",
              "      <td>5</td>\n",
              "      <td>0</td>\n",
              "      <td>2</td>\n",
              "      <td>57</td>\n",
              "      <td>22</td>\n",
              "      <td>3</td>\n",
              "      <td>6</td>\n",
              "      <td>0</td>\n",
              "      <td>5</td>\n",
              "      <td>138</td>\n",
              "    </tr>\n",
              "    <tr>\n",
              "      <th>1</th>\n",
              "      <td>279</td>\n",
              "      <td>0</td>\n",
              "      <td>112</td>\n",
              "      <td>1</td>\n",
              "      <td>631</td>\n",
              "      <td>0</td>\n",
              "      <td>19</td>\n",
              "      <td>75</td>\n",
              "      <td>7842</td>\n",
              "      <td>1</td>\n",
              "      <td>0</td>\n",
              "      <td>1</td>\n",
              "      <td>1</td>\n",
              "      <td>1</td>\n",
              "      <td>0</td>\n",
              "      <td>1</td>\n",
              "      <td>0</td>\n",
              "      <td>3</td>\n",
              "      <td>161</td>\n",
              "      <td>10</td>\n",
              "      <td>16</td>\n",
              "      <td>1</td>\n",
              "      <td>0</td>\n",
              "      <td>1</td>\n",
              "      <td>2368</td>\n",
              "      <td>0</td>\n",
              "      <td>1</td>\n",
              "      <td>0</td>\n",
              "      <td>0</td>\n",
              "      <td>2</td>\n",
              "      <td>19</td>\n",
              "      <td>55</td>\n",
              "      <td>5</td>\n",
              "      <td>1419</td>\n",
              "      <td>0</td>\n",
              "      <td>1</td>\n",
              "      <td>438</td>\n",
              "      <td>0</td>\n",
              "      <td>1</td>\n",
              "      <td>2957</td>\n",
              "      <td>1</td>\n",
              "      <td>0</td>\n",
              "      <td>1</td>\n",
              "      <td>485</td>\n",
              "      <td>0</td>\n",
              "      <td>709</td>\n",
              "      <td>0</td>\n",
              "      <td>11</td>\n",
              "      <td>0</td>\n",
              "      <td>126</td>\n",
              "      <td>2</td>\n",
              "      <td>561</td>\n",
              "      <td>120</td>\n",
              "      <td>4</td>\n",
              "      <td>15</td>\n",
              "      <td>1148</td>\n",
              "      <td>334</td>\n",
              "      <td>63</td>\n",
              "      <td>131</td>\n",
              "      <td>10</td>\n",
              "      <td>69</td>\n",
              "      <td>2576</td>\n",
              "    </tr>\n",
              "  </tbody>\n",
              "</table>\n",
              "</div>"
            ],
            "text/plain": [
              "X_14              0    2    6    12   14   16   ...  133  136  138  139  140   142\n",
              "MULTIPLE_OFFENSE                                ...                               \n",
              "0                   9    1    7    0   26    2  ...   22    3    6    0    5   138\n",
              "1                 279    0  112    1  631    0  ...  334   63  131   10   69  2576\n",
              "\n",
              "[2 rows x 62 columns]"
            ]
          },
          "metadata": {
            "tags": []
          },
          "execution_count": 115
        }
      ]
    },
    {
      "cell_type": "code",
      "metadata": {
        "id": "NOWuMkMH_Rry",
        "colab_type": "code",
        "colab": {}
      },
      "source": [
        "bins=[0,50,100,150]\n",
        "groups=['Low(0-50)','Medium(50-100)', 'High(100-150)']"
      ],
      "execution_count": 0,
      "outputs": []
    },
    {
      "cell_type": "code",
      "metadata": {
        "id": "AHPK1Ur7_RnR",
        "colab_type": "code",
        "outputId": "9b1b43fa-c4ff-4abe-85b2-6e0712734f88",
        "colab": {
          "base_uri": "https://localhost:8080/",
          "height": 168
        }
      },
      "source": [
        "df['X14_Bin']=pd.cut(df['X_14'],bins,labels=groups)\n",
        "X14_Bin=pd.crosstab(df['X14_Bin'], df['MULTIPLE_OFFENSE'])\n",
        "X14_Bin"
      ],
      "execution_count": 0,
      "outputs": [
        {
          "output_type": "execute_result",
          "data": {
            "text/html": [
              "<div>\n",
              "<style scoped>\n",
              "    .dataframe tbody tr th:only-of-type {\n",
              "        vertical-align: middle;\n",
              "    }\n",
              "\n",
              "    .dataframe tbody tr th {\n",
              "        vertical-align: top;\n",
              "    }\n",
              "\n",
              "    .dataframe thead th {\n",
              "        text-align: right;\n",
              "    }\n",
              "</style>\n",
              "<table border=\"1\" class=\"dataframe\">\n",
              "  <thead>\n",
              "    <tr style=\"text-align: right;\">\n",
              "      <th>MULTIPLE_OFFENSE</th>\n",
              "      <th>0</th>\n",
              "      <th>1</th>\n",
              "    </tr>\n",
              "    <tr>\n",
              "      <th>X14_Bin</th>\n",
              "      <th></th>\n",
              "      <th></th>\n",
              "    </tr>\n",
              "  </thead>\n",
              "  <tbody>\n",
              "    <tr>\n",
              "      <th>Low(0-50)</th>\n",
              "      <td>367</td>\n",
              "      <td>8685</td>\n",
              "    </tr>\n",
              "    <tr>\n",
              "      <th>Medium(50-100)</th>\n",
              "      <td>381</td>\n",
              "      <td>7460</td>\n",
              "    </tr>\n",
              "    <tr>\n",
              "      <th>High(100-150)</th>\n",
              "      <td>311</td>\n",
              "      <td>6364</td>\n",
              "    </tr>\n",
              "  </tbody>\n",
              "</table>\n",
              "</div>"
            ],
            "text/plain": [
              "MULTIPLE_OFFENSE    0     1\n",
              "X14_Bin                    \n",
              "Low(0-50)         367  8685\n",
              "Medium(50-100)    381  7460\n",
              "High(100-150)     311  6364"
            ]
          },
          "metadata": {
            "tags": []
          },
          "execution_count": 117
        }
      ]
    },
    {
      "cell_type": "code",
      "metadata": {
        "id": "dbDDLYUd_RiY",
        "colab_type": "code",
        "outputId": "d3e9acb5-8079-4d4d-ba4e-d17b43d430af",
        "colab": {
          "base_uri": "https://localhost:8080/",
          "height": 423
        }
      },
      "source": [
        "X14_Bin.div(X14_Bin.sum().astype(float)).plot(kind=\"bar\", figsize=(5,5))\n",
        "plt.title(\"X14 slots w.r.t. multiple offense\")\n",
        "plt.xlabel(\"Slots of X14\")\n",
        "plt.show()"
      ],
      "execution_count": 0,
      "outputs": [
        {
          "output_type": "display_data",
          "data": {
            "image/png": "[encoded data removed]",
            "text/plain": [
              "<Figure size 360x360 with 1 Axes>"
            ]
          },
          "metadata": {
            "tags": [],
            "needs_background": "light"
          }
        }
      ]
    },
    {
      "cell_type": "code",
      "metadata": {
        "id": "cZvAetU7Ng4K",
        "colab_type": "code",
        "colab": {}
      },
      "source": [
        "# It can be inferred that for X14 variable, in all ranges (0-150) hacking is positive but comparativelywe can say that high rate of hacking is in range of (0-50) of X14."
      ],
      "execution_count": 0,
      "outputs": []
    },
    {
      "cell_type": "code",
      "metadata": {
        "id": "Vf6Hkn5W_Rc7",
        "colab_type": "code",
        "outputId": "4c6b8bab-bb9a-45b7-c5c0-57a6c3be7f27",
        "colab": {
          "base_uri": "https://localhost:8080/",
          "height": 158
        }
      },
      "source": [
        "X15_hack=pd.crosstab(df['MULTIPLE_OFFENSE'], df['X_15'])\n",
        "X15_hack"
      ],
      "execution_count": 0,
      "outputs": [
        {
          "output_type": "execute_result",
          "data": {
            "text/html": [
              "<div>\n",
              "<style scoped>\n",
              "    .dataframe tbody tr th:only-of-type {\n",
              "        vertical-align: middle;\n",
              "    }\n",
              "\n",
              "    .dataframe tbody tr th {\n",
              "        vertical-align: top;\n",
              "    }\n",
              "\n",
              "    .dataframe thead th {\n",
              "        text-align: right;\n",
              "    }\n",
              "</style>\n",
              "<table border=\"1\" class=\"dataframe\">\n",
              "  <thead>\n",
              "    <tr style=\"text-align: right;\">\n",
              "      <th>X_15</th>\n",
              "      <th>0</th>\n",
              "      <th>4</th>\n",
              "      <th>5</th>\n",
              "      <th>8</th>\n",
              "      <th>9</th>\n",
              "      <th>12</th>\n",
              "      <th>14</th>\n",
              "      <th>15</th>\n",
              "      <th>16</th>\n",
              "      <th>17</th>\n",
              "      <th>18</th>\n",
              "      <th>21</th>\n",
              "      <th>22</th>\n",
              "      <th>23</th>\n",
              "      <th>24</th>\n",
              "      <th>31</th>\n",
              "      <th>32</th>\n",
              "      <th>34</th>\n",
              "      <th>35</th>\n",
              "      <th>36</th>\n",
              "      <th>38</th>\n",
              "      <th>39</th>\n",
              "      <th>40</th>\n",
              "      <th>41</th>\n",
              "      <th>43</th>\n",
              "      <th>46</th>\n",
              "      <th>48</th>\n",
              "      <th>50</th>\n",
              "    </tr>\n",
              "    <tr>\n",
              "      <th>MULTIPLE_OFFENSE</th>\n",
              "      <th></th>\n",
              "      <th></th>\n",
              "      <th></th>\n",
              "      <th></th>\n",
              "      <th></th>\n",
              "      <th></th>\n",
              "      <th></th>\n",
              "      <th></th>\n",
              "      <th></th>\n",
              "      <th></th>\n",
              "      <th></th>\n",
              "      <th></th>\n",
              "      <th></th>\n",
              "      <th></th>\n",
              "      <th></th>\n",
              "      <th></th>\n",
              "      <th></th>\n",
              "      <th></th>\n",
              "      <th></th>\n",
              "      <th></th>\n",
              "      <th></th>\n",
              "      <th></th>\n",
              "      <th></th>\n",
              "      <th></th>\n",
              "      <th></th>\n",
              "      <th></th>\n",
              "      <th></th>\n",
              "      <th></th>\n",
              "    </tr>\n",
              "  </thead>\n",
              "  <tbody>\n",
              "    <tr>\n",
              "      <th>0</th>\n",
              "      <td>20</td>\n",
              "      <td>4</td>\n",
              "      <td>1</td>\n",
              "      <td>1</td>\n",
              "      <td>92</td>\n",
              "      <td>1</td>\n",
              "      <td>1</td>\n",
              "      <td>2</td>\n",
              "      <td>1</td>\n",
              "      <td>4</td>\n",
              "      <td>0</td>\n",
              "      <td>1</td>\n",
              "      <td>1</td>\n",
              "      <td>2</td>\n",
              "      <td>20</td>\n",
              "      <td>1</td>\n",
              "      <td>1</td>\n",
              "      <td>620</td>\n",
              "      <td>1</td>\n",
              "      <td>182</td>\n",
              "      <td>20</td>\n",
              "      <td>54</td>\n",
              "      <td>6</td>\n",
              "      <td>0</td>\n",
              "      <td>2</td>\n",
              "      <td>23</td>\n",
              "      <td>7</td>\n",
              "      <td>0</td>\n",
              "    </tr>\n",
              "    <tr>\n",
              "      <th>1</th>\n",
              "      <td>997</td>\n",
              "      <td>0</td>\n",
              "      <td>0</td>\n",
              "      <td>0</td>\n",
              "      <td>0</td>\n",
              "      <td>0</td>\n",
              "      <td>0</td>\n",
              "      <td>0</td>\n",
              "      <td>0</td>\n",
              "      <td>0</td>\n",
              "      <td>13</td>\n",
              "      <td>0</td>\n",
              "      <td>0</td>\n",
              "      <td>640</td>\n",
              "      <td>0</td>\n",
              "      <td>0</td>\n",
              "      <td>0</td>\n",
              "      <td>18327</td>\n",
              "      <td>0</td>\n",
              "      <td>0</td>\n",
              "      <td>0</td>\n",
              "      <td>0</td>\n",
              "      <td>0</td>\n",
              "      <td>6</td>\n",
              "      <td>1501</td>\n",
              "      <td>645</td>\n",
              "      <td>514</td>\n",
              "      <td>145</td>\n",
              "    </tr>\n",
              "  </tbody>\n",
              "</table>\n",
              "</div>"
            ],
            "text/plain": [
              "X_15               0   4   5   8   9   12  14  ...  39  40  41    43   46   48   50\n",
              "MULTIPLE_OFFENSE                               ...                                 \n",
              "0                  20   4   1   1  92   1   1  ...  54   6   0     2   23    7    0\n",
              "1                 997   0   0   0   0   0   0  ...   0   0   6  1501  645  514  145\n",
              "\n",
              "[2 rows x 28 columns]"
            ]
          },
          "metadata": {
            "tags": []
          },
          "execution_count": 120
        }
      ]
    },
    {
      "cell_type": "code",
      "metadata": {
        "id": "33mVZqrb_RX9",
        "colab_type": "code",
        "colab": {}
      },
      "source": [
        "bins=[0,15,30,51]\n",
        "groups=['Low(0-15)','Medium(15-30)', 'High(30-51)']"
      ],
      "execution_count": 0,
      "outputs": []
    },
    {
      "cell_type": "code",
      "metadata": {
        "id": "28c_1QA1_Q7F",
        "colab_type": "code",
        "outputId": "e01e730a-8471-44ef-f240-243cdebc7166",
        "colab": {
          "base_uri": "https://localhost:8080/",
          "height": 168
        }
      },
      "source": [
        "df['X15_Bin']=pd.cut(df['X_15'],bins,labels=groups)\n",
        "X15_Bin=pd.crosstab(df['X15_Bin'], df['MULTIPLE_OFFENSE'])\n",
        "X15_Bin"
      ],
      "execution_count": 0,
      "outputs": [
        {
          "output_type": "execute_result",
          "data": {
            "text/html": [
              "<div>\n",
              "<style scoped>\n",
              "    .dataframe tbody tr th:only-of-type {\n",
              "        vertical-align: middle;\n",
              "    }\n",
              "\n",
              "    .dataframe tbody tr th {\n",
              "        vertical-align: top;\n",
              "    }\n",
              "\n",
              "    .dataframe thead th {\n",
              "        text-align: right;\n",
              "    }\n",
              "</style>\n",
              "<table border=\"1\" class=\"dataframe\">\n",
              "  <thead>\n",
              "    <tr style=\"text-align: right;\">\n",
              "      <th>MULTIPLE_OFFENSE</th>\n",
              "      <th>0</th>\n",
              "      <th>1</th>\n",
              "    </tr>\n",
              "    <tr>\n",
              "      <th>X15_Bin</th>\n",
              "      <th></th>\n",
              "      <th></th>\n",
              "    </tr>\n",
              "  </thead>\n",
              "  <tbody>\n",
              "    <tr>\n",
              "      <th>Low(0-15)</th>\n",
              "      <td>102</td>\n",
              "      <td>0</td>\n",
              "    </tr>\n",
              "    <tr>\n",
              "      <th>Medium(15-30)</th>\n",
              "      <td>29</td>\n",
              "      <td>653</td>\n",
              "    </tr>\n",
              "    <tr>\n",
              "      <th>High(30-51)</th>\n",
              "      <td>917</td>\n",
              "      <td>21138</td>\n",
              "    </tr>\n",
              "  </tbody>\n",
              "</table>\n",
              "</div>"
            ],
            "text/plain": [
              "MULTIPLE_OFFENSE    0      1\n",
              "X15_Bin                     \n",
              "Low(0-15)         102      0\n",
              "Medium(15-30)      29    653\n",
              "High(30-51)       917  21138"
            ]
          },
          "metadata": {
            "tags": []
          },
          "execution_count": 122
        }
      ]
    },
    {
      "cell_type": "code",
      "metadata": {
        "id": "1r6RqZ4Z_Q2T",
        "colab_type": "code",
        "outputId": "5bb9fe57-e0a8-4216-f63d-96cb19f8dc23",
        "colab": {
          "base_uri": "https://localhost:8080/",
          "height": 416
        }
      },
      "source": [
        "X15_Bin.div(X15_Bin.sum().astype(float)).plot(kind=\"bar\", figsize=(5,5))\n",
        "plt.title(\"X15 slots w.r.t. multiple offense\")\n",
        "plt.xlabel(\"Slots of X15\")\n",
        "plt.show()"
      ],
      "execution_count": 0,
      "outputs": [
        {
          "output_type": "display_data",
          "data": {
            "image/png": "[encoded data removed]",
            "text/plain": [
              "<Figure size 360x360 with 1 Axes>"
            ]
          },
          "metadata": {
            "tags": [],
            "needs_background": "light"
          }
        }
      ]
    },
    {
      "cell_type": "code",
      "metadata": {
        "id": "HdBvbmRX_Qxk",
        "colab_type": "code",
        "colab": {}
      },
      "source": [
        "# It can be inferred that for X15 variable, mostly hacking happened in range of (30-51) of X15."
      ],
      "execution_count": 0,
      "outputs": []
    },
    {
      "cell_type": "code",
      "metadata": {
        "id": "nXBbbdLL_Qs3",
        "colab_type": "code",
        "colab": {}
      },
      "source": [
        "# removing unwanted column which we have created during EDA above\n",
        "df=df.drop(['X1_Bin','X2_Bin','X3_Bin','X4_Bin',\n",
        "            'X5_Bin', 'X6_Bin','X7_Bin','X8_Bin','X9_Bin','X10_Bin',\n",
        "            'X11_Bin','X12_Bin','X13_Bin','X14_Bin','X15_Bin'],1)"
      ],
      "execution_count": 0,
      "outputs": []
    },
    {
      "cell_type": "code",
      "metadata": {
        "id": "GuS0mVLa_Qn1",
        "colab_type": "code",
        "outputId": "87745d15-bc8f-4405-c906-954854b82c0a",
        "colab": {
          "base_uri": "https://localhost:8080/",
          "height": 90
        }
      },
      "source": [
        "df.columns"
      ],
      "execution_count": 0,
      "outputs": [
        {
          "output_type": "execute_result",
          "data": {
            "text/plain": [
              "Index(['INCIDENT_ID', 'DATE', 'X_1', 'X_2', 'X_3', 'X_4', 'X_5', 'X_6', 'X_7',\n",
              "       'X_8', 'X_9', 'X_10', 'X_11', 'X_12', 'X_13', 'X_14', 'X_15',\n",
              "       'MULTIPLE_OFFENSE', 'DAY', 'MONTH', 'YEAR', 'WEEK'],\n",
              "      dtype='object')"
            ]
          },
          "metadata": {
            "tags": []
          },
          "execution_count": 126
        }
      ]
    },
    {
      "cell_type": "code",
      "metadata": {
        "id": "kGfnsnEr_QjN",
        "colab_type": "code",
        "outputId": "4c896c14-6b68-4434-99cf-5ccc7e7bbd37",
        "colab": {
          "base_uri": "https://localhost:8080/",
          "height": 305
        }
      },
      "source": [
        "df.head()"
      ],
      "execution_count": 0,
      "outputs": [
        {
          "output_type": "execute_result",
          "data": {
            "text/html": [
              "<div>\n",
              "<style scoped>\n",
              "    .dataframe tbody tr th:only-of-type {\n",
              "        vertical-align: middle;\n",
              "    }\n",
              "\n",
              "    .dataframe tbody tr th {\n",
              "        vertical-align: top;\n",
              "    }\n",
              "\n",
              "    .dataframe thead th {\n",
              "        text-align: right;\n",
              "    }\n",
              "</style>\n",
              "<table border=\"1\" class=\"dataframe\">\n",
              "  <thead>\n",
              "    <tr style=\"text-align: right;\">\n",
              "      <th></th>\n",
              "      <th>INCIDENT_ID</th>\n",
              "      <th>DATE</th>\n",
              "      <th>X_1</th>\n",
              "      <th>X_2</th>\n",
              "      <th>X_3</th>\n",
              "      <th>X_4</th>\n",
              "      <th>X_5</th>\n",
              "      <th>X_6</th>\n",
              "      <th>X_7</th>\n",
              "      <th>X_8</th>\n",
              "      <th>X_9</th>\n",
              "      <th>X_10</th>\n",
              "      <th>X_11</th>\n",
              "      <th>X_12</th>\n",
              "      <th>X_13</th>\n",
              "      <th>X_14</th>\n",
              "      <th>X_15</th>\n",
              "      <th>MULTIPLE_OFFENSE</th>\n",
              "      <th>DAY</th>\n",
              "      <th>MONTH</th>\n",
              "      <th>YEAR</th>\n",
              "      <th>WEEK</th>\n",
              "    </tr>\n",
              "  </thead>\n",
              "  <tbody>\n",
              "    <tr>\n",
              "      <th>0</th>\n",
              "      <td>CR_102659</td>\n",
              "      <td>2004-07-04</td>\n",
              "      <td>0</td>\n",
              "      <td>36</td>\n",
              "      <td>34</td>\n",
              "      <td>2</td>\n",
              "      <td>1</td>\n",
              "      <td>5</td>\n",
              "      <td>6</td>\n",
              "      <td>1</td>\n",
              "      <td>6</td>\n",
              "      <td>1</td>\n",
              "      <td>174</td>\n",
              "      <td>1.0</td>\n",
              "      <td>92</td>\n",
              "      <td>29</td>\n",
              "      <td>36</td>\n",
              "      <td>0</td>\n",
              "      <td>4</td>\n",
              "      <td>7</td>\n",
              "      <td>2004</td>\n",
              "      <td>27</td>\n",
              "    </tr>\n",
              "    <tr>\n",
              "      <th>1</th>\n",
              "      <td>CR_189752</td>\n",
              "      <td>2017-07-18</td>\n",
              "      <td>1</td>\n",
              "      <td>37</td>\n",
              "      <td>37</td>\n",
              "      <td>0</td>\n",
              "      <td>0</td>\n",
              "      <td>11</td>\n",
              "      <td>17</td>\n",
              "      <td>1</td>\n",
              "      <td>6</td>\n",
              "      <td>1</td>\n",
              "      <td>236</td>\n",
              "      <td>1.0</td>\n",
              "      <td>103</td>\n",
              "      <td>142</td>\n",
              "      <td>34</td>\n",
              "      <td>1</td>\n",
              "      <td>18</td>\n",
              "      <td>7</td>\n",
              "      <td>2017</td>\n",
              "      <td>29</td>\n",
              "    </tr>\n",
              "    <tr>\n",
              "      <th>2</th>\n",
              "      <td>CR_184637</td>\n",
              "      <td>2017-03-15</td>\n",
              "      <td>0</td>\n",
              "      <td>3</td>\n",
              "      <td>2</td>\n",
              "      <td>3</td>\n",
              "      <td>5</td>\n",
              "      <td>1</td>\n",
              "      <td>0</td>\n",
              "      <td>2</td>\n",
              "      <td>3</td>\n",
              "      <td>1</td>\n",
              "      <td>174</td>\n",
              "      <td>1.0</td>\n",
              "      <td>110</td>\n",
              "      <td>93</td>\n",
              "      <td>34</td>\n",
              "      <td>1</td>\n",
              "      <td>15</td>\n",
              "      <td>3</td>\n",
              "      <td>2017</td>\n",
              "      <td>11</td>\n",
              "    </tr>\n",
              "    <tr>\n",
              "      <th>3</th>\n",
              "      <td>CR_139071</td>\n",
              "      <td>2009-02-13</td>\n",
              "      <td>0</td>\n",
              "      <td>33</td>\n",
              "      <td>32</td>\n",
              "      <td>2</td>\n",
              "      <td>1</td>\n",
              "      <td>7</td>\n",
              "      <td>1</td>\n",
              "      <td>1</td>\n",
              "      <td>6</td>\n",
              "      <td>1</td>\n",
              "      <td>249</td>\n",
              "      <td>1.0</td>\n",
              "      <td>72</td>\n",
              "      <td>29</td>\n",
              "      <td>34</td>\n",
              "      <td>1</td>\n",
              "      <td>13</td>\n",
              "      <td>2</td>\n",
              "      <td>2009</td>\n",
              "      <td>7</td>\n",
              "    </tr>\n",
              "    <tr>\n",
              "      <th>4</th>\n",
              "      <td>CR_109335</td>\n",
              "      <td>2005-04-13</td>\n",
              "      <td>0</td>\n",
              "      <td>33</td>\n",
              "      <td>32</td>\n",
              "      <td>2</td>\n",
              "      <td>1</td>\n",
              "      <td>8</td>\n",
              "      <td>3</td>\n",
              "      <td>0</td>\n",
              "      <td>5</td>\n",
              "      <td>1</td>\n",
              "      <td>174</td>\n",
              "      <td>0.0</td>\n",
              "      <td>112</td>\n",
              "      <td>29</td>\n",
              "      <td>43</td>\n",
              "      <td>1</td>\n",
              "      <td>13</td>\n",
              "      <td>4</td>\n",
              "      <td>2005</td>\n",
              "      <td>15</td>\n",
              "    </tr>\n",
              "  </tbody>\n",
              "</table>\n",
              "</div>"
            ],
            "text/plain": [
              "  INCIDENT_ID       DATE  X_1  X_2  ...  DAY  MONTH  YEAR  WEEK\n",
              "0   CR_102659 2004-07-04    0   36  ...    4      7  2004    27\n",
              "1   CR_189752 2017-07-18    1   37  ...   18      7  2017    29\n",
              "2   CR_184637 2017-03-15    0    3  ...   15      3  2017    11\n",
              "3   CR_139071 2009-02-13    0   33  ...   13      2  2009     7\n",
              "4   CR_109335 2005-04-13    0   33  ...   13      4  2005    15\n",
              "\n",
              "[5 rows x 22 columns]"
            ]
          },
          "metadata": {
            "tags": []
          },
          "execution_count": 127
        }
      ]
    },
    {
      "cell_type": "code",
      "metadata": {
        "id": "X0iuFQNO5fsv",
        "colab_type": "code",
        "colab": {}
      },
      "source": [
        ""
      ],
      "execution_count": 0,
      "outputs": []
    },
    {
      "cell_type": "code",
      "metadata": {
        "id": "HI21ujpk0PB1",
        "colab_type": "code",
        "colab": {}
      },
      "source": [
        "# The date attributes like year, month & week are not impacting target variable.\n",
        "# If we include these date attributes it is negatively impacting accuracy level of model and I hve tested that\n",
        "# So for further processing I am removing date attributes\n",
        "# Two features X_4 & X_14 are not having great trend with target variable.So i am removing these two for more generalized model"
      ],
      "execution_count": 0,
      "outputs": []
    },
    {
      "cell_type": "code",
      "metadata": {
        "id": "1NrlpiW_RQWU",
        "colab_type": "code",
        "colab": {}
      },
      "source": [
        "# LETS DO MACHINE LEARNING"
      ],
      "execution_count": 0,
      "outputs": []
    },
    {
      "cell_type": "code",
      "metadata": {
        "id": "gl5n0dUKTOQw",
        "colab_type": "code",
        "colab": {}
      },
      "source": [
        "# 4. Sampling data for applying machine learning."
      ],
      "execution_count": 0,
      "outputs": []
    },
    {
      "cell_type": "code",
      "metadata": {
        "id": "OY3wABkIRQMc",
        "colab_type": "code",
        "colab": {}
      },
      "source": [
        "X1=df.drop(['INCIDENT_ID','DATE','MULTIPLE_OFFENSE','DAY','WEEK','MONTH','YEAR','X_4','X_14'],1)\n",
        "y=df['MULTIPLE_OFFENSE']"
      ],
      "execution_count": 0,
      "outputs": []
    },
    {
      "cell_type": "code",
      "metadata": {
        "id": "ha-GXTmEY6Ju",
        "colab_type": "code",
        "outputId": "ba19f316-239e-496b-c492-4cfcbee39af0",
        "colab": {
          "base_uri": "https://localhost:8080/",
          "height": 72
        }
      },
      "source": [
        "X1.columns"
      ],
      "execution_count": 0,
      "outputs": [
        {
          "output_type": "execute_result",
          "data": {
            "text/plain": [
              "Index(['X_1', 'X_2', 'X_3', 'X_5', 'X_6', 'X_7', 'X_8', 'X_9', 'X_10', 'X_11',\n",
              "       'X_12', 'X_13', 'X_15'],\n",
              "      dtype='object')"
            ]
          },
          "metadata": {
            "tags": []
          },
          "execution_count": 161
        }
      ]
    },
    {
      "cell_type": "code",
      "metadata": {
        "id": "1rp12qIaTYYy",
        "colab_type": "code",
        "colab": {}
      },
      "source": [
        "# 5. Standardization& Normalization of data.Standardization refers to shifting the distribution of each attribute to have a mean of zero and a standard deviation of one (unit variance).\n",
        "# like in this data we have seen there are different value ranges for all different attributes. So this would help machine learning models to perform good in such cases"
      ],
      "execution_count": 0,
      "outputs": []
    },
    {
      "cell_type": "code",
      "metadata": {
        "id": "PjIh_fNYRP8t",
        "colab_type": "code",
        "colab": {}
      },
      "source": [
        "from sklearn.preprocessing import StandardScaler\n",
        "scaler = StandardScaler()"
      ],
      "execution_count": 0,
      "outputs": []
    },
    {
      "cell_type": "code",
      "metadata": {
        "id": "3KKddRm-RPli",
        "colab_type": "code",
        "colab": {}
      },
      "source": [
        "scaler.fit(X1)\n",
        "X=scaler.transform(X1)"
      ],
      "execution_count": 0,
      "outputs": []
    },
    {
      "cell_type": "code",
      "metadata": {
        "id": "OYxwuaAcU9df",
        "colab_type": "code",
        "outputId": "ba6a9ead-cc33-4653-9c2d-8fa51f5bbade",
        "colab": {
          "base_uri": "https://localhost:8080/",
          "height": 35
        }
      },
      "source": [
        "X.shape"
      ],
      "execution_count": 0,
      "outputs": [
        {
          "output_type": "execute_result",
          "data": {
            "text/plain": [
              "(23856, 13)"
            ]
          },
          "metadata": {
            "tags": []
          },
          "execution_count": 165
        }
      ]
    },
    {
      "cell_type": "code",
      "metadata": {
        "id": "Vg6LwGwFTiO1",
        "colab_type": "code",
        "colab": {}
      },
      "source": [
        "# splitting and preparing data for implementation of machine learning"
      ],
      "execution_count": 0,
      "outputs": []
    },
    {
      "cell_type": "code",
      "metadata": {
        "id": "r1WmrhR6RPPN",
        "colab_type": "code",
        "outputId": "2d889b87-7f10-4632-aa3a-8a7a6a702801",
        "colab": {
          "base_uri": "https://localhost:8080/",
          "height": 54
        }
      },
      "source": [
        "# With sklearn train_test_split\n",
        "\n",
        "from sklearn.model_selection import train_test_split\n",
        "X_train,X_test,y_train,y_test = train_test_split(X,y, test_size=0.2, random_state=42)\n",
        "\n",
        "print((X_train.shape), \"X_train +\", (X_test.shape), \"X_test\")\n",
        "print((y_train.shape), \"y_train +\", (y_test.shape), \"y_test\")"
      ],
      "execution_count": 0,
      "outputs": [
        {
          "output_type": "stream",
          "text": [
            "(19084, 13) X_train + (4772, 13) X_test\n",
            "(19084,) y_train + (4772,) y_test\n"
          ],
          "name": "stdout"
        }
      ]
    },
    {
      "cell_type": "code",
      "metadata": {
        "id": "IFLowh15TrvY",
        "colab_type": "code",
        "colab": {}
      },
      "source": [
        "# 6. Machine learning implementation with multiple classification models\n",
        "# 1. Logistic Regression Classifier\n",
        "# 2. Random Forest Classifier\n",
        "# 3. SGD Classifier\n",
        "# 4. Voting Classifier\n",
        "# 5. Bagging Classifier\n",
        "# 6. Extra Tree Classifier\n",
        "# 7. Adaboost Classifier\n",
        "# 8. XGBoost Classifier\n",
        "# 9. XGBoost Classifier with grid search(Hyperparametr Tuning, which would tell us best parameters to be taken inside classifier for best results)"
      ],
      "execution_count": 0,
      "outputs": []
    },
    {
      "cell_type": "code",
      "metadata": {
        "id": "7UQCFdMXZB3G",
        "colab_type": "code",
        "colab": {}
      },
      "source": [
        "from sklearn.linear_model import LogisticRegression  \n",
        "clf1 = LogisticRegression(random_state=42)"
      ],
      "execution_count": 0,
      "outputs": []
    },
    {
      "cell_type": "code",
      "metadata": {
        "id": "5hQrDzFbZCVk",
        "colab_type": "code",
        "outputId": "535e1c7c-19a9-4581-e911-68e93b1d6d77",
        "colab": {
          "base_uri": "https://localhost:8080/",
          "height": 108
        }
      },
      "source": [
        "clf1.fit(X_train, y_train)"
      ],
      "execution_count": 0,
      "outputs": [
        {
          "output_type": "execute_result",
          "data": {
            "text/plain": [
              "LogisticRegression(C=1.0, class_weight=None, dual=False, fit_intercept=True,\n",
              "                   intercept_scaling=1, l1_ratio=None, max_iter=100,\n",
              "                   multi_class='auto', n_jobs=None, penalty='l2',\n",
              "                   random_state=42, solver='lbfgs', tol=0.0001, verbose=0,\n",
              "                   warm_start=False)"
            ]
          },
          "metadata": {
            "tags": []
          },
          "execution_count": 170
        }
      ]
    },
    {
      "cell_type": "code",
      "metadata": {
        "id": "uqXzn7iKZCk0",
        "colab_type": "code",
        "colab": {}
      },
      "source": [
        "y_pred1=clf1.predict(X_test)"
      ],
      "execution_count": 0,
      "outputs": []
    },
    {
      "cell_type": "code",
      "metadata": {
        "id": "ebcvY1rueICI",
        "colab_type": "code",
        "colab": {}
      },
      "source": [
        "from sklearn.ensemble import RandomForestClassifier \n",
        "clf2 = RandomForestClassifier(random_state=42)"
      ],
      "execution_count": 0,
      "outputs": []
    },
    {
      "cell_type": "code",
      "metadata": {
        "id": "unrh1CwCeH9C",
        "colab_type": "code",
        "outputId": "10032dc2-3fdd-4b98-e8d4-0dea9d6d946a",
        "colab": {
          "base_uri": "https://localhost:8080/",
          "height": 163
        }
      },
      "source": [
        "clf2.fit(X_train, y_train)"
      ],
      "execution_count": 0,
      "outputs": [
        {
          "output_type": "execute_result",
          "data": {
            "text/plain": [
              "RandomForestClassifier(bootstrap=True, ccp_alpha=0.0, class_weight=None,\n",
              "                       criterion='gini', max_depth=None, max_features='auto',\n",
              "                       max_leaf_nodes=None, max_samples=None,\n",
              "                       min_impurity_decrease=0.0, min_impurity_split=None,\n",
              "                       min_samples_leaf=1, min_samples_split=2,\n",
              "                       min_weight_fraction_leaf=0.0, n_estimators=100,\n",
              "                       n_jobs=None, oob_score=False, random_state=42, verbose=0,\n",
              "                       warm_start=False)"
            ]
          },
          "metadata": {
            "tags": []
          },
          "execution_count": 173
        }
      ]
    },
    {
      "cell_type": "code",
      "metadata": {
        "id": "qMkLz6RPeH4e",
        "colab_type": "code",
        "colab": {}
      },
      "source": [
        "y_pred2=clf2.predict(X_test)"
      ],
      "execution_count": 0,
      "outputs": []
    },
    {
      "cell_type": "code",
      "metadata": {
        "id": "W6QU47_feHz0",
        "colab_type": "code",
        "outputId": "787d0ecd-0f46-4a2c-9c87-abc654508ba0",
        "colab": {
          "base_uri": "https://localhost:8080/",
          "height": 126
        }
      },
      "source": [
        "from sklearn.linear_model import SGDClassifier   \n",
        "\n",
        "clf3 = SGDClassifier(random_state=42, max_iter=10) # if you want reproducible results set the random_state value.\n",
        "clf3.fit(X_train, y_train)"
      ],
      "execution_count": 0,
      "outputs": [
        {
          "output_type": "execute_result",
          "data": {
            "text/plain": [
              "SGDClassifier(alpha=0.0001, average=False, class_weight=None,\n",
              "              early_stopping=False, epsilon=0.1, eta0=0.0, fit_intercept=True,\n",
              "              l1_ratio=0.15, learning_rate='optimal', loss='hinge', max_iter=10,\n",
              "              n_iter_no_change=5, n_jobs=None, penalty='l2', power_t=0.5,\n",
              "              random_state=42, shuffle=True, tol=0.001, validation_fraction=0.1,\n",
              "              verbose=0, warm_start=False)"
            ]
          },
          "metadata": {
            "tags": []
          },
          "execution_count": 175
        }
      ]
    },
    {
      "cell_type": "code",
      "metadata": {
        "id": "W-edAPUqgDoX",
        "colab_type": "code",
        "colab": {}
      },
      "source": [
        "y_pred3=clf3.predict(X_test)"
      ],
      "execution_count": 0,
      "outputs": []
    },
    {
      "cell_type": "code",
      "metadata": {
        "id": "5xQolr7lhJvw",
        "colab_type": "code",
        "outputId": "8a13447b-e3cc-4d0e-81c8-71a0a42569a6",
        "colab": {
          "base_uri": "https://localhost:8080/",
          "height": 508
        }
      },
      "source": [
        "from sklearn.ensemble import RandomForestClassifier\n",
        "from sklearn.ensemble import VotingClassifier                 \n",
        "from sklearn.linear_model import LogisticRegression\n",
        "from sklearn.svm import SVC\n",
        "\n",
        "log_clf = LogisticRegression(random_state=42)\n",
        "rnd_clf = RandomForestClassifier(random_state=42)\n",
        "svm_clf = SVC(random_state=42)\n",
        "\n",
        "voting_clf4 = VotingClassifier(\n",
        "    estimators=[('lr', log_clf), ('rf', rnd_clf), ('svc', svm_clf)],\n",
        "    voting='hard')\n",
        "voting_clf4.fit(X_train, y_train)"
      ],
      "execution_count": 0,
      "outputs": [
        {
          "output_type": "execute_result",
          "data": {
            "text/plain": [
              "VotingClassifier(estimators=[('lr',\n",
              "                              LogisticRegression(C=1.0, class_weight=None,\n",
              "                                                 dual=False, fit_intercept=True,\n",
              "                                                 intercept_scaling=1,\n",
              "                                                 l1_ratio=None, max_iter=100,\n",
              "                                                 multi_class='auto',\n",
              "                                                 n_jobs=None, penalty='l2',\n",
              "                                                 random_state=42,\n",
              "                                                 solver='lbfgs', tol=0.0001,\n",
              "                                                 verbose=0, warm_start=False)),\n",
              "                             ('rf',\n",
              "                              RandomForestClassifier(bootstrap=True,\n",
              "                                                     ccp_alpha=0.0,\n",
              "                                                     class_weight=None,\n",
              "                                                     crit...\n",
              "                                                     oob_score=False,\n",
              "                                                     random_state=42, verbose=0,\n",
              "                                                     warm_start=False)),\n",
              "                             ('svc',\n",
              "                              SVC(C=1.0, break_ties=False, cache_size=200,\n",
              "                                  class_weight=None, coef0=0.0,\n",
              "                                  decision_function_shape='ovr', degree=3,\n",
              "                                  gamma='scale', kernel='rbf', max_iter=-1,\n",
              "                                  probability=False, random_state=42,\n",
              "                                  shrinking=True, tol=0.001, verbose=False))],\n",
              "                 flatten_transform=True, n_jobs=None, voting='hard',\n",
              "                 weights=None)"
            ]
          },
          "metadata": {
            "tags": []
          },
          "execution_count": 177
        }
      ]
    },
    {
      "cell_type": "code",
      "metadata": {
        "id": "YZ_4CcRChJ33",
        "colab_type": "code",
        "outputId": "26c3a939-df17-4310-c385-bc50dee42b11",
        "colab": {
          "base_uri": "https://localhost:8080/",
          "height": 90
        }
      },
      "source": [
        "from sklearn.metrics import accuracy_score\n",
        "\n",
        "for clf in (log_clf, rnd_clf, svm_clf, voting_clf4):\n",
        "    clf.fit(X_train, y_train)\n",
        "    y_pred4 = clf.predict(X_test)\n",
        "    print(clf.__class__.__name__, accuracy_score(y_test, y_pred4))"
      ],
      "execution_count": 0,
      "outputs": [
        {
          "output_type": "stream",
          "text": [
            "LogisticRegression 0.953059513830679\n",
            "RandomForestClassifier 0.9941324392288349\n",
            "SVC 0.9731768650461022\n",
            "VotingClassifier 0.9742246437552389\n"
          ],
          "name": "stdout"
        }
      ]
    },
    {
      "cell_type": "code",
      "metadata": {
        "id": "QPBRDMwIhJre",
        "colab_type": "code",
        "colab": {}
      },
      "source": [
        "from sklearn.ensemble import BaggingClassifier     \n",
        "from sklearn.ensemble import RandomForestClassifier\n",
        "\n",
        "bag_clf5 = BaggingClassifier( \n",
        "    RandomForestClassifier(), \n",
        "    n_estimators=500, \n",
        "    max_samples=300, \n",
        "    bootstrap=False, \n",
        "    n_jobs=-1\n",
        ")\n",
        "\n",
        "bag_clf5.fit(X_train, y_train)\n",
        "y_pred5 = bag_clf5.predict(X_test)"
      ],
      "execution_count": 0,
      "outputs": []
    },
    {
      "cell_type": "code",
      "metadata": {
        "id": "u9T-jMCSjAjM",
        "colab_type": "code",
        "colab": {}
      },
      "source": [
        " from sklearn.ensemble import ExtraTreesClassifier   \n",
        "\n",
        "clf6 = ExtraTreesClassifier(n_estimators=195, max_leaf_nodes=16, n_jobs=-1, random_state=42)\n",
        "clf6.fit(X_train, y_train)\n",
        "y_pred6 = clf6.predict(X_test)"
      ],
      "execution_count": 0,
      "outputs": []
    },
    {
      "cell_type": "code",
      "metadata": {
        "id": "SJOKMGk1jAeN",
        "colab_type": "code",
        "colab": {}
      },
      "source": [
        "from sklearn.ensemble import AdaBoostClassifier   \n",
        "\n",
        "clf7 = AdaBoostClassifier(\n",
        "    RandomForestClassifier(max_depth=1), n_estimators=200,\n",
        "    algorithm=\"SAMME.R\", learning_rate=0.5, random_state=42)\n",
        "clf7.fit(X_train, y_train)\n",
        "y_pred7 = clf7.predict(X_test)"
      ],
      "execution_count": 0,
      "outputs": []
    },
    {
      "cell_type": "code",
      "metadata": {
        "id": "-vJNAZ2LjAZ1",
        "colab_type": "code",
        "colab": {}
      },
      "source": [
        "from xgboost import XGBClassifier  \n",
        "clf8 = XGBClassifier()\n",
        "clf8.fit(X_train, y_train)\n",
        "y_pred8 = clf8.predict(X_test)"
      ],
      "execution_count": 0,
      "outputs": []
    },
    {
      "cell_type": "code",
      "metadata": {
        "id": "eJC1RCC_gDkT",
        "colab_type": "code",
        "colab": {
          "base_uri": "https://localhost:8080/",
          "height": 345
        },
        "outputId": "b4c34734-833a-4ce0-a7a4-0add1498e168"
      },
      "source": [
        "from xgboost import XGBClassifier  \n",
        "from sklearn.model_selection import GridSearchCV  \n",
        "\n",
        "param_grid = [\n",
        "    {'learning_rate': [0.1, 0.3], \n",
        "     'min_child_weight': [0.5, 2], 'gamma': [0, 0.2], 'max_delta_step': [0], 'subsample': [1], 'colsample_bytree': [1], 'colsample_bylevel':[1], 'scale_pos_weight': [1]},]\n",
        "\n",
        "xgbc_grid = XGBClassifier()\n",
        "grid_search9 = GridSearchCV(xgbc_grid, param_grid, cv=5,\n",
        "                           scoring='neg_mean_squared_error')\n",
        "grid_search9.fit(X_train, y_train)"
      ],
      "execution_count": 183,
      "outputs": [
        {
          "output_type": "execute_result",
          "data": {
            "text/plain": [
              "GridSearchCV(cv=5, error_score=nan,\n",
              "             estimator=XGBClassifier(base_score=0.5, booster='gbtree',\n",
              "                                     colsample_bylevel=1, colsample_bynode=1,\n",
              "                                     colsample_bytree=1, gamma=0,\n",
              "                                     learning_rate=0.1, max_delta_step=0,\n",
              "                                     max_depth=3, min_child_weight=1,\n",
              "                                     missing=None, n_estimators=100, n_jobs=1,\n",
              "                                     nthread=None, objective='binary:logistic',\n",
              "                                     random_state=0, reg_alpha=0, reg_lambda=1,\n",
              "                                     scale_po...e,\n",
              "                                     subsample=1, verbosity=1),\n",
              "             iid='deprecated', n_jobs=None,\n",
              "             param_grid=[{'colsample_bylevel': [1], 'colsample_bytree': [1],\n",
              "                          'gamma': [0, 0.2], 'learning_rate': [0.1, 0.3],\n",
              "                          'max_delta_step': [0], 'min_child_weight': [0.5, 2],\n",
              "                          'scale_pos_weight': [1], 'subsample': [1]}],\n",
              "             pre_dispatch='2*n_jobs', refit=True, return_train_score=False,\n",
              "             scoring='neg_mean_squared_error', verbose=0)"
            ]
          },
          "metadata": {
            "tags": []
          },
          "execution_count": 183
        }
      ]
    },
    {
      "cell_type": "code",
      "metadata": {
        "id": "gNX2h5vbgDgQ",
        "colab_type": "code",
        "colab": {}
      },
      "source": [
        "y_pred9 = grid_search9.predict(X_test)"
      ],
      "execution_count": 0,
      "outputs": []
    },
    {
      "cell_type": "code",
      "metadata": {
        "id": "a8y0CWvBgDaK",
        "colab_type": "code",
        "colab": {}
      },
      "source": [
        "# 7. Performance measures and check which model is giving highest score.We will use following performance measures:\n",
        "# 1. Confusion matrix\n",
        "# 2. Precision, Recall, Accuracy score\n",
        "# 3. Roc curves"
      ],
      "execution_count": 0,
      "outputs": []
    },
    {
      "cell_type": "code",
      "metadata": {
        "id": "jE28ZElkZCgR",
        "colab_type": "code",
        "colab": {}
      },
      "source": [
        "from sklearn import metrics\n",
        "from sklearn.metrics import f1_score"
      ],
      "execution_count": 0,
      "outputs": []
    },
    {
      "cell_type": "code",
      "metadata": {
        "id": "u_HezfSUWhBE",
        "colab_type": "code",
        "outputId": "0ade471e-9e5f-4197-ba6d-b148e616e950",
        "colab": {
          "base_uri": "https://localhost:8080/",
          "height": 54
        }
      },
      "source": [
        "cnf_matrix1=metrics.confusion_matrix(y_test, y_pred1)\n",
        "cnf_matrix1"
      ],
      "execution_count": 188,
      "outputs": [
        {
          "output_type": "execute_result",
          "data": {
            "text/plain": [
              "array([[  32,  203],\n",
              "       [  21, 4516]])"
            ]
          },
          "metadata": {
            "tags": []
          },
          "execution_count": 188
        }
      ]
    },
    {
      "cell_type": "code",
      "metadata": {
        "id": "TZdggm1EeboL",
        "colab_type": "code",
        "outputId": "02720006-bc43-4a68-c223-ecfb3ee0e303",
        "colab": {
          "base_uri": "https://localhost:8080/",
          "height": 54
        }
      },
      "source": [
        "cnf_matrix2=metrics.confusion_matrix(y_test, y_pred2)\n",
        "cnf_matrix2"
      ],
      "execution_count": 189,
      "outputs": [
        {
          "output_type": "execute_result",
          "data": {
            "text/plain": [
              "array([[ 211,   24],\n",
              "       [   4, 4533]])"
            ]
          },
          "metadata": {
            "tags": []
          },
          "execution_count": 189
        }
      ]
    },
    {
      "cell_type": "code",
      "metadata": {
        "id": "xUTDvs9Hga3F",
        "colab_type": "code",
        "outputId": "072babba-4cc0-4314-9dbb-cdf5d5dfdbd5",
        "colab": {
          "base_uri": "https://localhost:8080/",
          "height": 54
        }
      },
      "source": [
        "cnf_matrix3=metrics.confusion_matrix(y_test, y_pred3)\n",
        "cnf_matrix3"
      ],
      "execution_count": 190,
      "outputs": [
        {
          "output_type": "execute_result",
          "data": {
            "text/plain": [
              "array([[  13,  222],\n",
              "       [  18, 4519]])"
            ]
          },
          "metadata": {
            "tags": []
          },
          "execution_count": 190
        }
      ]
    },
    {
      "cell_type": "code",
      "metadata": {
        "id": "pDusC8mUiX3h",
        "colab_type": "code",
        "outputId": "dd2f0c9e-a86c-4c7a-baa6-b7fe99786b41",
        "colab": {
          "base_uri": "https://localhost:8080/",
          "height": 54
        }
      },
      "source": [
        "cnf_matrix4=metrics.confusion_matrix(y_test, y_pred4)\n",
        "cnf_matrix4"
      ],
      "execution_count": 191,
      "outputs": [
        {
          "output_type": "execute_result",
          "data": {
            "text/plain": [
              "array([[ 116,  119],\n",
              "       [   4, 4533]])"
            ]
          },
          "metadata": {
            "tags": []
          },
          "execution_count": 191
        }
      ]
    },
    {
      "cell_type": "code",
      "metadata": {
        "id": "65uPYYfGkVoU",
        "colab_type": "code",
        "outputId": "960645ca-80d5-4b79-cac0-f6fdeac86a37",
        "colab": {
          "base_uri": "https://localhost:8080/",
          "height": 54
        }
      },
      "source": [
        "cnf_matrix5=metrics.confusion_matrix(y_test, y_pred5)\n",
        "cnf_matrix5"
      ],
      "execution_count": 192,
      "outputs": [
        {
          "output_type": "execute_result",
          "data": {
            "text/plain": [
              "array([[   7,  228],\n",
              "       [   0, 4537]])"
            ]
          },
          "metadata": {
            "tags": []
          },
          "execution_count": 192
        }
      ]
    },
    {
      "cell_type": "code",
      "metadata": {
        "id": "pP_oxoqGkVlG",
        "colab_type": "code",
        "outputId": "6628170c-9c77-4e38-d6f6-d4d5e4d8d4e1",
        "colab": {
          "base_uri": "https://localhost:8080/",
          "height": 54
        }
      },
      "source": [
        "cnf_matrix6=metrics.confusion_matrix(y_test, y_pred6)\n",
        "cnf_matrix6"
      ],
      "execution_count": 193,
      "outputs": [
        {
          "output_type": "execute_result",
          "data": {
            "text/plain": [
              "array([[   0,  235],\n",
              "       [   0, 4537]])"
            ]
          },
          "metadata": {
            "tags": []
          },
          "execution_count": 193
        }
      ]
    },
    {
      "cell_type": "code",
      "metadata": {
        "id": "SisGsbP5loe2",
        "colab_type": "code",
        "outputId": "e9dfebe7-348a-4b2a-b224-a8911a5fc0d7",
        "colab": {
          "base_uri": "https://localhost:8080/",
          "height": 54
        }
      },
      "source": [
        "cnf_matrix7=metrics.confusion_matrix(y_test, y_pred7)\n",
        "cnf_matrix7"
      ],
      "execution_count": 194,
      "outputs": [
        {
          "output_type": "execute_result",
          "data": {
            "text/plain": [
              "array([[ 203,   32],\n",
              "       [   5, 4532]])"
            ]
          },
          "metadata": {
            "tags": []
          },
          "execution_count": 194
        }
      ]
    },
    {
      "cell_type": "code",
      "metadata": {
        "id": "Yy3MByvdloZR",
        "colab_type": "code",
        "outputId": "8c70691e-9370-48b1-b9bd-25d78f899626",
        "colab": {
          "base_uri": "https://localhost:8080/",
          "height": 54
        }
      },
      "source": [
        "cnf_matrix8=metrics.confusion_matrix(y_test, y_pred8)\n",
        "cnf_matrix8"
      ],
      "execution_count": 195,
      "outputs": [
        {
          "output_type": "execute_result",
          "data": {
            "text/plain": [
              "array([[ 232,    3],\n",
              "       [   2, 4535]])"
            ]
          },
          "metadata": {
            "tags": []
          },
          "execution_count": 195
        }
      ]
    },
    {
      "cell_type": "code",
      "metadata": {
        "id": "I4YT9obgoGlG",
        "colab_type": "code",
        "outputId": "d32af350-e9e4-4758-f23c-3f015cadac7f",
        "colab": {
          "base_uri": "https://localhost:8080/",
          "height": 54
        }
      },
      "source": [
        "cnf_matrix9=metrics.confusion_matrix(y_test, y_pred9)\n",
        "cnf_matrix9"
      ],
      "execution_count": 196,
      "outputs": [
        {
          "output_type": "execute_result",
          "data": {
            "text/plain": [
              "array([[ 235,    0],\n",
              "       [   1, 4536]])"
            ]
          },
          "metadata": {
            "tags": []
          },
          "execution_count": 196
        }
      ]
    },
    {
      "cell_type": "code",
      "metadata": {
        "id": "X3ak5RiPWhHy",
        "colab_type": "code",
        "outputId": "1802dec1-c317-40e7-a026-80f91f7230ed",
        "colab": {
          "base_uri": "https://localhost:8080/",
          "height": 313
        }
      },
      "source": [
        "# Visulaization of confusion matrix for XGB Classfier with grid serach\n",
        "class_names=[0,1]\n",
        "fig, ax = plt.subplots()\n",
        "tick_marks=np.arange(len(class_names))\n",
        "plt.xticks(tick_marks, class_names)\n",
        "plt.yticks(tick_marks, class_names)\n",
        "\n",
        "### create heatmap\n",
        "\n",
        "sns.heatmap(pd.DataFrame(cnf_matrix9), annot=True, cmap='PuBu')\n",
        "ax.xaxis.set_label_position(\"bottom\")\n",
        "plt.title('Confusion matrix')\n",
        "plt.ylabel('Actual label')\n",
        "plt.xlabel('Predicted label')"
      ],
      "execution_count": 197,
      "outputs": [
        {
          "output_type": "execute_result",
          "data": {
            "text/plain": [
              "Text(0.5, 15.0, 'Predicted label')"
            ]
          },
          "metadata": {
            "tags": []
          },
          "execution_count": 197
        },
        {
          "output_type": "display_data",
          "data": {
            "image/png": "[encoded data removed]",
            "text/plain": [
              "<Figure size 432x288 with 2 Axes>"
            ]
          },
          "metadata": {
            "tags": [],
            "needs_background": "light"
          }
        }
      ]
    },
    {
      "cell_type": "code",
      "metadata": {
        "id": "CELt9lPDVtEy",
        "colab_type": "code",
        "colab": {}
      },
      "source": [
        "# It's color intensity shows its accuracy level plus its values are also shown on diagnols \n",
        "# On pink diagnol, the values (0 & 1) are wrongly predicted values, and on other diagnol values( 4536,235) are correctly predicted.\n",
        "# This result shows that model is pretty good"
      ],
      "execution_count": 0,
      "outputs": []
    },
    {
      "cell_type": "code",
      "metadata": {
        "id": "xifwmgx6WhVr",
        "colab_type": "code",
        "outputId": "9f88f53a-e308-4fe9-8fac-3a0764fb2688",
        "colab": {
          "base_uri": "https://localhost:8080/",
          "height": 90
        }
      },
      "source": [
        "print(\"Accuracy:\",metrics.accuracy_score(y_test, y_pred1))\n",
        "print(\"Precision:\",metrics.precision_score(y_test, y_pred1))\n",
        "print(\"Recall:\",metrics.recall_score(y_test, y_pred1))\n",
        "print(\"f1 score:\",metrics.f1_score(y_test, y_pred1))"
      ],
      "execution_count": 199,
      "outputs": [
        {
          "output_type": "stream",
          "text": [
            "Accuracy: 0.953059513830679\n",
            "Precision: 0.9569824115278661\n",
            "Recall: 0.9953713907868635\n",
            "f1 score: 0.9757994814174589\n"
          ],
          "name": "stdout"
        }
      ]
    },
    {
      "cell_type": "code",
      "metadata": {
        "id": "nahE2IGuepxK",
        "colab_type": "code",
        "outputId": "df5cdc47-c579-431d-eed2-14db5d0398bd",
        "colab": {
          "base_uri": "https://localhost:8080/",
          "height": 90
        }
      },
      "source": [
        "print(\"Accuracy:\",metrics.accuracy_score(y_test, y_pred2))\n",
        "print(\"Precision:\",metrics.precision_score(y_test, y_pred2))\n",
        "print(\"Recall:\",metrics.recall_score(y_test, y_pred2))\n",
        "print(\"f1 score:\",metrics.f1_score(y_test, y_pred2))"
      ],
      "execution_count": 200,
      "outputs": [
        {
          "output_type": "stream",
          "text": [
            "Accuracy: 0.9941324392288349\n",
            "Precision: 0.9947333772218565\n",
            "Recall: 0.9991183601498788\n",
            "f1 score: 0.996921046844073\n"
          ],
          "name": "stdout"
        }
      ]
    },
    {
      "cell_type": "code",
      "metadata": {
        "id": "VhofU3Ozgf6P",
        "colab_type": "code",
        "outputId": "5a740b61-52c3-4755-cb25-0ce255e1ad95",
        "colab": {
          "base_uri": "https://localhost:8080/",
          "height": 90
        }
      },
      "source": [
        "print(\"Accuracy:\",metrics.accuracy_score(y_test, y_pred3))\n",
        "print(\"Precision:\",metrics.precision_score(y_test, y_pred3))\n",
        "print(\"Recall:\",metrics.recall_score(y_test, y_pred3))\n",
        "print(\"f1 score:\",metrics.f1_score(y_test, y_pred3))"
      ],
      "execution_count": 201,
      "outputs": [
        {
          "output_type": "stream",
          "text": [
            "Accuracy: 0.9497066219614417\n",
            "Precision: 0.9531744357730436\n",
            "Recall: 0.9960326206744545\n",
            "f1 score: 0.9741323561112308\n"
          ],
          "name": "stdout"
        }
      ]
    },
    {
      "cell_type": "code",
      "metadata": {
        "id": "XuQYsr51idiJ",
        "colab_type": "code",
        "outputId": "a6626c2f-78ec-4f35-e700-c3013db3724d",
        "colab": {
          "base_uri": "https://localhost:8080/",
          "height": 90
        }
      },
      "source": [
        "print(\"Accuracy:\",metrics.accuracy_score(y_test, y_pred4))\n",
        "print(\"Precision:\",metrics.precision_score(y_test, y_pred4))\n",
        "print(\"Recall:\",metrics.recall_score(y_test, y_pred4))\n",
        "print(\"f1 score:\",metrics.f1_score(y_test, y_pred4))"
      ],
      "execution_count": 202,
      "outputs": [
        {
          "output_type": "stream",
          "text": [
            "Accuracy: 0.9742246437552389\n",
            "Precision: 0.9744196044711951\n",
            "Recall: 0.9991183601498788\n",
            "f1 score: 0.9866144302970943\n"
          ],
          "name": "stdout"
        }
      ]
    },
    {
      "cell_type": "code",
      "metadata": {
        "id": "Er-pCHglW_K4",
        "colab_type": "code",
        "outputId": "2b68542b-a43a-4c4c-a4da-e72c5d1f39da",
        "colab": {
          "base_uri": "https://localhost:8080/",
          "height": 90
        }
      },
      "source": [
        "print(\"Accuracy:\",metrics.accuracy_score(y_test, y_pred5))\n",
        "print(\"Precision:\",metrics.precision_score(y_test, y_pred5))\n",
        "print(\"Recall:\",metrics.recall_score(y_test, y_pred5))\n",
        "print(\"f1 score:\",metrics.f1_score(y_test, y_pred5))"
      ],
      "execution_count": 203,
      "outputs": [
        {
          "output_type": "stream",
          "text": [
            "Accuracy: 0.9522212908633697\n",
            "Precision: 0.9521511017838405\n",
            "Recall: 1.0\n",
            "f1 score: 0.9754891421199742\n"
          ],
          "name": "stdout"
        }
      ]
    },
    {
      "cell_type": "code",
      "metadata": {
        "id": "PNp7cyQoltaF",
        "colab_type": "code",
        "outputId": "23a403a8-fe77-4315-acd4-36d8f90d2239",
        "colab": {
          "base_uri": "https://localhost:8080/",
          "height": 90
        }
      },
      "source": [
        "print(\"Accuracy:\",metrics.accuracy_score(y_test, y_pred6))\n",
        "print(\"Precision:\",metrics.precision_score(y_test, y_pred6))\n",
        "print(\"Recall:\",metrics.recall_score(y_test, y_pred6))\n",
        "print(\"f1 score:\",metrics.f1_score(y_test, y_pred6))"
      ],
      "execution_count": 204,
      "outputs": [
        {
          "output_type": "stream",
          "text": [
            "Accuracy: 0.9507544006705784\n",
            "Precision: 0.9507544006705784\n",
            "Recall: 1.0\n",
            "f1 score: 0.9747556128477817\n"
          ],
          "name": "stdout"
        }
      ]
    },
    {
      "cell_type": "code",
      "metadata": {
        "id": "6Kxl1do7nRc7",
        "colab_type": "code",
        "outputId": "ec2c0e0c-b4a5-478f-af04-1e4ac3b53de5",
        "colab": {
          "base_uri": "https://localhost:8080/",
          "height": 90
        }
      },
      "source": [
        "print(\"Accuracy:\",metrics.accuracy_score(y_test, y_pred7))\n",
        "print(\"Precision:\",metrics.precision_score(y_test, y_pred7))\n",
        "print(\"Recall:\",metrics.recall_score(y_test, y_pred7))\n",
        "print(\"f1 score:\",metrics.f1_score(y_test, y_pred7))"
      ],
      "execution_count": 205,
      "outputs": [
        {
          "output_type": "stream",
          "text": [
            "Accuracy: 0.992246437552389\n",
            "Precision: 0.992988606485539\n",
            "Recall: 0.9988979501873485\n",
            "f1 score: 0.9959345126909132\n"
          ],
          "name": "stdout"
        }
      ]
    },
    {
      "cell_type": "code",
      "metadata": {
        "id": "LXSDKzx3nRXO",
        "colab_type": "code",
        "outputId": "7a43457f-87a9-47f7-d520-546790c344e5",
        "colab": {
          "base_uri": "https://localhost:8080/",
          "height": 90
        }
      },
      "source": [
        "print(\"Accuracy:\",metrics.accuracy_score(y_test, y_pred8))\n",
        "print(\"Precision:\",metrics.precision_score(y_test, y_pred8))\n",
        "print(\"Recall:\",metrics.recall_score(y_test, y_pred8))\n",
        "print(\"f1 score:\",metrics.f1_score(y_test, y_pred8))"
      ],
      "execution_count": 206,
      "outputs": [
        {
          "output_type": "stream",
          "text": [
            "Accuracy: 0.9989522212908634\n",
            "Precision: 0.999338915821948\n",
            "Recall: 0.9995591800749394\n",
            "f1 score: 0.9994490358126722\n"
          ],
          "name": "stdout"
        }
      ]
    },
    {
      "cell_type": "code",
      "metadata": {
        "id": "R5j2MpMGnRTM",
        "colab_type": "code",
        "outputId": "d20df48c-5ffd-4cf5-8c96-173583e670f6",
        "colab": {
          "base_uri": "https://localhost:8080/",
          "height": 90
        }
      },
      "source": [
        "print(\"Accuracy:\",metrics.accuracy_score(y_test, y_pred9))\n",
        "print(\"Precision:\",metrics.precision_score(y_test, y_pred9))\n",
        "print(\"Recall:\",metrics.recall_score(y_test, y_pred9))\n",
        "print(\"f1 score:\",metrics.f1_score(y_test, y_pred9))"
      ],
      "execution_count": 207,
      "outputs": [
        {
          "output_type": "stream",
          "text": [
            "Accuracy: 0.9997904442581727\n",
            "Precision: 1.0\n",
            "Recall: 0.9997795900374697\n",
            "f1 score: 0.9998897828722584\n"
          ],
          "name": "stdout"
        }
      ]
    },
    {
      "cell_type": "code",
      "metadata": {
        "id": "f0vlPDJ6nRKa",
        "colab_type": "code",
        "colab": {}
      },
      "source": [
        "# The above measures are for all models\n",
        "# Since for the problem statement in hackathon performance evaluation will be based on recall_score so if we compare recall scores in all models above, The three models whose recall score are highest are as below:\n",
        "# 1. Bagging classfier\n",
        "# 2. Extra Tree classifier\n",
        "# 3. XGB classifier (with hyperparameter tunuing) \n",
        "# Lets see further, how it works on test dataset only then we can decide which is better"
      ],
      "execution_count": 0,
      "outputs": []
    },
    {
      "cell_type": "code",
      "metadata": {
        "id": "tMgFrud8Xhcz",
        "colab_type": "code",
        "colab": {}
      },
      "source": [
        "# Let plot ROC curves for these three classfiers to compare"
      ],
      "execution_count": 0,
      "outputs": []
    },
    {
      "cell_type": "code",
      "metadata": {
        "id": "Nys1TJhskco0",
        "colab_type": "code",
        "outputId": "9e22dfd2-a307-46a8-dde0-c5955d806b5d",
        "colab": {
          "base_uri": "https://localhost:8080/",
          "height": 265
        }
      },
      "source": [
        "pred_test_proba = bag_clf5.predict_proba(X_test)[::,1]\n",
        "fpr, tpr, _  = metrics.roc_curve(y_test,  pred_test_proba)\n",
        "auc = metrics.roc_auc_score(y_test, pred_test_proba)\n",
        "plt.plot(fpr, tpr, label=\"df , auc=\"+str(auc))\n",
        "plt.legend(loc=4)\n",
        "plt.show()"
      ],
      "execution_count": 210,
      "outputs": [
        {
          "output_type": "display_data",
          "data": {
            "image/png": "[encoded data removed]",
            "text/plain": [
              "<Figure size 432x288 with 1 Axes>"
            ]
          },
          "metadata": {
            "tags": [],
            "needs_background": "light"
          }
        }
      ]
    },
    {
      "cell_type": "code",
      "metadata": {
        "id": "iVz3Na2Rly7Q",
        "colab_type": "code",
        "outputId": "4b4070f1-d756-4d7f-dccf-d46aaf7ce19f",
        "colab": {
          "base_uri": "https://localhost:8080/",
          "height": 265
        }
      },
      "source": [
        "pred_test_proba = clf6.predict_proba(X_test)[::,1]\n",
        "fpr, tpr, _  = metrics.roc_curve(y_test,  pred_test_proba)\n",
        "auc = metrics.roc_auc_score(y_test, pred_test_proba)\n",
        "plt.plot(fpr, tpr, label=\"df , auc=\"+str(auc))\n",
        "plt.legend(loc=4)\n",
        "plt.show()"
      ],
      "execution_count": 211,
      "outputs": [
        {
          "output_type": "display_data",
          "data": {
            "image/png": "[encoded data removed]",
            "text/plain": [
              "<Figure size 432x288 with 1 Axes>"
            ]
          },
          "metadata": {
            "tags": [],
            "needs_background": "light"
          }
        }
      ]
    },
    {
      "cell_type": "code",
      "metadata": {
        "id": "lUyMNkzknYZF",
        "colab_type": "code",
        "outputId": "5fe95954-9864-457e-a10a-3a783486f27c",
        "colab": {
          "base_uri": "https://localhost:8080/",
          "height": 265
        }
      },
      "source": [
        "pred_test_proba = grid_search9.predict_proba(X_test)[::,1]\n",
        "fpr, tpr, _  = metrics.roc_curve(y_test,  pred_test_proba)\n",
        "auc = metrics.roc_auc_score(y_test, pred_test_proba)\n",
        "plt.plot(fpr, tpr, label=\"df , auc=\"+str(auc))\n",
        "plt.legend(loc=4)\n",
        "plt.show()"
      ],
      "execution_count": 212,
      "outputs": [
        {
          "output_type": "display_data",
          "data": {
            "image/png": "[encoded data removed]",
            "text/plain": [
              "<Figure size 432x288 with 1 Axes>"
            ]
          },
          "metadata": {
            "tags": [],
            "needs_background": "light"
          }
        }
      ]
    },
    {
      "cell_type": "code",
      "metadata": {
        "id": "gc60y64RnYUU",
        "colab_type": "code",
        "colab": {}
      },
      "source": [
        "# As we can see out of three classifier which we have chosen based on recall scores, XBG Classifer perform best on ROC curve which is great performance measure in classification cases.In XGB case, it is giving maximum area unde cirve(auc) score.\n",
        "# So we are considering XGBOOST CLASSFIER ALONG WITH GRID SEARCH(HYPERPARAMETER TUNING) to make predictions on test data"
      ],
      "execution_count": 0,
      "outputs": []
    },
    {
      "cell_type": "code",
      "metadata": {
        "id": "E3al6NRpnYQM",
        "colab_type": "code",
        "colab": {}
      },
      "source": [
        "# 8. Making predictions on given test data and converted into required submission file (csv format)"
      ],
      "execution_count": 0,
      "outputs": []
    },
    {
      "cell_type": "code",
      "metadata": {
        "id": "y7DS3zr8Wh3A",
        "colab_type": "code",
        "outputId": "3a9e632a-f40d-487c-aa70-a424a1857df5",
        "colab": {
          "base_uri": "https://localhost:8080/",
          "height": 72
        }
      },
      "source": [
        "df2.columns  # test data"
      ],
      "execution_count": 216,
      "outputs": [
        {
          "output_type": "execute_result",
          "data": {
            "text/plain": [
              "Index(['INCIDENT_ID', 'DATE', 'X_1', 'X_2', 'X_3', 'X_4', 'X_5', 'X_6', 'X_7',\n",
              "       'X_8', 'X_9', 'X_10', 'X_11', 'X_12', 'X_13', 'X_14', 'X_15'],\n",
              "      dtype='object')"
            ]
          },
          "metadata": {
            "tags": []
          },
          "execution_count": 216
        }
      ]
    },
    {
      "cell_type": "code",
      "metadata": {
        "id": "zMLHjdVgWg7w",
        "colab_type": "code",
        "outputId": "5fcda786-fd33-4fcc-c156-46f0675f7b72",
        "colab": {
          "base_uri": "https://localhost:8080/",
          "height": 345
        }
      },
      "source": [
        "df2.isnull().sum()  # checking missing values in test data because machine learning does not work on ata having missing or nan values present in it."
      ],
      "execution_count": 217,
      "outputs": [
        {
          "output_type": "execute_result",
          "data": {
            "text/plain": [
              "INCIDENT_ID    0\n",
              "DATE           0\n",
              "X_1            0\n",
              "X_2            0\n",
              "X_3            0\n",
              "X_4            0\n",
              "X_5            0\n",
              "X_6            0\n",
              "X_7            0\n",
              "X_8            0\n",
              "X_9            0\n",
              "X_10           0\n",
              "X_11           0\n",
              "X_12           0\n",
              "X_13           0\n",
              "X_14           0\n",
              "X_15           0\n",
              "dtype: int64"
            ]
          },
          "metadata": {
            "tags": []
          },
          "execution_count": 217
        }
      ]
    },
    {
      "cell_type": "code",
      "metadata": {
        "id": "zxXF9QuiZCdT",
        "colab_type": "code",
        "colab": {}
      },
      "source": [
        "df2['X_12']=df2['X_12'].fillna(df2['X_12'].median())"
      ],
      "execution_count": 0,
      "outputs": []
    },
    {
      "cell_type": "code",
      "metadata": {
        "id": "d3ddvy_xuL4v",
        "colab_type": "code",
        "outputId": "2631c591-6ba1-464a-fd60-ed422b8de126",
        "colab": {
          "base_uri": "https://localhost:8080/",
          "height": 72
        }
      },
      "source": [
        "df2.columns"
      ],
      "execution_count": 219,
      "outputs": [
        {
          "output_type": "execute_result",
          "data": {
            "text/plain": [
              "Index(['INCIDENT_ID', 'DATE', 'X_1', 'X_2', 'X_3', 'X_4', 'X_5', 'X_6', 'X_7',\n",
              "       'X_8', 'X_9', 'X_10', 'X_11', 'X_12', 'X_13', 'X_14', 'X_15'],\n",
              "      dtype='object')"
            ]
          },
          "metadata": {
            "tags": []
          },
          "execution_count": 219
        }
      ]
    },
    {
      "cell_type": "code",
      "metadata": {
        "id": "Q7QLMUYBXxTp",
        "colab_type": "code",
        "colab": {}
      },
      "source": [
        "X2=df2.drop(['INCIDENT_ID','DATE','X_4','X_14'],1)"
      ],
      "execution_count": 0,
      "outputs": []
    },
    {
      "cell_type": "code",
      "metadata": {
        "id": "7yTNZrzcXxb9",
        "colab_type": "code",
        "colab": {}
      },
      "source": [
        "# Standardization of test data \n",
        "scaler.fit(X2)  \n",
        "Z=scaler.transform(X2)"
      ],
      "execution_count": 0,
      "outputs": []
    },
    {
      "cell_type": "code",
      "metadata": {
        "id": "_6vDR6QppOUh",
        "colab_type": "code",
        "colab": {}
      },
      "source": [
        "# making predictions on test data using finalized model i.e. XGBOOST CLASSIFIER WITH HYPERPARAMETER TUNED\n",
        "predictions=model.predict(Z)"
      ],
      "execution_count": 0,
      "outputs": []
    },
    {
      "cell_type": "code",
      "metadata": {
        "id": "Wk2ijpagkrca",
        "colab_type": "code",
        "colab": {}
      },
      "source": [
        "# Making submission file as per requirement"
      ],
      "execution_count": 0,
      "outputs": []
    },
    {
      "cell_type": "code",
      "metadata": {
        "id": "WlfuNWl9XyZA",
        "colab_type": "code",
        "colab": {}
      },
      "source": [
        "sub=df2['INCIDENT_ID'].to_frame()"
      ],
      "execution_count": 0,
      "outputs": []
    },
    {
      "cell_type": "code",
      "metadata": {
        "id": "p1Wg88skZCPW",
        "colab_type": "code",
        "colab": {}
      },
      "source": [
        "sub['MULTIPLE_OFFENSE']=predictions"
      ],
      "execution_count": 0,
      "outputs": []
    },
    {
      "cell_type": "code",
      "metadata": {
        "id": "qwGPYX72ZCJt",
        "colab_type": "code",
        "outputId": "3fb8777a-ca7b-4cb3-e17c-c864f626bb67",
        "colab": {
          "base_uri": "https://localhost:8080/",
          "height": 35
        }
      },
      "source": [
        "sub.columns"
      ],
      "execution_count": 226,
      "outputs": [
        {
          "output_type": "execute_result",
          "data": {
            "text/plain": [
              "Index(['INCIDENT_ID', 'MULTIPLE_OFFENSE'], dtype='object')"
            ]
          },
          "metadata": {
            "tags": []
          },
          "execution_count": 226
        }
      ]
    },
    {
      "cell_type": "code",
      "metadata": {
        "id": "B9JStfzPZCEA",
        "colab_type": "code",
        "outputId": "62709fcc-e9a4-4973-bc52-94a2fa046e61",
        "colab": {
          "base_uri": "https://localhost:8080/",
          "height": 35
        }
      },
      "source": [
        "sub.shape"
      ],
      "execution_count": 227,
      "outputs": [
        {
          "output_type": "execute_result",
          "data": {
            "text/plain": [
              "(15903, 2)"
            ]
          },
          "metadata": {
            "tags": []
          },
          "execution_count": 227
        }
      ]
    },
    {
      "cell_type": "code",
      "metadata": {
        "id": "3DIx_mSYZB98",
        "colab_type": "code",
        "outputId": "5fad790c-c6d4-4c19-cec3-b1f7e4aa6315",
        "colab": {
          "base_uri": "https://localhost:8080/",
          "height": 198
        }
      },
      "source": [
        "sub.head()"
      ],
      "execution_count": 228,
      "outputs": [
        {
          "output_type": "execute_result",
          "data": {
            "text/html": [
              "<div>\n",
              "<style scoped>\n",
              "    .dataframe tbody tr th:only-of-type {\n",
              "        vertical-align: middle;\n",
              "    }\n",
              "\n",
              "    .dataframe tbody tr th {\n",
              "        vertical-align: top;\n",
              "    }\n",
              "\n",
              "    .dataframe thead th {\n",
              "        text-align: right;\n",
              "    }\n",
              "</style>\n",
              "<table border=\"1\" class=\"dataframe\">\n",
              "  <thead>\n",
              "    <tr style=\"text-align: right;\">\n",
              "      <th></th>\n",
              "      <th>INCIDENT_ID</th>\n",
              "      <th>MULTIPLE_OFFENSE</th>\n",
              "    </tr>\n",
              "  </thead>\n",
              "  <tbody>\n",
              "    <tr>\n",
              "      <th>0</th>\n",
              "      <td>CR_195453</td>\n",
              "      <td>1</td>\n",
              "    </tr>\n",
              "    <tr>\n",
              "      <th>1</th>\n",
              "      <td>CR_103520</td>\n",
              "      <td>1</td>\n",
              "    </tr>\n",
              "    <tr>\n",
              "      <th>2</th>\n",
              "      <td>CR_196089</td>\n",
              "      <td>1</td>\n",
              "    </tr>\n",
              "    <tr>\n",
              "      <th>3</th>\n",
              "      <td>CR_112195</td>\n",
              "      <td>1</td>\n",
              "    </tr>\n",
              "    <tr>\n",
              "      <th>4</th>\n",
              "      <td>CR_149832</td>\n",
              "      <td>1</td>\n",
              "    </tr>\n",
              "  </tbody>\n",
              "</table>\n",
              "</div>"
            ],
            "text/plain": [
              "  INCIDENT_ID  MULTIPLE_OFFENSE\n",
              "0   CR_195453                 1\n",
              "1   CR_103520                 1\n",
              "2   CR_196089                 1\n",
              "3   CR_112195                 1\n",
              "4   CR_149832                 1"
            ]
          },
          "metadata": {
            "tags": []
          },
          "execution_count": 228
        }
      ]
    },
    {
      "cell_type": "code",
      "metadata": {
        "id": "sNXcQRBORO5Y",
        "colab_type": "code",
        "outputId": "a4fb2110-56fd-41c1-c7a5-14d3a08523ec",
        "colab": {
          "base_uri": "https://localhost:8080/",
          "height": 72
        }
      },
      "source": [
        "sub.isnull().sum()   # checking for null values in final submission file"
      ],
      "execution_count": 229,
      "outputs": [
        {
          "output_type": "execute_result",
          "data": {
            "text/plain": [
              "INCIDENT_ID         0\n",
              "MULTIPLE_OFFENSE    0\n",
              "dtype: int64"
            ]
          },
          "metadata": {
            "tags": []
          },
          "execution_count": 229
        }
      ]
    },
    {
      "cell_type": "code",
      "metadata": {
        "id": "_Gy8Rk4_cbqy",
        "colab_type": "code",
        "outputId": "9f62f667-830b-4ec9-86cc-4464581785de",
        "colab": {
          "base_uri": "https://localhost:8080/",
          "height": 35
        }
      },
      "source": [
        "sub.shape   # final submission file shape should match shape of test data"
      ],
      "execution_count": 230,
      "outputs": [
        {
          "output_type": "execute_result",
          "data": {
            "text/plain": [
              "(15903, 2)"
            ]
          },
          "metadata": {
            "tags": []
          },
          "execution_count": 230
        }
      ]
    },
    {
      "cell_type": "code",
      "metadata": {
        "id": "0xrq268EaHHf",
        "colab_type": "code",
        "outputId": "958085f1-ef94-494a-e34c-99d704b36004",
        "colab": {
          "base_uri": "https://localhost:8080/",
          "height": 35
        }
      },
      "source": [
        "# converting submission file into csv format as required\n",
        "import base64\n",
        "from IPython.display import HTML\n",
        "\n",
        "def create_download_link( sub, title = \"Download CSV file\", filename = \"sub.csv\"):  \n",
        "    csv = sub.to_csv(index=False)\n",
        "    b64 = base64.b64encode(csv.encode())\n",
        "    payload = b64.decode()\n",
        "    html = '<a download=\"{filename}\" href=\"data:text/csv;base64,{payload}\" target=\"_blank\">{title}</a>'\n",
        "    html = html.format(payload=payload,title=title,filename=filename)\n",
        "    return HTML(html)\n",
        "\n",
        "create_download_link(sub)"
      ],
      "execution_count": 231,
      "outputs": [
        {
          "output_type": "execute_result",
          "data": {
            "text/html": [
              "<a download=\"sub.csv\" href=\"data:text/csv;base64,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\" target=\"_blank\">Download CSV file</a>"
            ],
            "text/plain": [
              "<IPython.core.display.HTML object>"
            ]
          },
          "metadata": {
            "tags": []
          },
          "execution_count": 231
        }
      ]
    },
    {
      "cell_type": "code",
      "metadata": {
        "id": "2t9cBULTaHT6",
        "colab_type": "code",
        "colab": {}
      },
      "source": [
        ""
      ],
      "execution_count": 0,
      "outputs": []
    },
    {
      "cell_type": "code",
      "metadata": {
        "id": "59i6i3OdaHRX",
        "colab_type": "code",
        "colab": {}
      },
      "source": [
        ""
      ],
      "execution_count": 0,
      "outputs": []
    },
    {
      "cell_type": "code",
      "metadata": {
        "id": "bEt_xdDLaHCt",
        "colab_type": "code",
        "colab": {}
      },
      "source": [
        ""
      ],
      "execution_count": 0,
      "outputs": []
    },
    {
      "cell_type": "code",
      "metadata": {
        "id": "F1nkIpWTaG97",
        "colab_type": "code",
        "colab": {}
      },
      "source": [
        ""
      ],
      "execution_count": 0,
      "outputs": []
    },
    {
      "cell_type": "code",
      "metadata": {
        "id": "EOv4GcH4ROv4",
        "colab_type": "code",
        "colab": {}
      },
      "source": [
        ""
      ],
      "execution_count": 0,
      "outputs": []
    }
  ]
}